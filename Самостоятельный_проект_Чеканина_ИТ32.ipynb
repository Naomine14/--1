{
  "cells": [
    {
      "cell_type": "markdown",
      "metadata": {
        "id": "view-in-github",
        "colab_type": "text"
      },
      "source": [
        "<a href=\"https://colab.research.google.com/github/Naomine14/--1/blob/main/%D0%A1%D0%B0%D0%BC%D0%BE%D1%81%D1%82%D0%BE%D1%8F%D1%82%D0%B5%D0%BB%D1%8C%D0%BD%D1%8B%D0%B9_%D0%BF%D1%80%D0%BE%D0%B5%D0%BA%D1%82_%D0%A7%D0%B5%D0%BA%D0%B0%D0%BD%D0%B8%D0%BD%D0%B0_%D0%98%D0%A232.ipynb\" target=\"_parent\"><img src=\"https://colab.research.google.com/assets/colab-badge.svg\" alt=\"Open In Colab\"/></a>"
      ]
    },
    {
      "cell_type": "markdown",
      "metadata": {
        "id": "Gmsc3NU8T0uJ"
      },
      "source": [
        "# Добро пожаловать в самостоятельный проект\n",
        "\n",
        "Самостоятельный проект — это практическая проверка знаний, приобретённых вами на вводном курсе. Каждый раздел посвящён отдельной стадии анализа данных с экскурсом в основы Python.\n",
        "\n",
        "Проект выполняется в пять этапов:\n",
        "\n",
        "•\tПостановка задачи\n",
        "\n",
        "•\tПолучение данных\n",
        "\n",
        "•\tПредобработка данных\n",
        "\n",
        "•\tАнализ данных\n",
        "\n",
        "•\tОформление результатов\n",
        "\n",
        "Для каждой части описаны шаги выполнения c теоретическим приложением. В Jupyter Notebook эти шаги связаны между собой выводами и результатами.\n",
        "\n",
        "**Исследование: Музыка больших городов**\n",
        "\n",
        "Яндекс.Музыка — это крупный продукт с огромным запасом данных для исследований. Команды таких сервисов для поддержания интереса к продукту и привлечения новых пользователей часто проводят исследования про пользователей. Чтобы удержать клиентов и привлечь новых, сделать бренд более узнаваемым, команда сервиса проводит исследования аудитории, и публикует интересные результаты. Например, интересно сравнить тексты, сочинённые нейросетью, с произведениями настоящих рэперов.\n",
        "Есть исследование, которое напоминает наше: о музыкальных предпочтениях в разных городах России.\n",
        "Итак, вопрос вам: как музыка, которая звучит по дороге на работу в понедельник утром, отличается от той, что играет в среду или в конце рабочей недели? Возьмите данные для Москвы и Петербурга. Сравните, что и в каком режиме слушают их жители.\n",
        "\n",
        "План исследования\n",
        "\n",
        "1.\tПолучение данных. Прочитайте данные, ознакомьтесь с ними.\n",
        "\n",
        "2.\tПредобработка данных. Избавьтесь от дубликатов, проблем с названиями столбцов и пропусками.\n",
        "\n",
        "3.\tАнализ данных. Ответьте на основные вопросы исследования, подготовьте отчётную таблицу или опишите полученный результат.\n",
        "\n",
        "4.\tПодведение итогов. Просмотрите выполненную работу и сформулируйте выводы.\n"
      ]
    },
    {
      "cell_type": "markdown",
      "metadata": {
        "id": "0T8sHozWT0uc"
      },
      "source": [
        "# Этап 1. Получение данных\n",
        "\n",
        "Изучим данные, предоставленные сервисом для проекта.\n",
        "\n",
        "Прочитайте файл music_project.csv и сохраните его в переменной df.\n",
        "\n",
        "Получите  первых 10 строк таблицы, а также общую информацию о данных таблицы df."
      ]
    },
    {
      "cell_type": "code",
      "execution_count": null,
      "metadata": {
        "id": "SN5dzV3YT0ug",
        "outputId": "4d433b46-314d-447b-b00f-07e5d03e10f1"
      },
      "outputs": [
        {
          "name": "stdout",
          "output_type": "stream",
          "text": [
            "\n",
            "ПЕРВЫЕ 10 СТРОК ТАБЛИЦЫ\n",
            "\n",
            "     userID                        Track            artist   genre  \\\n",
            "0  FFB692EC            Kamigata To Boots  The Mass Missile    rock   \n",
            "1  55204538  Delayed Because of Accident  Andreas Rönnberg    rock   \n",
            "2    20EC38            Funiculì funiculà       Mario Lanza     pop   \n",
            "3  A3DD03C9        Dragons in the Sunset        Fire + Ice    folk   \n",
            "4  E2DC1FAE                  Soul People        Space Echo   dance   \n",
            "5  842029A1                    Преданная         IMPERVTOR  rusrap   \n",
            "6  4CB90AA5                         True      Roman Messer   dance   \n",
            "7  F03E1C1F             Feeling This Way   Polina Griffith   dance   \n",
            "8  8FA1D3BE     И вновь продолжается бой               NaN  ruspop   \n",
            "9  E772D5C0                    Pessimist               NaN   dance   \n",
            "\n",
            "             City        time        Day  \n",
            "0  Saint-Petersburg  20:28:33  Wednesday  \n",
            "1            Moscow  14:07:09     Friday  \n",
            "2  Saint-Petersburg  20:58:07  Wednesday  \n",
            "3  Saint-Petersburg  08:37:09     Monday  \n",
            "4            Moscow  08:34:34     Monday  \n",
            "5  Saint-Petersburg  13:09:41     Friday  \n",
            "6            Moscow  13:00:07  Wednesday  \n",
            "7            Moscow  20:47:49  Wednesday  \n",
            "8            Moscow  09:17:40     Friday  \n",
            "9  Saint-Petersburg  21:20:49  Wednesday  \n",
            "\n",
            "ИНФОРМАЦЯ О ТАБЛИЦЕ\n",
            "<class 'pandas.core.frame.DataFrame'>\n",
            "RangeIndex: 65079 entries, 0 to 65078\n",
            "Data columns (total 7 columns):\n",
            " #   Column    Non-Null Count  Dtype \n",
            "---  ------    --------------  ----- \n",
            " 0     userID  65079 non-null  object\n",
            " 1   Track     63848 non-null  object\n",
            " 2   artist    57876 non-null  object\n",
            " 3   genre     63881 non-null  object\n",
            " 4     City    65079 non-null  object\n",
            " 5   time      65079 non-null  object\n",
            " 6   Day       65079 non-null  object\n",
            "dtypes: object(7)\n",
            "memory usage: 3.5+ MB\n",
            "None\n"
          ]
        }
      ],
      "source": [
        "import pandas as pd\n",
        "df = pd.read_csv('yandex_music.csv')\n",
        "print(\"\\nПЕРВЫЕ 10 СТРОК ТАБЛИЦЫ\\n\")\n",
        "print(df.head(10))\n",
        "print(\"\\nИНФОРМАЦЯ О ТАБЛИЦЕ\")\n",
        "print(df.info())"
      ]
    },
    {
      "cell_type": "markdown",
      "metadata": {
        "id": "t7eDynEuT0uo"
      },
      "source": [
        "Рассмотрим полученную информацию подробнее.\n",
        "Всего в таблице 7 столбцов, тип данных у каждого столбца - строка.\n",
        "Подробно разберём, какие в df столбцы и какую информацию они содержат:\n",
        "•\tuserID — идентификатор пользователя;\n",
        "•\tTrack — название трека;\n",
        "•\tartist — имя исполнителя;\n",
        "•\tgenre — название жанра;\n",
        "•\tCity — город, в котором происходило прослушивание;\n",
        "•\ttime — время, в которое пользователь слушал трек;\n",
        "•\tDay — день недели.\n",
        "Количество значений в столбцах различается. Это говорит о том, что в данных есть пропущенные значения.\n"
      ]
    },
    {
      "cell_type": "markdown",
      "metadata": {
        "id": "GCr3rTOzT0ur"
      },
      "source": [
        "## Выводы:\n",
        "\n",
        "Каждая строка таблицы содержит информацию о композициях определённого жанра в определённом исполнении, которые пользователи слушали в одном из городов в определённое время и день недели. Две проблемы, которые нужно решать: пропуски и некачественные названия столбцов. Для проверки рабочих гипотез особенно ценны столбцы genre_name, city, total_play_seconds, day. Данные из столбца genre_name  позволят узнать самые популярные жанры."
      ]
    },
    {
      "cell_type": "markdown",
      "metadata": {
        "id": "kDIrBkljT0ut"
      },
      "source": [
        "# Этап 2. Предобработка данных\n",
        "\n",
        "Исключим пропуски, переименуем столбцы, а также проверим данные на наличие дубликатов.\n",
        "\n",
        "Получаем перечень названий столбцов. Какая наблюдается проблема — кроме тех, что уже были названы ранее?\n"
      ]
    },
    {
      "cell_type": "code",
      "execution_count": null,
      "metadata": {
        "id": "1yLcmL6FT0uv",
        "outputId": "3b57437d-0b18-437d-91dd-55784a53f08a"
      },
      "outputs": [
        {
          "name": "stdout",
          "output_type": "stream",
          "text": [
            "Index(['  userID', 'Track', 'artist', 'genre', '  City  ', 'time', 'Day'], dtype='object')\n"
          ]
        }
      ],
      "source": [
        "print(df.columns)"
      ]
    },
    {
      "cell_type": "markdown",
      "metadata": {
        "id": "h21AAi2OT0uy"
      },
      "source": [
        "В названиях столбцов есть пробелы, которые могут затруднять доступ к данным.\n",
        "\n",
        "Переименуем столбцы для удобства дальнейшей работы. Проверим результат.\n"
      ]
    },
    {
      "cell_type": "code",
      "execution_count": null,
      "metadata": {
        "id": "cMNw8m5YT0u0",
        "outputId": "42edd539-a6d8-45b1-9b66-5197b05d804f"
      },
      "outputs": [
        {
          "name": "stdout",
          "output_type": "stream",
          "text": [
            "Index(['user_id', 'track_name', 'artist_name', 'genre_name', 'city',\n",
            "       'total_play_seconds', 'day'],\n",
            "      dtype='object')\n"
          ]
        }
      ],
      "source": [
        "# <переименование столбцов>\n",
        "# <проверка результатов - перечень названий столбцов>\n",
        "\n",
        "\n",
        "new_names = {\n",
        "'  userID': 'user_id',\n",
        "'Track': 'track_name',\n",
        "'artist': 'artist_name',\n",
        "'genre': 'genre_name',\n",
        "'  City  ': 'city',\n",
        "'time': 'total_play_seconds',\n",
        "'Day': 'day'\n",
        "}\n",
        "\n",
        "df.rename(columns=new_names, inplace=True)\n",
        "print(df.columns)"
      ]
    },
    {
      "cell_type": "markdown",
      "metadata": {
        "id": "c7pUJBRgT0u3"
      },
      "source": [
        "Проверим данные на наличие пропусков вызовом набора методов для суммирования пропущенных значений."
      ]
    },
    {
      "cell_type": "code",
      "execution_count": null,
      "metadata": {
        "id": "PKv5wayHT0u6",
        "outputId": "185a6eee-90cb-4d31-de92-f66c7ad7ac45"
      },
      "outputs": [
        {
          "name": "stdout",
          "output_type": "stream",
          "text": [
            "user_id                  0\n",
            "track_name            1231\n",
            "artist_name           7203\n",
            "genre_name            1198\n",
            "city                     0\n",
            "total_play_seconds       0\n",
            "day                      0\n",
            "dtype: int64\n"
          ]
        }
      ],
      "source": [
        "# <суммарное количество пропусков, выявленных методом isnull() в таблице df>\n",
        "print(df.isnull().sum())"
      ]
    },
    {
      "cell_type": "markdown",
      "metadata": {
        "id": "t-ZEl4EHT0u9"
      },
      "source": [
        "Пустые значения свидетельствуют, что для некоторых треков доступна не вся информация. Причины могут быть разные: скажем, не назван конкретный исполнитель народной песни. Хуже, если проблемы с записью данных. Каждый отдельный случай необходимо разобрать и выявить причину.\n",
        "\n",
        "Заменяем пропущенные значения в столбцах с названием трека и исполнителя на строку 'unknown'. После этой операции нужно убедиться, что таблица больше не содержит пропусков.\n"
      ]
    },
    {
      "cell_type": "code",
      "execution_count": null,
      "metadata": {
        "id": "qqmjpqFiT0u_"
      },
      "outputs": [],
      "source": [
        "# <замена пропущенных значений в столбце 'track_name' на строку 'unknown' специальным методом замены>\n",
        "# <замена пропущенных значений в столбце 'artist_name' на строку 'unknown' специальным методом замены>\n",
        "\n",
        "df.fillna({'track_name':'unknown'}, inplace=True)\n",
        "\n",
        "df.fillna({'artist_name':'unknown'}, inplace=True)"
      ]
    },
    {
      "cell_type": "code",
      "execution_count": null,
      "metadata": {
        "id": "CuxS-uwIT0vA",
        "outputId": "8b9cf4b1-ae12-4a76-b67d-602ae4772986"
      },
      "outputs": [
        {
          "name": "stdout",
          "output_type": "stream",
          "text": [
            "user_id                  0\n",
            "track_name               0\n",
            "artist_name              0\n",
            "genre_name            1198\n",
            "city                     0\n",
            "total_play_seconds       0\n",
            "day                      0\n",
            "dtype: int64\n"
          ]
        }
      ],
      "source": [
        "# <проверка: вычисление суммарного количества пропусков, выявленных в таблице df>\n",
        "print(df.isnull().sum())"
      ]
    },
    {
      "cell_type": "markdown",
      "metadata": {
        "id": "iK7v5nmVT0vD"
      },
      "source": [
        "Удаляем в столбце с жанрами пустые значения; убеждаемся, что их больше не осталось."
      ]
    },
    {
      "cell_type": "code",
      "execution_count": null,
      "metadata": {
        "id": "KEkaSl9zT0vE",
        "outputId": "7dfc5b47-8078-4363-d1cc-255a90dacb65"
      },
      "outputs": [
        {
          "name": "stdout",
          "output_type": "stream",
          "text": [
            "user_id               0\n",
            "track_name            0\n",
            "artist_name           0\n",
            "genre_name            0\n",
            "city                  0\n",
            "total_play_seconds    0\n",
            "day                   0\n",
            "dtype: int64\n"
          ]
        }
      ],
      "source": [
        "# <удаление пропущенных значений в столбце 'genre_name'>\n",
        "# <проверка>\n",
        "\n",
        "\n",
        "df = df.dropna(subset=['genre_name'])\n",
        "df['genre_name'] = df['genre_name'].replace('электроника', 'electronic')\n",
        "print(df.isnull().sum())"
      ]
    },
    {
      "cell_type": "markdown",
      "metadata": {
        "id": "VLjCtEpKT0vG"
      },
      "source": [
        "Необходимо установить наличие дубликатов. Если найдутся, удаляем, и проверяем, все ли удалились."
      ]
    },
    {
      "cell_type": "code",
      "execution_count": null,
      "metadata": {
        "id": "wng-cUAdT0vI",
        "outputId": "d4642dc8-e3e5-4e5a-dd53-f9cfa3b33512"
      },
      "outputs": [
        {
          "name": "stdout",
          "output_type": "stream",
          "text": [
            "Суммарное количество дубликатов: 3755\n"
          ]
        }
      ],
      "source": [
        "# <получение суммарного количества дубликатов в таблице df>\n",
        "\n",
        "duplicate_count = df.duplicated().sum()\n",
        "print('Суммарное количество дубликатов:', duplicate_count)"
      ]
    },
    {
      "cell_type": "code",
      "execution_count": null,
      "metadata": {
        "id": "FHO8Zn_mT0vL",
        "outputId": "bd5ed0c8-dad8-4612-c3e2-dac5f4ec0b2f"
      },
      "outputs": [
        {
          "name": "stdout",
          "output_type": "stream",
          "text": [
            "Суммарное количество дубликатов после их удаления: 0\n"
          ]
        }
      ],
      "source": [
        "# <удаление всех дубликатов из таблицы df специальным методом>\n",
        "df = df.drop_duplicates().reset_index(drop=True)\n",
        "\n",
        "# <проверка на отсутствие>\n",
        "duplicate_count = df.duplicated().sum()\n",
        "print('Суммарное количество дубликатов после их удаления:', duplicate_count)"
      ]
    },
    {
      "cell_type": "markdown",
      "metadata": {
        "id": "wZdft0SKT0vN"
      },
      "source": [
        "Дубликаты могли появиться вследствие сбоя в записи данных. Стоит обратить внимание и разобраться с причинами появления такого «информационного мусора».\n",
        "\n",
        "Сохраняем список уникальных значений столбца с жанрами в переменной genres_list.\n",
        "\n",
        "Объявим функцию find_genre() для поиска неявных дубликатов в столбце с жанрами. Например, когда название одного и того же жанра написано разными словами.\n"
      ]
    },
    {
      "cell_type": "code",
      "execution_count": null,
      "metadata": {
        "id": "b7NOe5WnT0vQ",
        "outputId": "743f184a-68bb-47c9-c89b-4d3cfe7f72b8"
      },
      "outputs": [
        {
          "name": "stdout",
          "output_type": "stream",
          "text": [
            "['rock' 'pop' 'folk' 'dance' 'rusrap' 'ruspop' 'world' 'electronic'\n",
            " 'alternative' 'children' 'rnb' 'hip' 'jazz' 'postrock' 'latin'\n",
            " 'classical' 'metal' 'reggae' 'tatar' 'blues' 'instrumental' 'rusrock'\n",
            " 'dnb' 'türk' 'post' 'country' 'psychedelic' 'conjazz' 'indie'\n",
            " 'posthardcore' 'local' 'avantgarde' 'punk' 'videogame' 'techno' 'house'\n",
            " 'christmas' 'melodic' 'caucasian' 'reggaeton' 'soundtrack' 'singer' 'ska'\n",
            " 'shanson' 'ambient' 'film' 'western' 'rap' 'beats' \"hard'n'heavy\"\n",
            " 'progmetal' 'minimal' 'contemporary' 'new' 'soul' 'holiday' 'german'\n",
            " 'tropical' 'fairytail' 'spiritual' 'urban' 'gospel' 'nujazz' 'folkmetal'\n",
            " 'trance' 'miscellaneous' 'anime' 'hardcore' 'progressive' 'chanson'\n",
            " 'numetal' 'vocal' 'estrada' 'russian' 'classicmetal' 'dubstep' 'club'\n",
            " 'deep' 'southern' 'black' 'folkrock' 'fitness' 'french' 'disco'\n",
            " 'religious' 'hiphop' 'drum' 'extrememetal' 'türkçe' 'experimental' 'easy'\n",
            " 'metalcore' 'modern' 'argentinetango' 'old' 'breaks' 'eurofolk'\n",
            " 'stonerrock' 'industrial' 'funk' 'jpop' 'middle' 'variété' 'other'\n",
            " 'adult' 'christian' 'gothic' 'international' 'muslim' 'relax' 'schlager'\n",
            " 'caribbean' 'ukrrock' 'nu' 'breakbeat' 'comedy' 'chill' 'newage'\n",
            " 'specialty' 'uzbek' 'k-pop' 'balkan' 'chinese' 'meditative' 'dub' 'power'\n",
            " 'death' 'grime' 'arabesk' 'romance' 'flamenco' 'leftfield' 'european'\n",
            " 'tech' 'newwave' 'dancehall' 'mpb' 'piano' 'top' 'bigroom' 'opera'\n",
            " 'celtic' 'tradjazz' 'acoustic' 'epicmetal' 'hip-hop' 'historisch'\n",
            " 'downbeat' 'downtempo' 'africa' 'audiobook' 'jewish' 'sängerportrait'\n",
            " 'deutschrock' 'eastern' 'action' 'future' 'electropop' 'folklore'\n",
            " 'bollywood' 'marschmusik' 'rnr' 'karaoke' 'indian' 'rancheras'\n",
            " 'afrikaans' 'tango' 'rhythm' 'sound' 'deutschspr' 'trip' 'lovers'\n",
            " 'choral' 'dancepop' 'podcasts' 'retro' 'smooth' 'mexican' 'brazilian'\n",
            " 'ïîï' 'mood' 'surf' 'author' 'gangsta' 'triphop' 'inspirational' 'idm'\n",
            " 'ethnic' 'bluegrass' 'broadway' 'animated' 'americana' 'karadeniz'\n",
            " 'rockabilly' 'colombian' 'self' 'hop' 'synthrock' 'sertanejo' 'japanese'\n",
            " 'canzone' 'swing' 'lounge' 'sport' 'korean' 'ragga' 'traditional'\n",
            " 'gitarre' 'frankreich' 'alternativepunk' 'emo' 'laiko' 'cantopop'\n",
            " 'glitch' 'documentary' 'rockalternative' 'thrash' 'hymn' 'oceania'\n",
            " 'rockother' 'popeurodance' 'dark' 'vi' 'grunge' 'hardstyle' 'samba'\n",
            " 'garage' 'soft' 'art' 'folktronica' 'entehno' 'mediterranean' 'chamber'\n",
            " 'cuban' 'taraftar' 'rockindie' 'gypsy' 'hardtechno' 'shoegazing'\n",
            " 'skarock' 'bossa' 'salsa' 'latino' 'worldbeat' 'malaysian' 'baile'\n",
            " 'ghazal' 'loungeelectronic' 'arabic' 'popelectronic' 'acid' 'kayokyoku'\n",
            " 'neoklassik' 'tribal' 'tanzorchester' 'native' 'independent' 'cantautori'\n",
            " 'handsup' 'poprussian' 'punjabi' 'synthpop' 'rave' 'französisch'\n",
            " 'quebecois' 'speech' 'soulful' 'teen' 'jam' 'ram' 'horror' 'scenic'\n",
            " 'orchestral' 'neue' 'roots' 'slow' 'jungle' 'indipop' 'axé' 'fado'\n",
            " 'showtunes' 'arena' 'irish' 'mandopop' 'forró' 'popdance' 'dirty'\n",
            " 'regional']\n"
          ]
        }
      ],
      "source": [
        "# <сохранение в переменной genres_list списка уникальных значений,\n",
        "# выявленных специальным методом в столбце 'genre_name'>\n",
        "\n",
        "genres_list = df[\"genre_name\"].unique()\n",
        "print(genres_list)"
      ]
    },
    {
      "cell_type": "code",
      "execution_count": null,
      "metadata": {
        "id": "3ljVjCFWT0vS"
      },
      "outputs": [],
      "source": [
        "# <создание функции find_genre()>\n",
        "# функция принимает как параметр строку с названием искомого жанра\n",
        "# в теле объявляется переменная-счётчик, ей присваивается значение 0,\n",
        "# затем цикл for проходит по списку уникальных значений\n",
        "# если очередной элемент списка равен параметру функции,\n",
        "# то значение счётчика увеличивается на 1\n",
        "# по окончании работы цикла функция возвращает значение счётчика\n",
        "\n",
        "\n",
        "def find_genre(genre):\n",
        "    counter = 0\n",
        "    unique_genres = df['genre_name'].unique()\n",
        "    for gen in genres_list:\n",
        "        if gen == genre:\n",
        "            counter += 1\n",
        "    return counter\n"
      ]
    },
    {
      "cell_type": "markdown",
      "metadata": {
        "id": "scMRpJHxT0vU"
      },
      "source": [
        "Вызов функции find_genre() для поиска различных вариантов названия жанра хип-хоп в таблице.\n",
        "\n",
        "Правильное название — hiphop. Поищем другие варианты:\n",
        "\n",
        "•\thip\n",
        "\n",
        "•\thop\n",
        "\n",
        "•\thip-hop\n"
      ]
    },
    {
      "cell_type": "code",
      "execution_count": null,
      "metadata": {
        "id": "OkypWOf-T0vV",
        "outputId": "63ac1104-1092-44fa-8dc2-c19a4b9de568"
      },
      "outputs": [
        {
          "data": {
            "text/plain": [
              "1"
            ]
          },
          "execution_count": 13,
          "metadata": {},
          "output_type": "execute_result"
        }
      ],
      "source": [
        "# <вызовом функции find_genre() проверяется наличие варианта 'hip'>\n",
        "find_genre('hip')"
      ]
    },
    {
      "cell_type": "code",
      "execution_count": null,
      "metadata": {
        "id": "fmcoiBnDT0vX",
        "outputId": "82a90f12-0333-43de-ac17-d2afdeab3af4"
      },
      "outputs": [
        {
          "data": {
            "text/plain": [
              "1"
            ]
          },
          "execution_count": 14,
          "metadata": {},
          "output_type": "execute_result"
        }
      ],
      "source": [
        "# <проверяется наличие варианта 'hop'>\n",
        "find_genre('hop')"
      ]
    },
    {
      "cell_type": "code",
      "execution_count": null,
      "metadata": {
        "id": "FYPpVoYaT0vZ",
        "outputId": "beb2e7ba-064e-43fa-e04b-d2251b600f5b"
      },
      "outputs": [
        {
          "data": {
            "text/plain": [
              "1"
            ]
          },
          "execution_count": 15,
          "metadata": {},
          "output_type": "execute_result"
        }
      ],
      "source": [
        "# <проверяется наличие варианта 'hip-hop'>\n",
        "find_genre('hip-hop')"
      ]
    },
    {
      "cell_type": "markdown",
      "metadata": {
        "id": "-7_yNOQlT0vb"
      },
      "source": [
        "Объявим функцию find_hip_hop(), которая заменяет неправильное название этого жанра в столбце 'genre_name' на 'hiphop' и проверяет успешность выполнения замены.\n",
        "\n",
        "Так исправляем все варианты написания, которые выявила проверка.\n"
      ]
    },
    {
      "cell_type": "code",
      "execution_count": null,
      "metadata": {
        "id": "4VLVV9DFT0vc",
        "outputId": "118fa89e-fc74-4963-e10b-0448aeed291b"
      },
      "outputs": [
        {
          "name": "stdout",
          "output_type": "stream",
          "text": [
            "79\n"
          ]
        }
      ],
      "source": [
        "# <создание функции find_hip_hop()>\n",
        "# функция принимает как параметры таблицу df и неверное название\n",
        "# к столбцу 'genre_name' применяется специальный метод,\n",
        "# который заменяет второй параметр на строку 'hiphop'\n",
        "# результат работы равен подсчитанному методом count() числу\n",
        "# значений столбца,\n",
        "# которые равны второму параметру\n",
        "# функция возвращает результат\n",
        "\n",
        "# <замена одного неверного варианта на hiphop вызовом функции find_hip_hop()>\n",
        "\n",
        "def find_hip_hop(df, incorrect_column_name):\n",
        "    # Заменяем неверное название на 'hiphop'\n",
        "    df[incorrect_column_name] = df[incorrect_column_name].replace(incorrect_column_name, 'hiphop')\n",
        "    count_hiphop = (df[incorrect_column_name] == 'hiphop').sum()\n",
        "    return count_hiphop\n",
        "\n",
        "result = find_hip_hop(df, 'genre_name')\n",
        "print(result)\n",
        "\n"
      ]
    },
    {
      "cell_type": "markdown",
      "metadata": {
        "id": "wVLB3X7-T0ve"
      },
      "source": [
        "Получаем общую информацию о данных. Убеждаемся, что чистка выполнена успешно."
      ]
    },
    {
      "cell_type": "code",
      "execution_count": null,
      "metadata": {
        "id": "aYyyzUY-T0vg",
        "outputId": "190b55ed-4a2e-4291-c75d-4abcf400d7cb"
      },
      "outputs": [
        {
          "name": "stdout",
          "output_type": "stream",
          "text": [
            "Index(['user_id', 'track_name', 'artist_name', 'genre_name', 'city',\n",
            "       'total_play_seconds', 'day'],\n",
            "      dtype='object')\n",
            "user_id               0\n",
            "track_name            0\n",
            "artist_name           0\n",
            "genre_name            0\n",
            "city                  0\n",
            "total_play_seconds    0\n",
            "day                   0\n",
            "dtype: int64\n",
            "    user_id                   track_name       artist_name genre_name  \\\n",
            "0  FFB692EC            Kamigata To Boots  The Mass Missile       rock   \n",
            "1  55204538  Delayed Because of Accident  Andreas Rönnberg       rock   \n",
            "2    20EC38            Funiculì funiculà       Mario Lanza        pop   \n",
            "3  A3DD03C9        Dragons in the Sunset        Fire + Ice       folk   \n",
            "4  E2DC1FAE                  Soul People        Space Echo      dance   \n",
            "\n",
            "               city total_play_seconds        day  \n",
            "0  Saint-Petersburg           20:28:33  Wednesday  \n",
            "1            Moscow           14:07:09     Friday  \n",
            "2  Saint-Petersburg           20:58:07  Wednesday  \n",
            "3  Saint-Petersburg           08:37:09     Monday  \n",
            "4            Moscow           08:34:34     Monday  \n"
          ]
        }
      ],
      "source": [
        "# <получение общей информации о данных таблицы df>\n",
        "print(df.columns)\n",
        "\n",
        "print(df.isnull().sum())\n",
        "\n",
        "print(df.head(5))"
      ]
    },
    {
      "cell_type": "markdown",
      "metadata": {
        "id": "MHwLd29iT0vi"
      },
      "source": [
        "## Вывод\n",
        "\n",
        "На этапе предобработки в данных обнаружились не только пропуски и проблемы с названиями столбцов, но и всяческие виды дубликатов. Их удаление позволит провести анализ точнее. Поскольку сведения о жанрах важно сохранить для анализа, не просто удаляем все пропущенные значения, но заполним пропущенные имена исполнителей и названия треков. Имена столбцов теперь корректны и удобны для дальнейшей работы.\n"
      ]
    },
    {
      "cell_type": "markdown",
      "metadata": {
        "id": "UZ12vcNZT0vk"
      },
      "source": [
        "# Действительно ли музыку в разных городах слушают по-разному?\n",
        "\n",
        "Была выдвинута гипотеза, что в Москве и Санкт-Петербурге пользователи слушают музыку по-разному. Проверяем это предположение по данным о трёх днях недели — понедельнике, среде и пятнице.\n",
        "\n",
        "Для каждого города устанавливаем количество прослушанных в эти дни композиций с известным жанром, и сравниваем результаты.\n",
        "Группируем данные по городу и вызовом метода count() подсчитываем композиции, для которых известен жанр.\n"
      ]
    },
    {
      "cell_type": "code",
      "execution_count": null,
      "metadata": {
        "id": "2Gmt0LM8T0vl",
        "outputId": "bef2a7e4-d2d3-454c-ca9a-9c2dce9162c9"
      },
      "outputs": [
        {
          "name": "stdout",
          "output_type": "stream",
          "text": [
            "                 city   genre_name  count\n",
            "0              Moscow          pop   5892\n",
            "1              Moscow        dance   4435\n",
            "2              Moscow         rock   3965\n",
            "3              Moscow   electronic   3786\n",
            "4              Moscow          hip   2041\n",
            "..                ...          ...    ...\n",
            "474  Saint-Petersburg  traditional      1\n",
            "475  Saint-Petersburg       tribal      1\n",
            "476  Saint-Petersburg         trip      1\n",
            "477  Saint-Petersburg           vi      1\n",
            "478  Saint-Petersburg    worldbeat      1\n",
            "\n",
            "[479 rows x 3 columns]\n"
          ]
        }
      ],
      "source": [
        "# <группировка данных таблицы df по столбцу 'city' и подсчёт количества значений столбца 'genre_name'>\n",
        "\n",
        "group_city = df.groupby('city')['genre_name'].value_counts().reset_index(name='count')\n",
        "\n",
        "print(group_city)"
      ]
    },
    {
      "cell_type": "markdown",
      "metadata": {
        "id": "6hYhMO_VT0vo"
      },
      "source": [
        "В Москве прослушиваний больше, чем в Питере, но это не значит, что Москва более активна. У Яндекс.Музыки в целом больше пользователей в Москве, поэтому величины сопоставимы.\n",
        "Сгруппируем данные по дню недели и подсчитаем прослушанные в понедельник, среду и пятницу композиции, для которых известен жанр.\n"
      ]
    },
    {
      "cell_type": "code",
      "execution_count": null,
      "metadata": {
        "id": "fK1wtUzyT0vp",
        "outputId": "81382947-7661-45be-baa7-15535f61e2f6"
      },
      "outputs": [
        {
          "name": "stdout",
          "output_type": "stream",
          "text": [
            "           day   genre_name  count\n",
            "0       Friday          pop   2914\n",
            "1       Friday        dance   2241\n",
            "2       Friday         rock   2090\n",
            "3       Friday   electronic   1986\n",
            "4       Friday          hip   1121\n",
            "..         ...          ...    ...\n",
            "679  Wednesday  traditional      1\n",
            "680  Wednesday         trip      1\n",
            "681  Wednesday         türk      1\n",
            "682  Wednesday           vi      1\n",
            "683  Wednesday    worldbeat      1\n",
            "\n",
            "[684 rows x 3 columns]\n"
          ]
        }
      ],
      "source": [
        "# <группировка данных по столбцу 'weekday' и подсчёт количества значений столбца 'genre_name'>\n",
        "\n",
        "group_day = df.groupby('day')['genre_name'].value_counts().reset_index(name='count')\n",
        "\n",
        "print(group_day)"
      ]
    },
    {
      "cell_type": "markdown",
      "metadata": {
        "id": "J67OIdu6T0vr"
      },
      "source": [
        "Понедельник и пятница — время для музыки; по средам пользователи немного больше вовлечены в работу.\n",
        "\n",
        "Создаём функцию number_tracks(), которая принимает как параметры таблицу, день недели и название города, а возвращает количество прослушанных композиций, для которых известен жанр. Проверяем количество прослушанных композиций для каждого города и понедельника, затем среды и пятницы.\n"
      ]
    },
    {
      "cell_type": "code",
      "execution_count": null,
      "metadata": {
        "id": "fI_P-s_ZT0vs"
      },
      "outputs": [],
      "source": [
        "# <создание функции number_tracks()>\n",
        "# объявляется функция с тремя параметрами: df, day, city\n",
        "# в переменной track_list сохраняются те строки таблицы df, для которых\n",
        "# значение в столбце 'weekday' равно параметру day\n",
        "# и одновременно значение в столбце 'city' равно параметру city\n",
        "# в переменной track_list_count сохраняется число значений столбца 'genre_name',\n",
        "# рассчитанное методом count() для таблицы track_list\n",
        "# функция возвращает значение track_list_count\n",
        "\n",
        "def number_tracks(df, day, city):\n",
        "    track_list = df[(df['day'] == day) & (df['city'] == city)]\n",
        "    track_list_count = track_list['genre_name'].count()\n",
        "    return track_list_count\n"
      ]
    },
    {
      "cell_type": "code",
      "execution_count": null,
      "metadata": {
        "id": "bx7JTnbFT0vu",
        "outputId": "420ca8bb-a908-4fc1-ef59-1a7624800997"
      },
      "outputs": [
        {
          "name": "stdout",
          "output_type": "stream",
          "text": [
            "15347\n"
          ]
        }
      ],
      "source": [
        "# <список композиций для Москвы в понедельник>\n",
        "result_MM = number_tracks(df, 'Monday', 'Moscow')\n",
        "print(result_MM)\n"
      ]
    },
    {
      "cell_type": "code",
      "execution_count": null,
      "metadata": {
        "id": "SlbRBeQwT0vw",
        "outputId": "23fed6ed-c431-4653-8eb7-b489cb87229d"
      },
      "outputs": [
        {
          "name": "stdout",
          "output_type": "stream",
          "text": [
            "5519\n"
          ]
        }
      ],
      "source": [
        "# <список композиций для Санкт-Петербурга в понедельник>\n",
        "result_MS = number_tracks(df, 'Monday', 'Saint-Petersburg')\n",
        "print(result_MS)"
      ]
    },
    {
      "cell_type": "code",
      "execution_count": null,
      "metadata": {
        "id": "X-zVfb8XT0xU",
        "outputId": "55459aba-8a0e-423c-894c-a474a161138f"
      },
      "outputs": [
        {
          "name": "stdout",
          "output_type": "stream",
          "text": [
            "10865\n"
          ]
        }
      ],
      "source": [
        "# <список композиций для Москвы в среду>\n",
        "\n",
        "result_WM = number_tracks(df, 'Wednesday', 'Moscow')\n",
        "print(result_WM)"
      ]
    },
    {
      "cell_type": "code",
      "execution_count": null,
      "metadata": {
        "id": "5pP8YC9ET0xX",
        "outputId": "8be390e7-12c4-4bae-9317-ca26c3312817"
      },
      "outputs": [
        {
          "name": "stdout",
          "output_type": "stream",
          "text": [
            "6913\n"
          ]
        }
      ],
      "source": [
        "# <список композиций для Санкт-Петербурга в среду>\n",
        "\n",
        "result_WS = number_tracks(df, 'Wednesday', 'Saint-Petersburg')\n",
        "print(result_WS)"
      ]
    },
    {
      "cell_type": "code",
      "execution_count": null,
      "metadata": {
        "id": "gQyM3eEaT0xZ",
        "outputId": "dc60812f-d898-4e2a-a791-5a4f0ddd878d"
      },
      "outputs": [
        {
          "name": "stdout",
          "output_type": "stream",
          "text": [
            "15680\n"
          ]
        }
      ],
      "source": [
        "# <список композиций для Москвы в пятницу>\n",
        "\n",
        "result_FM = number_tracks(df, 'Friday', 'Moscow')\n",
        "print(result_FM)"
      ]
    },
    {
      "cell_type": "code",
      "execution_count": null,
      "metadata": {
        "id": "wSF4eEVPT0xb",
        "outputId": "88bebafc-38af-43cd-8b13-ad21ecdf505e"
      },
      "outputs": [
        {
          "name": "stdout",
          "output_type": "stream",
          "text": [
            "5802\n"
          ]
        }
      ],
      "source": [
        "# <список композиций для Санкт-Петербурга в пятницу>\n",
        "\n",
        "result_FS = number_tracks(df, 'Friday', 'Saint-Petersburg')\n",
        "print(result_FS)"
      ]
    },
    {
      "cell_type": "markdown",
      "metadata": {
        "id": "mF4ALuVJT0xf"
      },
      "source": [
        "Сведём полученную информацию в одну таблицу, где ['city', 'monday', 'wednesday', 'friday'] названия столбцов."
      ]
    },
    {
      "cell_type": "code",
      "execution_count": null,
      "metadata": {
        "id": "b2coIBj0T0xh",
        "outputId": "633cb1bd-7605-459d-cb4f-d10f4b9f295c"
      },
      "outputs": [
        {
          "name": "stdout",
          "output_type": "stream",
          "text": [
            "               city  monday  wednesday  friday\n",
            "0  Saint-Petersburg    5519       6913    5802\n",
            "1            Moscow   15347      10865   15680\n"
          ]
        }
      ],
      "source": [
        "# <таблица с полученными данными>\n",
        "\n",
        "cities = df['city'].unique()\n",
        "results = {'city': [], 'monday': [], 'wednesday': [], 'friday': []}\n",
        "\n",
        "for city in cities:\n",
        "    results['city'].append(city)\n",
        "    results['monday'].append(number_tracks(df, 'Monday', city))\n",
        "    results['wednesday'].append(number_tracks(df, 'Wednesday', city))\n",
        "    results['friday'].append(number_tracks(df, 'Friday', city))\n",
        "\n",
        "summary_df = pd.DataFrame(results)\n",
        "print(summary_df)"
      ]
    },
    {
      "cell_type": "markdown",
      "metadata": {
        "id": "fYezLnIcT0xk"
      },
      "source": [
        "## Вывод\n",
        "\n",
        "Мы сделали таблицу, с помощью которой мы можем легче рассмотреть данные для составления выводов. В первую очередь, мы видим что чаще музыку слушают в Москве, нежели в Санкт-Петербурге. В Москве чаще музыку слушают в понедельник и пятницу, в то время как в Питере наибольшое количество прослушиваний песен достигается в среду. Но не стоит забывать о том, что в Москве в целом пользователей больше, нежели в Санкт-Петербурге, но это изменяет факта зависимости прослушиваний от дня недели."
      ]
    },
    {
      "cell_type": "markdown",
      "metadata": {
        "id": "ncy8svRoT0xm"
      },
      "source": [
        "# Утро понедельника и вечер пятницы — разная музыка или одна и та же?\n",
        "\n",
        "Ищем ответ на вопрос, какие жанры преобладают в разных городах в понедельник утром и в пятницу вечером. Есть предположение, что в понедельник утром пользователи слушают больше бодрящей музыки (например, жанра поп), а вечером пятницы — больше танцевальных (например, электронику).\n",
        "Получим таблицы данных по Москве moscow_general и по Санкт-Петербургу spb_general.\n"
      ]
    },
    {
      "cell_type": "code",
      "execution_count": null,
      "metadata": {
        "id": "j4PVoBqeT0xn",
        "outputId": "b7aaccf5-05a2-4ffb-9ae7-7297f5dbcfa6"
      },
      "outputs": [
        {
          "name": "stdout",
          "output_type": "stream",
          "text": [
            "        user_id                     track_name              artist_name  \\\n",
            "1      55204538    Delayed Because of Accident         Andreas Rönnberg   \n",
            "4      E2DC1FAE                    Soul People               Space Echo   \n",
            "6      4CB90AA5                           True             Roman Messer   \n",
            "7      F03E1C1F               Feeling This Way          Polina Griffith   \n",
            "8      8FA1D3BE       И вновь продолжается бой                  unknown   \n",
            "...         ...                            ...                      ...   \n",
            "60120  83A474E7  I Worship Only What You Bleed  The Black Dahlia Murder   \n",
            "60121  729CBB09                        My Name                   McLean   \n",
            "60123  C5E3A0D5                      Jalopiina                  unknown   \n",
            "60124  321D0506                  Freight Train            Chas McDevitt   \n",
            "60125  3A64EF84      Tell Me Sweet Little Lies             Monica Lopez   \n",
            "\n",
            "         genre_name    city total_play_seconds        day  \n",
            "1              rock  Moscow           14:07:09     Friday  \n",
            "4             dance  Moscow           08:34:34     Monday  \n",
            "6             dance  Moscow           13:00:07  Wednesday  \n",
            "7             dance  Moscow           20:47:49  Wednesday  \n",
            "8            ruspop  Moscow           09:17:40     Friday  \n",
            "...             ...     ...                ...        ...  \n",
            "60120  extrememetal  Moscow           21:07:12     Monday  \n",
            "60121           rnb  Moscow           13:32:28  Wednesday  \n",
            "60123    industrial  Moscow           20:09:26     Friday  \n",
            "60124          rock  Moscow           21:43:59     Friday  \n",
            "60125       country  Moscow           21:59:46     Friday  \n",
            "\n",
            "[41892 rows x 7 columns]\n"
          ]
        }
      ],
      "source": [
        "# получение таблицы moscow_general из тех строк таблицы df,\n",
        "# для которых значение в столбце 'city' равно 'Moscow'\n",
        "\n",
        "moscow_general = df[df['city'] == 'Moscow']\n",
        "print(moscow_general)\n"
      ]
    },
    {
      "cell_type": "code",
      "execution_count": null,
      "metadata": {
        "id": "-mgRHos2T0xp",
        "outputId": "8967e904-8eaa-4b9f-c58e-c483e853d106"
      },
      "outputs": [
        {
          "name": "stdout",
          "output_type": "stream",
          "text": [
            "        user_id                         track_name         artist_name  \\\n",
            "0      FFB692EC                  Kamigata To Boots    The Mass Missile   \n",
            "2        20EC38                  Funiculì funiculà         Mario Lanza   \n",
            "3      A3DD03C9              Dragons in the Sunset          Fire + Ice   \n",
            "5      842029A1                          Преданная           IMPERVTOR   \n",
            "9      E772D5C0                          Pessimist             unknown   \n",
            "...         ...                                ...                 ...   \n",
            "60112  D94F810B        Theme from the Walking Dead  Proyecto Halloween   \n",
            "60113  BC8EC5CF       Red Lips: Gta (Rover Rework)               Rover   \n",
            "60114  29E04611                       Bre Petrunko       Perunika Trio   \n",
            "60115  1B91C621             (Hello) Cloud Mountain     sleepmakeswaves   \n",
            "60122  D08D4A55  Maybe One Day (feat. Black Spade)         Blu & Exile   \n",
            "\n",
            "       genre_name              city total_play_seconds        day  \n",
            "0            rock  Saint-Petersburg           20:28:33  Wednesday  \n",
            "2             pop  Saint-Petersburg           20:58:07  Wednesday  \n",
            "3            folk  Saint-Petersburg           08:37:09     Monday  \n",
            "5          rusrap  Saint-Petersburg           13:09:41     Friday  \n",
            "9           dance  Saint-Petersburg           21:20:49  Wednesday  \n",
            "...           ...               ...                ...        ...  \n",
            "60112        film  Saint-Petersburg           21:14:40     Monday  \n",
            "60113  electronic  Saint-Petersburg           21:06:50     Monday  \n",
            "60114       world  Saint-Petersburg           13:56:00     Monday  \n",
            "60115    postrock  Saint-Petersburg           09:22:13     Monday  \n",
            "60122         hip  Saint-Petersburg           10:00:00     Monday  \n",
            "\n",
            "[18234 rows x 7 columns]\n"
          ]
        }
      ],
      "source": [
        "# <получение таблицы spb_general>\n",
        "spb_general = df[df['city'] == 'Saint-Petersburg']\n",
        "print(spb_general)"
      ]
    },
    {
      "cell_type": "markdown",
      "metadata": {
        "id": "610K53JlT0xr"
      },
      "source": [
        "Создаём функцию genre_weekday(), которая возвращает список жанров по запрошенному дню недели и времени суток с такого-то часа по такой-то."
      ]
    },
    {
      "cell_type": "code",
      "execution_count": null,
      "metadata": {
        "id": "r2K9miELT0xs"
      },
      "outputs": [],
      "source": [
        "# объявление функции genre_weekday() с параметрами df, day, time1, time2\n",
        "# в переменной genre_list сохраняются те строки df, для которых одновременно:\n",
        "# 1) значение в столбце 'weekday' равно параметру day,\n",
        "# 2) значение в столбце 'time' больше time1 и\n",
        "# 3) меньше time2.\n",
        "# в переменной genre_list_sorted сохраняются в порядке убывания\n",
        "# первые 10 значений Series, полученной подсчётом числа значений 'genre_name'\n",
        "# сгруппированной по столбцу 'genre_name' таблицы genre_list\n",
        "# функция возвращает значение genre_list_sorted\n",
        "\n",
        "\n",
        "\n",
        "def genre_weekday(df, day, time1, time2):\n",
        "    genre_list = df[(df['day'] == day) & (df['total_play_seconds'] > time1) & (df['total_play_seconds'] < time2)]\n",
        "    genre_list_sorted = genre_list['genre_name'].value_counts().head(10)\n",
        "    return genre_list_sorted\n"
      ]
    },
    {
      "cell_type": "markdown",
      "metadata": {
        "id": "PFnjvf1nT0xt"
      },
      "source": [
        "Cравниваем полученные результаты по таблице для Москвы и Санкт-Петербурга в понедельник утром (с 7 до 11) и в пятницу вечером (с 17 до 23)."
      ]
    },
    {
      "cell_type": "code",
      "execution_count": null,
      "metadata": {
        "id": "eKppzC1lT0xv",
        "outputId": "cce8dba2-7d57-46b5-9f3e-9b265008f867"
      },
      "outputs": [
        {
          "name": "stdout",
          "output_type": "stream",
          "text": [
            "genre_name\n",
            "pop            781\n",
            "dance          549\n",
            "electronic     480\n",
            "rock           474\n",
            "hip            281\n",
            "ruspop         186\n",
            "world          181\n",
            "rusrap         175\n",
            "alternative    164\n",
            "classical      157\n",
            "Name: count, dtype: int64\n"
          ]
        }
      ],
      "source": [
        "# <вызов функции для утра понедельника в Москве (вместо df таблица moscow_general)>\n",
        "\n",
        "result_MMM = genre_weekday(moscow_general, 'Monday', '07:00:00', '11:00:00')\n",
        "print(result_MMM)\n"
      ]
    },
    {
      "cell_type": "code",
      "execution_count": null,
      "metadata": {
        "id": "InpzRdTlT0xy",
        "outputId": "16f8ae31-7355-4810-cd99-0fa9664602ef"
      },
      "outputs": [
        {
          "name": "stdout",
          "output_type": "stream",
          "text": [
            "genre_name\n",
            "pop            218\n",
            "dance          182\n",
            "rock           162\n",
            "electronic     147\n",
            "hip             79\n",
            "ruspop          64\n",
            "alternative     58\n",
            "rusrap          55\n",
            "jazz            44\n",
            "classical       40\n",
            "Name: count, dtype: int64\n"
          ]
        }
      ],
      "source": [
        "# <вызов функции для утра понедельника в Петербурге (вместо df таблица spb_general)>\n",
        "\n",
        "result_MMS = genre_weekday(spb_general, 'Monday', '07:00:00', '11:00:00')\n",
        "print(result_MMS)"
      ]
    },
    {
      "cell_type": "code",
      "execution_count": null,
      "metadata": {
        "id": "6oYo4PAqT0x0",
        "outputId": "444d0200-e739-47f5-f30e-1e33eb5046bc"
      },
      "outputs": [
        {
          "name": "stdout",
          "output_type": "stream",
          "text": [
            "genre_name\n",
            "pop            713\n",
            "rock           517\n",
            "dance          495\n",
            "electronic     482\n",
            "hip            267\n",
            "world          208\n",
            "ruspop         170\n",
            "alternative    163\n",
            "classical      163\n",
            "rusrap         142\n",
            "Name: count, dtype: int64\n"
          ]
        }
      ],
      "source": [
        "# <вызов функции для вечера пятницы в Москве>\n",
        "result_NFM = genre_weekday(moscow_general, 'Friday', '17:00:00', '23:00:00')\n",
        "print(result_NFM)"
      ]
    },
    {
      "cell_type": "code",
      "execution_count": null,
      "metadata": {
        "id": "k8M7IZiYT0x3",
        "outputId": "c7b06319-85cd-46fd-8220-f79f8c1470b0"
      },
      "outputs": [
        {
          "name": "stdout",
          "output_type": "stream",
          "text": [
            "genre_name\n",
            "pop            256\n",
            "rock           216\n",
            "electronic     216\n",
            "dance          210\n",
            "hip             94\n",
            "alternative     63\n",
            "jazz            61\n",
            "classical       60\n",
            "rusrap          59\n",
            "world           54\n",
            "Name: count, dtype: int64\n"
          ]
        }
      ],
      "source": [
        "# <вызов функции для вечера пятницы в Питере>\n",
        "result_NFS = genre_weekday(spb_general, 'Friday', '17:00:00', '23:00:00')\n",
        "print(result_NFS)"
      ]
    },
    {
      "cell_type": "markdown",
      "metadata": {
        "id": "hy-n5cfFT0x6"
      },
      "source": [
        "Популярные жанры в понедельник утром в Питере и Москве оказались похожи: везде, как и предполагалось, популярен pop. Несмотря на это, концовка топ-10 для двух городов различается: в Питере в топ-10 входит джаз и русский рэп, а в Москве жанр world.\n",
        "\n",
        "Анализируя данные о прослушиваниях по вечерам пятницы, то в общем наиболее популярны одинаковые жанры, но самым прослушиваемым так и остается pop, в прочем как и по утрам понедельника. Однако закрывают топ-10 разные жарны: в Москве меньше слушают русский реп, а в Питере world/\n",
        "\n",
        "## Вывод\n",
        "Жанр pop безусловный лидер, а топ-5 в целом не различается в обеих столицах. При этом видно, что концовка списка более «живая»: для каждого города выделяются более характерные жанры, которые действительно меняют свои позиции в зависимости от дня недели и времени.\n"
      ]
    },
    {
      "cell_type": "markdown",
      "metadata": {
        "id": "Qgi1A4ooT0x8"
      },
      "source": [
        "# Москва и Питер — две разные столицы, два разных направления в музыке. Правда?\n",
        "\n",
        "Гипотеза: Питер богат своей рэп-культурой, поэтому это направление там слушают чаще, а Москва — город контрастов, но основная масса пользователей слушает попсу.\n",
        "\n",
        "Сгруппируем таблицу moscow_general по жанру, сосчитаем численность композиций каждого жанра методом count(), отсортируем в порядке убывания и сохраним результат в таблице moscow_genres.\n",
        "\n",
        "Просмотрим первые 10 строк этой новой таблицы.\n"
      ]
    },
    {
      "cell_type": "code",
      "execution_count": null,
      "metadata": {
        "id": "vpQB9IfPT0x9"
      },
      "outputs": [],
      "source": [
        "# одной строкой: группировка таблицы moscow_general по столбцу 'genre_name',\n",
        "# подсчёт числа значений 'genre_name' в этой группировке методом count(),\n",
        "# сортировка Series в порядке убывания и сохранение в moscow_genres\n",
        "\n",
        "moscow_genres = moscow_general.groupby('genre_name')['genre_name'].count().sort_values(ascending=False)"
      ]
    },
    {
      "cell_type": "code",
      "execution_count": null,
      "metadata": {
        "id": "o5wPVUVWT0x-",
        "outputId": "a5e42c77-8a84-4aeb-cfd8-06ac0f6cf79e"
      },
      "outputs": [
        {
          "name": "stdout",
          "output_type": "stream",
          "text": [
            "genre_name\n",
            "pop            5892\n",
            "dance          4435\n",
            "rock           3965\n",
            "electronic     3786\n",
            "hip            2041\n",
            "classical      1616\n",
            "world          1432\n",
            "alternative    1379\n",
            "ruspop         1372\n",
            "rusrap         1161\n",
            "Name: genre_name, dtype: int64\n"
          ]
        }
      ],
      "source": [
        "# <просмотр первых 10 строк moscow_genres>\n",
        "print(moscow_genres.head(10))"
      ]
    },
    {
      "cell_type": "markdown",
      "metadata": {
        "id": "nYT3H8D_T0yA"
      },
      "source": [
        "Сгруппируем таблицу spb_general по жанру, сосчитаем численность композиций каждого жанра методом count(), отсортируем в порядке убывания и сохраним результат в таблице spb_genres.\n",
        "\n",
        "Просматриваем первые 10 строк этой таблицы. Теперь можно сравнивать два города.\n"
      ]
    },
    {
      "cell_type": "code",
      "execution_count": null,
      "metadata": {
        "id": "IPGL7RO0T0yC"
      },
      "outputs": [],
      "source": [
        "# <группировка таблицы spb_general, расчёт, сохранение в spb_genres>\n",
        "\n",
        "spb_genres = spb_general.groupby('genre_name')['genre_name'].count().sort_values(ascending=False)"
      ]
    },
    {
      "cell_type": "code",
      "execution_count": null,
      "metadata": {
        "id": "pZF2Zx-wT0yE",
        "outputId": "3ad7168e-583f-4e60-ba27-8cda15ab4234"
      },
      "outputs": [
        {
          "name": "stdout",
          "output_type": "stream",
          "text": [
            "genre_name\n",
            "pop            2431\n",
            "dance          1932\n",
            "rock           1879\n",
            "electronic     1737\n",
            "hip             934\n",
            "alternative     649\n",
            "classical       646\n",
            "rusrap          564\n",
            "ruspop          538\n",
            "world           515\n",
            "Name: genre_name, dtype: int64\n"
          ]
        }
      ],
      "source": [
        "# <просмотр первых 10 строк spb_genres>\n",
        "print(spb_genres.head(10))"
      ]
    },
    {
      "cell_type": "markdown",
      "metadata": {
        "id": "k4OPmexRT0yH"
      },
      "source": [
        "## Вывод\n",
        "В Москве, кроме абсолютно популярного жанра поп, есть направление русской популярной музыки. Значит, что интерес к этому жанру шире. А рэп, вопреки предположению, занимает в обоих городах близкие позиции.\n"
      ]
    },
    {
      "cell_type": "markdown",
      "metadata": {
        "id": "SZu6D24jT0yJ"
      },
      "source": [
        "# Результаты исследования\n",
        "\n",
        "Рабочие гипотезы:\n",
        "\n",
        "•\tмузыку в двух городах — Москве и Санкт-Петербурге — слушают в разном режиме;\n",
        "\n",
        "•\tсписки десяти самых популярных жанров утром в понедельник и вечером в пятницу имеют характерные отличия;\n",
        "\n",
        "•\tнаселение двух городов предпочитает разные музыкальные жанры.\n",
        "\n",
        "**Общие результаты**\n",
        "\n",
        "Москва и Петербург сходятся во вкусах: везде преобладает популярная музыка. При этом зависимости предпочтений от дня недели в каждом отдельном городе  — люди постоянно слушают то, что им нравится. Но между городами в разрезе дней неделей наблюдается зеркальность относительно среды: Москва больше слушает в понедельник и пятницу, а Петербург наоборот - больше в среду, но меньше в понедельник и пятницу.\n",
        "В результате первая гипотеза подтверждена, вторая гипотеза частично подтверждена, потому что различия есть, но слишком характерные,  и третья тоже подтверждена частично, совпадения в наиболее популярный жанрах есть, но после наблюда.тся различия в предпочтениях."
      ]
    }
  ],
  "metadata": {
    "kernelspec": {
      "display_name": "Python 3 (ipykernel)",
      "language": "python",
      "name": "python3"
    },
    "language_info": {
      "codemirror_mode": {
        "name": "ipython",
        "version": 3
      },
      "file_extension": ".py",
      "mimetype": "text/x-python",
      "name": "python",
      "nbconvert_exporter": "python",
      "pygments_lexer": "ipython3",
      "version": "3.10.0"
    },
    "colab": {
      "provenance": [],
      "include_colab_link": true
    }
  },
  "nbformat": 4,
  "nbformat_minor": 0
}