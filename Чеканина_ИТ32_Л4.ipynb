{
  "cells": [
    {
      "cell_type": "markdown",
      "metadata": {
        "id": "view-in-github",
        "colab_type": "text"
      },
      "source": [
        "<a href=\"https://colab.research.google.com/github/Naomine14/--1/blob/main/%D0%A7%D0%B5%D0%BA%D0%B0%D0%BD%D0%B8%D0%BD%D0%B0_%D0%98%D0%A232_%D0%9B4.ipynb\" target=\"_parent\"><img src=\"https://colab.research.google.com/assets/colab-badge.svg\" alt=\"Open In Colab\"/></a>"
      ]
    },
    {
      "cell_type": "markdown",
      "metadata": {
        "id": "7dz3Mm1PjFJf"
      },
      "source": [
        "# Анализ и обработка результатов\n",
        "\n",
        "В анализе данных важно наглядное представление результатов, чтобы их мог оценить заказчик. Это бизнес, где на кону громадный трафик, серверные мощности, личное время многотысячной аудитории. И одновременно это исследование.\n",
        "\n",
        "Как в настоящей экспериментальной науке, ответ непредсказуем. Его точность зависит от умелого владения статистическими методами и от качества исходных данных. Перед тем, как начинать считать, проверьте, грамотно ли ваши данные подготовлены.\n",
        "\n",
        "# Группировка данных\n",
        "\n",
        "Слово «анализ» означает разбор, рассмотрение с разных сторон. Анализ данных начинают с разделения их на группы по какому-нибудь признаку. Эта операция называется группировка данных. Она помогает изучить материал более подробно, чтобы затем перейти к поиску взаимосвязей между отдельными группами.\n",
        "\n",
        "\n",
        "Группировка оправданна, если данные чётко делятся по значимому признаку, а полученные группы близки к теме задачи. Например, когда есть данные обо всех покупках в супермаркете, можно смело заниматься группировкой. Так можно установить время наплыва покупателей и решить проблему пиковых нагрузок. Или посчитать средний чек — обычно для магазинов это ключевая метрика.\n",
        "\n",
        "\n",
        "Стадии группировки хорошо укладываются в словесную формулу **split-apply-combine**:\n",
        "\n",
        "•\tразделить, **split** — разбиение на группы по определённому критерию;\n",
        "\n",
        "•\tприменить, **apply** — применение какого-либо метода к каждой группе в отдельности, например, подсчёт численности группы методом count() или суммирование вызовом sum();\n",
        "\n",
        "•\tобъединить, **combine** — сведение результатов в новую структуру данных, в зависимости от условий разделения и выполнения метода это бывает DataFrame и Series.\n",
        "\n",
        "На картинке изображен принцип **split-apply-combine** для таблицы с экзопланетами. Посмотрим, как вообще идут дела с поиском экзопланет. Сначала данные делят по группам, где каждая группа — это год. Потом метод **count()** подсчитывает численность каждой группы. В итоге получаем новую структуру данных с группами, где каждая содержит год и число открытых за этот год экзопланет.\n",
        "\n",
        "\n",
        "В Рandas для группировки данных есть метод **groupby()**. Он принимает как аргумент название столбца, по которому нужно группировать. В случае с делением экзопланет по годам открытия:\n",
        "\n",
        "**print(exoplanet.groupby('discovered'))**\n",
        "\n",
        "**<pandas.core.groupby.DataFrameGroupBy object at 0x7fc1e1ca3400>**\n",
        "\n",
        "\n",
        "Применение метода **groupby()** к объекту типа DataFrame приводит к созданию объекта особого типа — **DataFrameGroupBy**. Это сгруппированные данные. Если применить к ним какой-нибудь метод Pandas, они станут новой структурой данных типа **DataFrame** или **Series**.\n",
        "Подсчитаем сгруппированные по годам экзопланеты методом **count()**:\n",
        "\n",
        "Если нужно сравнить наблюдения по одному показателю, метод применяют к **DataFrameGroupBy** с указанием на один столбец. Нас в первую очередь интересует радиус экзопланет: мы ищем другую Землю. Давайте получим таблицу с единственным столбцом 'radius':\n",
        "\n",
        "**exo_number = exoplanet.groupby('discovered')['radius'].count()**\n",
        "\n",
        "**print(exo_number)**\n",
        "\n",
        "Получили Series, где по годам открытия расписано количество экзопланет, для которых удалось установить радиус.\n",
        "\n",
        "Посмотрим, как меняется средний радиус открытых экзопланет год от года. Для этого надо сложить радиусы планет, открытых за определённый год, и поделить на их количество (которое мы уже нашли).\n",
        "\n",
        "Сумма радиусов считается методом **sum()**:\n",
        "\n",
        "**exo_radius_sum = exoplanet.groupby('discovered')['radius'].sum()**\n",
        "\n",
        "\n",
        "**print(exo_radius_sum)**\n",
        "\n",
        "\n",
        "\n",
        "## Задача\n",
        "Вашему вниманию предлагается датасет с обзором показателей самоубийств с 1985 по 2016 год — Сравнение социально-экономической информации с показателями самоубийств по годам и странам.\n",
        "\n",
        "Столбцами этой таблицы являются: страна, год, пол, возрастная группа, количество самоубийств, население, уровень самоубийств, сводный ключ по стране за год, ИЧР (индекс человеческого развития) за год, ВВП за год, ВВП на душу населения, поколение (на основе среднего по возрастной группе).\n",
        "\n",
        "1. Загрузите таблицу master, содержащую данные о самоубийствах. Выведите на экран таблицу и оцените данные, обратите внимание на названия столбцов, переименуйте их, если это необходимо.\n",
        "\n",
        "2. Убедитесь в том, что данные прошли предподготовку.  Пропущенные и неопределённые значения выявляет метод isna(), а суммарное количество таких значений — метод sum().\n",
        "\n",
        "3. Сгруппируйте DataFrame по столбцу country, сохраните полученный результат в переменной country_grouping.\n",
        "\n",
        "4. Посчитайте количество случаев самоубийств по странам, которые были совершены, методом **sum()**, указав, что выбираем один столбец suicides_no.\n",
        "\n",
        "Сохраните результат в переменной country_sum и выведите первые 30 строк этой таблицы.\n",
        "\n"
      ]
    },
    {
      "cell_type": "code",
      "execution_count": null,
      "metadata": {
        "scrolled": true,
        "id": "mQGi9furjFJi",
        "outputId": "4318d799-efce-4ee0-92ef-bc91a07b981a"
      },
      "outputs": [
        {
          "name": "stdout",
          "output_type": "stream",
          "text": [
            "   country  year     sex          age  suicides_no  population  \\\n",
            "0  Albania  1987    male  15-24 years           21      312900   \n",
            "1  Albania  1987    male  35-54 years           16      308000   \n",
            "2  Albania  1987  female  15-24 years           14      289700   \n",
            "3  Albania  1987    male    75+ years            1       21800   \n",
            "4  Albania  1987    male  25-34 years            9      274300   \n",
            "\n",
            "   suicides/100k pop country-year  HDI for year  gdp_for_year ($)   \\\n",
            "0               6.71  Albania1987           NaN      2,156,624,900   \n",
            "1               5.19  Albania1987           NaN      2,156,624,900   \n",
            "2               4.83  Albania1987           NaN      2,156,624,900   \n",
            "3               4.59  Albania1987           NaN      2,156,624,900   \n",
            "4               3.28  Albania1987           NaN      2,156,624,900   \n",
            "\n",
            "   gdp_per_capita ($)       generation  \n",
            "0                 796     Generation X  \n",
            "1                 796           Silent  \n",
            "2                 796     Generation X  \n",
            "3                 796  G.I. Generation  \n",
            "4                 796          Boomers  \n",
            "\n",
            "Проверка пропущенных значений\n",
            "\n",
            "country                  0\n",
            "year                     0\n",
            "sex                      0\n",
            "age                      0\n",
            "suicides_no              0\n",
            "population               0\n",
            "suicides/100k_pop        0\n",
            "country_Year             0\n",
            "HDI_for_year         19456\n",
            "GDP_for_year             0\n",
            "GDP_per_capita           0\n",
            "generation               0\n",
            "dtype: int64\n",
            "\n",
            "Подсчет количества самоубийств по странам\n",
            "\n",
            "country\n",
            "Albania                     1970\n",
            "Antigua and Barbuda           11\n",
            "Argentina                  82219\n",
            "Armenia                     1905\n",
            "Aruba                        101\n",
            "Australia                  70111\n",
            "Austria                    50073\n",
            "Azerbaijan                  1656\n",
            "Bahamas                       93\n",
            "Bahrain                      463\n",
            "Barbados                     177\n",
            "Belarus                    59892\n",
            "Belgium                    62761\n",
            "Belize                       348\n",
            "Bosnia and Herzegovina       318\n",
            "Brazil                    226613\n",
            "Bulgaria                   36388\n",
            "Cabo Verde                    42\n",
            "Canada                    107561\n",
            "Chile                      40895\n",
            "Colombia                   53080\n",
            "Costa Rica                  6792\n",
            "Croatia                    18429\n",
            "Cuba                       41418\n",
            "Cyprus                       412\n",
            "Czech Republic             43687\n",
            "Denmark                    15297\n",
            "Dominica                       0\n",
            "Ecuador                    20660\n",
            "El Salvador                11683\n",
            "Name: suicides_no, dtype: int64\n"
          ]
        }
      ],
      "source": [
        "# Загрузка данных\n",
        "import pandas as pd\n",
        "\n",
        "# Загрузка данных\n",
        "master=pd.read_csv('master.csv')\n",
        "\n",
        "# Вывод таблицы и оценка данных\n",
        "print(master.head(5))\n",
        "\n",
        "\n",
        "master = master.rename(columns={\"suicides/100k pop\": \"suicides/100k_pop\", \"country-year\": \"country_Year\",\n",
        "                                \"HDI for year\": \"HDI_for_year\", \" gdp_for_year ($) \": \"GDP_for_year\",\n",
        "                                \"gdp_per_capita ($)\": \"GDP_per_capita\"})\n",
        "\n",
        "\n",
        "# Проверка пропущенных значений\n",
        "print('\\nПроверка пропущенных значений\\n')\n",
        "print(master.isna().sum())\n",
        "\n",
        "# Группировка по странам\n",
        "country_grouping = master.groupby(\"country\")\n",
        "\n",
        "# Подсчет количества самоубийств по странам\n",
        "country_sum = country_grouping[\"suicides_no\"].sum()\n",
        "print('\\nПодсчет количества самоубийств по странам\\n')\n",
        "print(country_sum.head(30))"
      ]
    },
    {
      "cell_type": "markdown",
      "metadata": {
        "id": "8a-WHsLGjFJk"
      },
      "source": [
        "# Сортировка данных\n",
        "\n",
        "\n",
        "Поиск необычного в группе — что среди планет, что среди меломанов — это прежде всего поиск чемпионов: объектов с выдающимися показателями по разным статьям. Как всю таблицу, так и отдельные группы изучают, сортируя строки по какому-либо столбцу.\n",
        "\n",
        "В Pandas для этой операции есть метод **sort_values()**. У него два аргумента:\n",
        "\n",
        "• **by = 'имя столбца'** — имя столбца, по которому нужно сортировать;\n",
        "\n",
        "• **ascending:** по умолчанию True. Для сортировки по убыванию установите значение False.\n",
        "\n",
        "\n",
        "\n",
        "Среди экзопланет интересны близкие по размерам к Земле. Есть ли такие? Отсортируем список по радиусу в порядке возрастания. Тогда в голове таблицы окажутся самые малые, на которых гравитация не прижмёт нас к полу.\n",
        "\n",
        "**print(exoplanet.sort_values(by='radius').head(30))**\n",
        "\n",
        "Оказывается, некоторые из уже открытых экзопланет по размерам близки не то что к Земле, но уже и к Луне! Получим список экзопланет с радиусом меньше земного. Смотрите, как логический оператор (здесь это <) задействуется в отборе элементов столбца. Дальше нам этот приём не раз понадобится.\n",
        "\n",
        "**print(exoplanet[exoplanet['radius'] < 1])**\n",
        "\n",
        "Но и этот список такой длинный, что изучать его лучше по частям. Экзопланеты, близкие по размерам к Земле, за последнее десятилетие открывали нередко. Можно изучать список открытых за каждый год. Например, для 2014 года (вновь обратите внимание на работу логического оператора, теперь это ==):\n",
        "\n",
        "**print(exoplanet[exoplanet['discovered'] == 2014])**\n",
        "\n",
        "А чтобы не тратить время на лишнее, поставим оба условия сразу. Для этого в Pandas есть логический оператор &, подобный оператору and языка Python. Напомним, его смысл на русском языке можно передать словами «и ещё»:\n",
        "\n",
        "**exo_small_14 = exoplanet[ (exoplanet['radius']<1) & (exoplanet['discovered']==2014)]**\n",
        "\n",
        "**print(exo_small_14)**\n",
        "\n",
        "Отсортируем результат в порядке убывания радиуса.\n",
        "\n",
        "**print(exo_small_14.sort_values(by = 'radius', ascending = False))**\n",
        "\n",
        "\n",
        "\n"
      ]
    },
    {
      "cell_type": "markdown",
      "metadata": {
        "id": "GHSn_aKcjFJk"
      },
      "source": [
        "## Задача\n",
        "1. Выделим пятерки стран с самым низким и самым высоким уровнем самоубийств в мире."
      ]
    },
    {
      "cell_type": "code",
      "execution_count": null,
      "metadata": {
        "id": "PdsiLxS3jFJk",
        "outputId": "b67b73a6-25aa-4190-d260-f4287ef71acb"
      },
      "outputs": [
        {
          "name": "stdout",
          "output_type": "stream",
          "text": [
            "\n",
            "Пять стран с самым высоким уровнем самоубийств:\n",
            "country\n",
            "Ukraine                319950\n",
            "France                 329127\n",
            "Japan                  806902\n",
            "United States         1034013\n",
            "Russian Federation    1209742\n",
            "Name: suicides_no, dtype: int64\n"
          ]
        }
      ],
      "source": [
        "# Сортировка данных по уровню самоубийств\n",
        "sorted_data = country_sum.sort_values()\n",
        "\n",
        "highest_suicide_countries = sorted_data.tail(5)\n",
        "\n",
        "print(\"\\nПять стран с самым высоким уровнем самоубийств:\")\n",
        "print(highest_suicide_countries)"
      ]
    },
    {
      "cell_type": "code",
      "execution_count": null,
      "metadata": {
        "scrolled": true,
        "id": "Jm376Dc3jFJl",
        "outputId": "629fc6c2-142c-4446-f939-3c963ed760d8"
      },
      "outputs": [
        {
          "name": "stdout",
          "output_type": "stream",
          "text": [
            "Пять стран с самым низким уровнем самоубийств:\n",
            "country\n",
            "Dominica                  0\n",
            "Saint Kitts and Nevis     0\n",
            "San Marino                4\n",
            "Antigua and Barbuda      11\n",
            "Maldives                 20\n",
            "Name: suicides_no, dtype: int64\n"
          ]
        }
      ],
      "source": [
        "lowest_suicide_countries = sorted_data.head(5)\n",
        "\n",
        "print(\"Пять стран с самым низким уровнем самоубийств:\")\n",
        "print(lowest_suicide_countries)\n"
      ]
    },
    {
      "cell_type": "markdown",
      "metadata": {
        "id": "RjPl8i6SjFJl"
      },
      "source": [
        "2. Исследуйте распределение количества суидидов по гендерному признаку. Найдите лидеров и антилидеров по количеству самоубийств среди женщин. Повторяется ли картина по сравнению с предыдущим исследованием?"
      ]
    },
    {
      "cell_type": "code",
      "execution_count": null,
      "metadata": {
        "id": "01JtaovMjFJl",
        "outputId": "f7f1636b-1cd3-4470-aaa6-b3db0655aa8f"
      },
      "outputs": [
        {
          "name": "stdout",
          "output_type": "stream",
          "text": [
            "Количество суицидов среди женщин: 1559510\n",
            "Количество суицидов среди мужчин: 5188910\n"
          ]
        }
      ],
      "source": [
        "gender_suicides = master.groupby('sex')['suicides_no'].sum().reset_index()\n",
        "\n",
        "female_suicides = gender_suicides.loc[gender_suicides['sex'] == 'female']['suicides_no'].values[0]\n",
        "male_suicides = gender_suicides.loc[gender_suicides['sex'] == 'male']['suicides_no'].values[0]\n",
        "\n",
        "print(\"Количество суицидов среди женщин:\", female_suicides)\n",
        "print(\"Количество суицидов среди мужчин:\", male_suicides)\n",
        "\n"
      ]
    },
    {
      "cell_type": "code",
      "execution_count": null,
      "metadata": {
        "id": "Idnd6eKijFJl",
        "outputId": "ae437138-948b-46e3-e680-5054defa4307"
      },
      "outputs": [
        {
          "name": "stdout",
          "output_type": "stream",
          "text": [
            "Лидеры по количеству самоубийств среди женщин:\n",
            "country\n",
            "Japan                 251630\n",
            "Russian Federation    214330\n",
            "United States         213797\n",
            "Name: suicides_no, dtype: int64\n",
            "\n",
            "Антилидеры по количеству самоубийств среди женщин:\n",
            "country\n",
            "Dominica                 0\n",
            "Oman                     0\n",
            "Saint Kitts and Nevis    0\n",
            "Name: suicides_no, dtype: int64\n"
          ]
        }
      ],
      "source": [
        "female_data = master.loc[master['sex'] == 'female']\n",
        "female_leaders = female_data.groupby('country')['suicides_no'].sum().nlargest(3)\n",
        "female_antileaders = female_data.groupby('country')['suicides_no'].sum().nsmallest(3)\n",
        "\n",
        "print(\"Лидеры по количеству самоубийств среди женщин:\")\n",
        "print(female_leaders)\n",
        "\n",
        "print(\"\\nАнтилидеры по количеству самоубийств среди женщин:\")\n",
        "print(female_antileaders)\n"
      ]
    },
    {
      "cell_type": "markdown",
      "metadata": {
        "id": "8r8AC8_BjFJm"
      },
      "source": [
        "# Описательная статистика\n",
        "\n",
        "Чтобы представить себе среднестатистического самоубийцу, понадобится описательная статистика.\n",
        "\n",
        "Из её показателей для количественного описания данных в нашей задаче нужны четыре меры — максимум, минимум, медиана и среднее.\n",
        "\n",
        "Наибольшее и наименьшее обычно вычисляют только по одному признаку. Например, можно получить минимальное и максимальное значение уровня самоубийств (количество самоубийств на 100 тыс.населения) (столбец 'suicides/100k pop'). Для поиска максимума вызывают метод max(), примененный к этому столбцу:\n",
        "\n",
        "print(master['suicides/100k pop'].max())\n"
      ]
    },
    {
      "cell_type": "code",
      "execution_count": null,
      "metadata": {
        "id": "6tOMYokYjFJn",
        "outputId": "0bf64c78-eb76-483a-a753-4c86b75510a1"
      },
      "outputs": [
        {
          "name": "stdout",
          "output_type": "stream",
          "text": [
            "224.97\n"
          ]
        }
      ],
      "source": [
        "print(master['suicides/100k_pop'].max())\n"
      ]
    },
    {
      "cell_type": "markdown",
      "metadata": {
        "id": "V-hycfKjjFJn"
      },
      "source": [
        "Самый высокий показатель оказался 224.97 самоубийств на 100 тыс.населения. Интересно, в какой стране такая ситуация.\n",
        "\n",
        "Запросим из master строку с максимальным значением, прибегнув к логической индексации с условием\n",
        "\n",
        "**master['suicides/100k pop'] == master['suicides/100k pop'].max()**"
      ]
    },
    {
      "cell_type": "code",
      "execution_count": null,
      "metadata": {
        "id": "rOKwAqyMjFJn",
        "outputId": "60f6f672-155b-476d-cff4-da08f20ff5f9"
      },
      "outputs": [
        {
          "name": "stdout",
          "output_type": "stream",
          "text": [
            "0        False\n",
            "1        False\n",
            "2        False\n",
            "3        False\n",
            "4        False\n",
            "         ...  \n",
            "27815    False\n",
            "27816    False\n",
            "27817    False\n",
            "27818    False\n",
            "27819    False\n",
            "Name: suicides/100k_pop, Length: 27820, dtype: bool\n"
          ]
        }
      ],
      "source": [
        "master['suicides/100k_pop'] == master['suicides/100k_pop'].max()"
      ]
    },
    {
      "cell_type": "markdown",
      "metadata": {
        "id": "UDiyhc57jFJo"
      },
      "source": [
        "Минимальное значение — ищут методом **min()**. Нам интересно установить случаи, когда уровень суицидов минимальный, но не нулевой.\n",
        "\n",
        "Вот как мы создаём выборку  и находим в ней минимальное значение:\n",
        "\n",
        "**master_drop_null = master[master['suicides/100k pop'] != 0]**\n",
        "\n",
        "**print(master_drop_null['suicides/100k pop'].min())**\n"
      ]
    },
    {
      "cell_type": "code",
      "execution_count": null,
      "metadata": {
        "id": "bc3b_nJPjFJo",
        "outputId": "4645703e-9bad-4dba-a502-3fa4ec518acb"
      },
      "outputs": [
        {
          "name": "stdout",
          "output_type": "stream",
          "text": [
            "0.02\n"
          ]
        }
      ],
      "source": [
        "master_drop_null = master[master['suicides/100k_pop'] != 0]\n",
        "print(master_drop_null['suicides/100k_pop'].min())"
      ]
    },
    {
      "cell_type": "markdown",
      "metadata": {
        "id": "JZyhb3jvjFJo"
      },
      "source": [
        "Получим название самой \"счастливой\" страны. Как и при поиске максимума, воспользуемся условием и логической индексацией"
      ]
    },
    {
      "cell_type": "code",
      "execution_count": null,
      "metadata": {
        "id": "TURW8-rjjFJo",
        "outputId": "2fe113db-422c-4e5f-b180-96a2f0e7b7d4"
      },
      "outputs": [
        {
          "name": "stdout",
          "output_type": "stream",
          "text": [
            "23347    South Africa\n",
            "23371    South Africa\n",
            "23479    South Africa\n",
            "25060        Thailand\n",
            "25061        Thailand\n",
            "Name: country, dtype: object\n"
          ]
        }
      ],
      "source": [
        "# Предполагая, что master — это DataFrame\n",
        "min_suicides = master_drop_null['suicides/100k_pop'].min()\n",
        "countries_with_min_suicides = master_drop_null[master_drop_null['suicides/100k_pop'] == min_suicides]\n",
        "\n",
        "print(countries_with_min_suicides['country'])\n"
      ]
    },
    {
      "cell_type": "markdown",
      "metadata": {
        "id": "hlrzC4LVjFJo"
      },
      "source": [
        "Результат вывода — две страны, которые соответствуют минимальному значению.\n",
        "На основе полученных данных можно сделать вывод, что число совершенных самоубийств на 100 тыс. населения  находится в диапазоне от 0,02 до 224.97 секунд, не включая пропущенные.\n",
        "\n",
        "Это знание пригодится, чтобы разобраться с медианой и средним арифметическим.\n",
        "\n",
        "Среднее и медиана оценивают значения в центре выборки. Если тех строк, где число с большим количеством самоубийц, столько же, сколько тех, где это число мало — среднее подойдет. Но когда есть оторванные от основной массы лидеры, их результаты сильно смещают значение среднего вверх. Вот почему оценивать в этом случае лучше медианой.\n",
        "\n",
        "\n",
        "В геометрии медиана делит фигуру на две равные по площади. В статистике она делит выборку пополам: в одной половине значения меньше медианного, в другой больше. Логично, что для определения медианы список обязательно должен быть отсортирован — либо по возрастанию, либо по убыванию.\n",
        "Когда количество значений нечётное, медиана будет равна тому значению, которое оказалось ровно посередине отсортированного набора. Если же количество данных чётное, то медиана рассчитывается как среднее арифметическое двух соседних чисел в середине набора.\n",
        "\n"
      ]
    },
    {
      "cell_type": "markdown",
      "metadata": {
        "id": "wRISUbNdjFJp"
      },
      "source": [
        "В Pandas есть метод **median()**, который считает медиану. По аналогии с **min()** и **max()** его можно применять ко всей таблице, к отдельному столбцу или к сгруппированным данным. Теперь применим медиану ко всем значениям времени прослушивания в нашей таблице, исключив нулевые:\n",
        "\n"
      ]
    },
    {
      "cell_type": "code",
      "execution_count": null,
      "metadata": {
        "id": "TLhGoJbijFJp",
        "outputId": "4848a641-858c-45c6-831e-b2371cb19ba7"
      },
      "outputs": [
        {
          "name": "stdout",
          "output_type": "stream",
          "text": [
            "11294.0\n"
          ]
        }
      ],
      "source": [
        "print(sorted_data.median())"
      ]
    },
    {
      "cell_type": "markdown",
      "metadata": {
        "id": "L89Qdkz7jFJp"
      },
      "source": [
        "Чтобы убедиться, что лидеры действительно смещают средний показатель вверх, найдём среднее арифметическое всех этих значений методом mean():"
      ]
    },
    {
      "cell_type": "code",
      "execution_count": null,
      "metadata": {
        "id": "9ekKRX-bjFJp",
        "outputId": "7e225fa7-a3cc-42c2-a099-9ef8db5435f3"
      },
      "outputs": [
        {
          "name": "stdout",
          "output_type": "stream",
          "text": [
            "66816.0396039604\n"
          ]
        }
      ],
      "source": [
        "print(sorted_data.mean())"
      ]
    },
    {
      "cell_type": "code",
      "execution_count": null,
      "metadata": {
        "id": "VVIiNCGEjFJp",
        "outputId": "603db86e-cc7a-430c-da73-6373822fb6a3"
      },
      "outputs": [
        {
          "name": "stdout",
          "output_type": "stream",
          "text": [
            "30\n"
          ]
        }
      ],
      "source": [
        "zadacha = master[(master['sex'] == 'female') & (master['country'] == 'Germany') & (master['year'].between(1995, 1999))]\n",
        "print(zadacha['suicides_no'].count())\n"
      ]
    }
  ],
  "metadata": {
    "kernelspec": {
      "display_name": "Python 3 (ipykernel)",
      "language": "python",
      "name": "python3"
    },
    "language_info": {
      "codemirror_mode": {
        "name": "ipython",
        "version": 3
      },
      "file_extension": ".py",
      "mimetype": "text/x-python",
      "name": "python",
      "nbconvert_exporter": "python",
      "pygments_lexer": "ipython3",
      "version": "3.10.0"
    },
    "colab": {
      "provenance": [],
      "include_colab_link": true
    }
  },
  "nbformat": 4,
  "nbformat_minor": 0
}