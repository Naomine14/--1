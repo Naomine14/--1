{
  "cells": [
    {
      "cell_type": "markdown",
      "metadata": {
        "id": "view-in-github",
        "colab_type": "text"
      },
      "source": [
        "<a href=\"https://colab.research.google.com/github/Naomine14/--1/blob/main/%D0%A7%D0%B5%D0%BA%D0%B0%D0%BD%D0%B8%D0%BD%D0%B0_%D0%98%D0%A232_%D0%9B6.ipynb\" target=\"_parent\"><img src=\"https://colab.research.google.com/assets/colab-badge.svg\" alt=\"Open In Colab\"/></a>"
      ]
    },
    {
      "cell_type": "markdown",
      "metadata": {
        "id": "OCWMIF8ydZJX"
      },
      "source": [
        "# Изменение типов данных\n",
        "\n",
        "Данные бывают разных типов, не всегда подходящих для анализа. В этой теме вы узнаете, как изменять типы данных для удобства расчётов.\n",
        "\n",
        "Задачи сегодняшнего занятия:\n",
        "\n",
        "•\tПереводить строку в форматы даты и времени;\n",
        "\n",
        "•\tПревращать строковые значения в числовые методами **to_numeric()** и **astype()**;\n",
        "\n",
        "•\tСоединять таблицы методом **merge()**;\n",
        "\n",
        "•\tСоздавать сводные таблицы методом **pivot_table()**.\n"
      ]
    },
    {
      "cell_type": "markdown",
      "metadata": {
        "id": "twXrSHD-dZJk"
      },
      "source": [
        "Задача: SEO-оптимизаторы поставили задачу \"Определить, какие товарные категории и подкатегории на сайте представлены в поисковиках хуже всего\". В ответ на просьбу направить таблицы с источниками трафика, товарными категориями и подкатегориями, разработчики прислали экселевский файл.\n",
        "\n",
        "Ранее мы встречались только с форматом **.csv** и методом **read_csv()**. Для прочтения файлов **Excel** есть особый метод **read_excel()**. Он похож на **read_csv()**, но в отличие от него, **read_excel()** нужно два аргумента: строка с именем самого файла или пути к нему, и имя листа **sheet_name**.\n",
        "\n",
        "**import pandas as pd**\n",
        "\n",
        "**df = pd.read_excel('/datasets/Экселевский файл.xlsx', sheet_name='Самый первый лист')**\n",
        "\n",
        "Можно вызвать **read_excel()** и без второго аргумента. Тогда будет взят первый по счёту лист.\n",
        "Вооружившись методом **read_excel()**, прочитаем файл с таблицами от разработчиков.\n"
      ]
    },
    {
      "cell_type": "markdown",
      "metadata": {
        "id": "xHJyaUAvdZJo"
      },
      "source": [
        "## Задача\n",
        "\n",
        "1. Методом **read_excel()** прочтите первый лист **'traffic_data'**, сохраните его в переменной **data**. Выведите на экран первые 5 строк листа методом **head()**. Прочитайте названия столбцов:\n",
        "\n",
        "•\t**subcategory_id** — идентификатор товарной подкатегории, или её зашифрованное название;\n",
        "\n",
        "•\t**source** — источник трафика. В нашем случае источников два: прямой заход на сайт в таблице обозначен как direct, переход из поисковых систем — **organic**;\n",
        "\n",
        "•\t**visits** — количество визитов на страницу подкатегории за отчётный период.\n",
        "\n"
      ]
    },
    {
      "cell_type": "code",
      "execution_count": null,
      "metadata": {
        "id": "tt4W4zHddZJr",
        "outputId": "0b11370e-8b20-4977-b368-b7d4dc261047"
      },
      "outputs": [
        {
          "name": "stdout",
          "output_type": "stream",
          "text": [
            "  subcategory_id  source         visits\n",
            "0     cf2e61c7af  direct  501165.668858\n",
            "1     0cd903d1cc  direct  126342.359505\n",
            "2     ef35bc88a7  direct   95626.321402\n",
            "3     6ff9f4014c  direct   75680.653002\n",
            "4     72bc238e4d  direct   64435.934651\n"
          ]
        }
      ],
      "source": [
        "import pandas as pd\n",
        "\n",
        "data = pd.read_excel('seo_data.xlsx', sheet_name='traffic_data')\n",
        "\n",
        "print(data.head(5))"
      ]
    },
    {
      "cell_type": "code",
      "execution_count": null,
      "metadata": {
        "id": "ACxtZ2uYdZJy",
        "outputId": "5089b6dd-68c4-4037-bc41-090adcadd09b"
      },
      "outputs": [
        {
          "name": "stdout",
          "output_type": "stream",
          "text": [
            "Index(['subcategory_id', 'source', 'visits'], dtype='object')\n"
          ]
        }
      ],
      "source": [
        "print(data.columns)"
      ]
    },
    {
      "cell_type": "markdown",
      "metadata": {
        "id": "ZUpllInpdZJ1"
      },
      "source": [
        "Пока в первых 5 строчках таблицы виден только один источник трафика direct. Проверьте, какие источники есть в столбце source. Выведите на экран список уникальных значений этого столбца.\n"
      ]
    },
    {
      "cell_type": "code",
      "execution_count": null,
      "metadata": {
        "id": "9xspySu_dZJ3",
        "outputId": "7049c4b0-497a-4b07-d354-594a9d5755a8"
      },
      "outputs": [
        {
          "name": "stdout",
          "output_type": "stream",
          "text": [
            "['direct' 'organic']\n"
          ]
        }
      ],
      "source": [
        "source_unique = data['source'].unique()\n",
        "print(source_unique)"
      ]
    },
    {
      "cell_type": "markdown",
      "metadata": {
        "id": "f6QPk7REdZJ6"
      },
      "source": [
        "Методом **read_excel()** прочтите второй лист **'subcategory_ids'** и сохраните его в переменной **subcategory_dict**. Выведите на экран его первые 5 строк методом **head()**.\n",
        "Обратите внимание на названия столбцов: к знакомым нам идентификаторам подкатегорий **(subcategory_id)** добавились идентификаторы категорий **(category_id)** и названия подкатегорий **(subcategory_name)**.\n",
        "Всё это похоже на словарь, где идентификаторам подкатегорий из цифр и латинских букв соответствуют понятные нам названия. Поэтому датафрейм называется **subcategory_dict**.\n"
      ]
    },
    {
      "cell_type": "code",
      "execution_count": null,
      "metadata": {
        "id": "dtPNMrDwdZJ9",
        "outputId": "1a2e12f2-5cdf-46d5-e478-b071e8d0a1f0"
      },
      "outputs": [
        {
          "name": "stdout",
          "output_type": "stream",
          "text": [
            "  subcategory_id                subcategory_name category_id\n",
            "0     cf2e61c7af              Мобильные телефоны  09f279a643\n",
            "1     0cd903d1cc                        Ноутбуки  3509869a61\n",
            "2     ef35bc88a7                      Телевизоры  09f279a643\n",
            "3     6ff9f4014c                        Планшеты  3509869a61\n",
            "4     72bc238e4d  Наушники и Bluetooth-гарнитуры  09f279a643\n"
          ]
        }
      ],
      "source": [
        "subcategory_dict = pd.read_excel('seo_data.xlsx', sheet_name='subcategory_ids')\n",
        "\n",
        "print(subcategory_dict.head(5))"
      ]
    },
    {
      "cell_type": "markdown",
      "metadata": {
        "id": "KqiSzzQTdZKB"
      },
      "source": [
        "Наконец, методом **read_excel()** прочтём третий лист **category_ids** и сохраним его в переменной **category_dict**. Выведите на экран первые 5 строк листа методом **head()**."
      ]
    },
    {
      "cell_type": "code",
      "execution_count": null,
      "metadata": {
        "id": "61GYZn6_dZKE",
        "outputId": "9bd2bc42-7b15-425f-d5fd-61365854f045"
      },
      "outputs": [
        {
          "name": "stdout",
          "output_type": "stream",
          "text": [
            "  category_id               category_name\n",
            "0  09f279a643                 Электроника\n",
            "1  3509869a61        Компьютерная техника\n",
            "2  65922fa39c                        Авто\n",
            "3  6074ad29ac  Одежда, обувь и аксессуары\n",
            "4  10a493e03b         Товары для здоровья\n"
          ]
        }
      ],
      "source": [
        "category_dict = pd.read_excel('seo_data.xlsx', sheet_name='category_ids')\n",
        "\n",
        "print(category_dict.head(5))"
      ]
    },
    {
      "cell_type": "markdown",
      "metadata": {
        "id": "jIH1EW93dZKI"
      },
      "source": [
        "# Перевод строковых значений в числа\n",
        "\n",
        "Читая данные, Pandas автоматически переводит их в подходящий формат. У него порой не получается, тогда приходится измениять тип данных вручную.\n",
        "\n",
        "Рассмотрим файл со списком транзакций (платежей за одну покупку). Для каждой категории (буква в столбце **'category'**) посчитаем сумму продаж (значения в столбце **'amount'**)."
      ]
    },
    {
      "cell_type": "code",
      "execution_count": null,
      "metadata": {
        "id": "CRPZgwRWdZKK",
        "outputId": "3cacdfd3-3407-46a9-a33d-94db9d53181c"
      },
      "outputs": [
        {
          "data": {
            "text/html": [
              "<div>\n",
              "<style scoped>\n",
              "    .dataframe tbody tr th:only-of-type {\n",
              "        vertical-align: middle;\n",
              "    }\n",
              "\n",
              "    .dataframe tbody tr th {\n",
              "        vertical-align: top;\n",
              "    }\n",
              "\n",
              "    .dataframe thead th {\n",
              "        text-align: right;\n",
              "    }\n",
              "</style>\n",
              "<table border=\"1\" class=\"dataframe\">\n",
              "  <thead>\n",
              "    <tr style=\"text-align: right;\">\n",
              "      <th></th>\n",
              "      <th>id</th>\n",
              "      <th>category</th>\n",
              "      <th>amount</th>\n",
              "    </tr>\n",
              "  </thead>\n",
              "  <tbody>\n",
              "    <tr>\n",
              "      <th>0</th>\n",
              "      <td>600748331392</td>\n",
              "      <td>C</td>\n",
              "      <td>17515.36</td>\n",
              "    </tr>\n",
              "    <tr>\n",
              "      <th>1</th>\n",
              "      <td>600748331404</td>\n",
              "      <td>B</td>\n",
              "      <td>10117.56</td>\n",
              "    </tr>\n",
              "    <tr>\n",
              "      <th>2</th>\n",
              "      <td>600748331412</td>\n",
              "      <td>B</td>\n",
              "      <td>18489.26</td>\n",
              "    </tr>\n",
              "    <tr>\n",
              "      <th>3</th>\n",
              "      <td>600748331430</td>\n",
              "      <td>B</td>\n",
              "      <td>6620.22</td>\n",
              "    </tr>\n",
              "    <tr>\n",
              "      <th>4</th>\n",
              "      <td>600748331447</td>\n",
              "      <td>C</td>\n",
              "      <td>7559.9</td>\n",
              "    </tr>\n",
              "  </tbody>\n",
              "</table>\n",
              "</div>"
            ],
            "text/plain": [
              "             id category    amount\n",
              "0  600748331392        C  17515.36\n",
              "1  600748331404        B  10117.56\n",
              "2  600748331412        B  18489.26\n",
              "3  600748331430        B   6620.22\n",
              "4  600748331447        C    7559.9"
            ]
          },
          "execution_count": 8,
          "metadata": {},
          "output_type": "execute_result"
        }
      ],
      "source": [
        "transactions = pd.read_excel('ids.xlsx')\n",
        "transactions.head()\n"
      ]
    },
    {
      "cell_type": "markdown",
      "metadata": {
        "id": "08ddD5GsdZKN"
      },
      "source": [
        "Пока всё распознано корректно. В столбце **'id'** стоят идентификаторы транзакций, в столбце **category** — категории проданных товаров, в **amount** — стоимость каждого товара. Методом **info()** установим, как Pandas определил типы столбцов."
      ]
    },
    {
      "cell_type": "code",
      "execution_count": null,
      "metadata": {
        "id": "L5cx1UDadZKP",
        "outputId": "e1926e6a-d2d8-4cf1-f93c-8ed215366e88"
      },
      "outputs": [
        {
          "name": "stdout",
          "output_type": "stream",
          "text": [
            "<class 'pandas.core.frame.DataFrame'>\n",
            "RangeIndex: 49 entries, 0 to 48\n",
            "Data columns (total 3 columns):\n",
            " #   Column    Non-Null Count  Dtype \n",
            "---  ------    --------------  ----- \n",
            " 0   id        49 non-null     object\n",
            " 1   category  49 non-null     object\n",
            " 2   amount    49 non-null     object\n",
            "dtypes: object(3)\n",
            "memory usage: 1.3+ KB\n"
          ]
        }
      ],
      "source": [
        "transactions.info()"
      ]
    },
    {
      "cell_type": "markdown",
      "metadata": {
        "id": "yQC7mhS-dZKR"
      },
      "source": [
        "А вот и подозрительное поведение: столбцы **'id'** и **'amount'** распознаны как строки — тип **object**. Это значит, что в столбцах есть нечисловые значения или пропуски, а они помешают нашим расчётам.\n",
        "\n",
        "К примеру, попробуем вычислить сумму продаж:"
      ]
    },
    {
      "cell_type": "code",
      "execution_count": null,
      "metadata": {
        "id": "eq4eZnqtdZKT",
        "outputId": "9af6f863-c05f-48d9-9a55-0c83b6058509"
      },
      "outputs": [
        {
          "ename": "TypeError",
          "evalue": "unsupported operand type(s) for +: 'float' and 'str'",
          "output_type": "error",
          "traceback": [
            "\u001b[1;31m---------------------------------------------------------------------------\u001b[0m",
            "\u001b[1;31mTypeError\u001b[0m                                 Traceback (most recent call last)",
            "Cell \u001b[1;32mIn[10], line 1\u001b[0m\n\u001b[1;32m----> 1\u001b[0m \u001b[39mprint\u001b[39m(transactions[\u001b[39m'\u001b[39;49m\u001b[39mamount\u001b[39;49m\u001b[39m'\u001b[39;49m]\u001b[39m.\u001b[39;49msum()) \n",
            "File \u001b[1;32mc:\\Users\\User\\AppData\\Local\\Programs\\Python\\Python310\\lib\\site-packages\\pandas\\core\\series.py:6528\u001b[0m, in \u001b[0;36mSeries.sum\u001b[1;34m(self, axis, skipna, numeric_only, min_count, **kwargs)\u001b[0m\n\u001b[0;32m   6519\u001b[0m \u001b[39m@doc\u001b[39m(make_doc(\u001b[39m\"\u001b[39m\u001b[39msum\u001b[39m\u001b[39m\"\u001b[39m, ndim\u001b[39m=\u001b[39m\u001b[39m1\u001b[39m))\n\u001b[0;32m   6520\u001b[0m \u001b[39mdef\u001b[39;00m \u001b[39msum\u001b[39m(\n\u001b[0;32m   6521\u001b[0m     \u001b[39mself\u001b[39m,\n\u001b[1;32m   (...)\u001b[0m\n\u001b[0;32m   6526\u001b[0m     \u001b[39m*\u001b[39m\u001b[39m*\u001b[39mkwargs,\n\u001b[0;32m   6527\u001b[0m ):\n\u001b[1;32m-> 6528\u001b[0m     \u001b[39mreturn\u001b[39;00m NDFrame\u001b[39m.\u001b[39msum(\u001b[39mself\u001b[39m, axis, skipna, numeric_only, min_count, \u001b[39m*\u001b[39m\u001b[39m*\u001b[39mkwargs)\n",
            "File \u001b[1;32mc:\\Users\\User\\AppData\\Local\\Programs\\Python\\Python310\\lib\\site-packages\\pandas\\core\\generic.py:12506\u001b[0m, in \u001b[0;36mNDFrame.sum\u001b[1;34m(self, axis, skipna, numeric_only, min_count, **kwargs)\u001b[0m\n\u001b[0;32m  12498\u001b[0m \u001b[39mdef\u001b[39;00m \u001b[39msum\u001b[39m(\n\u001b[0;32m  12499\u001b[0m     \u001b[39mself\u001b[39m,\n\u001b[0;32m  12500\u001b[0m     axis: Axis \u001b[39m|\u001b[39m \u001b[39mNone\u001b[39;00m \u001b[39m=\u001b[39m \u001b[39m0\u001b[39m,\n\u001b[1;32m   (...)\u001b[0m\n\u001b[0;32m  12504\u001b[0m     \u001b[39m*\u001b[39m\u001b[39m*\u001b[39mkwargs,\n\u001b[0;32m  12505\u001b[0m ):\n\u001b[1;32m> 12506\u001b[0m     \u001b[39mreturn\u001b[39;00m \u001b[39mself\u001b[39m\u001b[39m.\u001b[39m_min_count_stat_function(\n\u001b[0;32m  12507\u001b[0m         \u001b[39m\"\u001b[39m\u001b[39msum\u001b[39m\u001b[39m\"\u001b[39m, nanops\u001b[39m.\u001b[39mnansum, axis, skipna, numeric_only, min_count, \u001b[39m*\u001b[39m\u001b[39m*\u001b[39mkwargs\n\u001b[0;32m  12508\u001b[0m     )\n",
            "File \u001b[1;32mc:\\Users\\User\\AppData\\Local\\Programs\\Python\\Python310\\lib\\site-packages\\pandas\\core\\generic.py:12489\u001b[0m, in \u001b[0;36mNDFrame._min_count_stat_function\u001b[1;34m(self, name, func, axis, skipna, numeric_only, min_count, **kwargs)\u001b[0m\n\u001b[0;32m  12486\u001b[0m \u001b[39melif\u001b[39;00m axis \u001b[39mis\u001b[39;00m lib\u001b[39m.\u001b[39mno_default:\n\u001b[0;32m  12487\u001b[0m     axis \u001b[39m=\u001b[39m \u001b[39m0\u001b[39m\n\u001b[1;32m> 12489\u001b[0m \u001b[39mreturn\u001b[39;00m \u001b[39mself\u001b[39;49m\u001b[39m.\u001b[39;49m_reduce(\n\u001b[0;32m  12490\u001b[0m     func,\n\u001b[0;32m  12491\u001b[0m     name\u001b[39m=\u001b[39;49mname,\n\u001b[0;32m  12492\u001b[0m     axis\u001b[39m=\u001b[39;49maxis,\n\u001b[0;32m  12493\u001b[0m     skipna\u001b[39m=\u001b[39;49mskipna,\n\u001b[0;32m  12494\u001b[0m     numeric_only\u001b[39m=\u001b[39;49mnumeric_only,\n\u001b[0;32m  12495\u001b[0m     min_count\u001b[39m=\u001b[39;49mmin_count,\n\u001b[0;32m  12496\u001b[0m )\n",
            "File \u001b[1;32mc:\\Users\\User\\AppData\\Local\\Programs\\Python\\Python310\\lib\\site-packages\\pandas\\core\\series.py:6457\u001b[0m, in \u001b[0;36mSeries._reduce\u001b[1;34m(self, op, name, axis, skipna, numeric_only, filter_type, **kwds)\u001b[0m\n\u001b[0;32m   6452\u001b[0m     \u001b[39m# GH#47500 - change to TypeError to match other methods\u001b[39;00m\n\u001b[0;32m   6453\u001b[0m     \u001b[39mraise\u001b[39;00m \u001b[39mTypeError\u001b[39;00m(\n\u001b[0;32m   6454\u001b[0m         \u001b[39mf\u001b[39m\u001b[39m\"\u001b[39m\u001b[39mSeries.\u001b[39m\u001b[39m{\u001b[39;00mname\u001b[39m}\u001b[39;00m\u001b[39m does not allow \u001b[39m\u001b[39m{\u001b[39;00mkwd_name\u001b[39m}\u001b[39;00m\u001b[39m=\u001b[39m\u001b[39m{\u001b[39;00mnumeric_only\u001b[39m}\u001b[39;00m\u001b[39m \u001b[39m\u001b[39m\"\u001b[39m\n\u001b[0;32m   6455\u001b[0m         \u001b[39m\"\u001b[39m\u001b[39mwith non-numeric dtypes.\u001b[39m\u001b[39m\"\u001b[39m\n\u001b[0;32m   6456\u001b[0m     )\n\u001b[1;32m-> 6457\u001b[0m \u001b[39mreturn\u001b[39;00m op(delegate, skipna\u001b[39m=\u001b[39mskipna, \u001b[39m*\u001b[39m\u001b[39m*\u001b[39mkwds)\n",
            "File \u001b[1;32mc:\\Users\\User\\AppData\\Local\\Programs\\Python\\Python310\\lib\\site-packages\\pandas\\core\\nanops.py:85\u001b[0m, in \u001b[0;36mdisallow.__call__.<locals>._f\u001b[1;34m(*args, **kwargs)\u001b[0m\n\u001b[0;32m     81\u001b[0m     \u001b[39mraise\u001b[39;00m \u001b[39mTypeError\u001b[39;00m(\n\u001b[0;32m     82\u001b[0m         \u001b[39mf\u001b[39m\u001b[39m\"\u001b[39m\u001b[39mreduction operation \u001b[39m\u001b[39m'\u001b[39m\u001b[39m{\u001b[39;00mf_name\u001b[39m}\u001b[39;00m\u001b[39m'\u001b[39m\u001b[39m not allowed for this dtype\u001b[39m\u001b[39m\"\u001b[39m\n\u001b[0;32m     83\u001b[0m     )\n\u001b[0;32m     84\u001b[0m \u001b[39mtry\u001b[39;00m:\n\u001b[1;32m---> 85\u001b[0m     \u001b[39mreturn\u001b[39;00m f(\u001b[39m*\u001b[39margs, \u001b[39m*\u001b[39m\u001b[39m*\u001b[39mkwargs)\n\u001b[0;32m     86\u001b[0m \u001b[39mexcept\u001b[39;00m \u001b[39mValueError\u001b[39;00m \u001b[39mas\u001b[39;00m e:\n\u001b[0;32m     87\u001b[0m     \u001b[39m# we want to transform an object array\u001b[39;00m\n\u001b[0;32m     88\u001b[0m     \u001b[39m# ValueError message to the more typical TypeError\u001b[39;00m\n\u001b[0;32m     89\u001b[0m     \u001b[39m# e.g. this is normally a disallowed function on\u001b[39;00m\n\u001b[0;32m     90\u001b[0m     \u001b[39m# object arrays that contain strings\u001b[39;00m\n\u001b[0;32m     91\u001b[0m     \u001b[39mif\u001b[39;00m is_object_dtype(args[\u001b[39m0\u001b[39m]):\n",
            "File \u001b[1;32mc:\\Users\\User\\AppData\\Local\\Programs\\Python\\Python310\\lib\\site-packages\\pandas\\core\\nanops.py:404\u001b[0m, in \u001b[0;36m_datetimelike_compat.<locals>.new_func\u001b[1;34m(values, axis, skipna, mask, **kwargs)\u001b[0m\n\u001b[0;32m    401\u001b[0m \u001b[39mif\u001b[39;00m datetimelike \u001b[39mand\u001b[39;00m mask \u001b[39mis\u001b[39;00m \u001b[39mNone\u001b[39;00m:\n\u001b[0;32m    402\u001b[0m     mask \u001b[39m=\u001b[39m isna(values)\n\u001b[1;32m--> 404\u001b[0m result \u001b[39m=\u001b[39m func(values, axis\u001b[39m=\u001b[39maxis, skipna\u001b[39m=\u001b[39mskipna, mask\u001b[39m=\u001b[39mmask, \u001b[39m*\u001b[39m\u001b[39m*\u001b[39mkwargs)\n\u001b[0;32m    406\u001b[0m \u001b[39mif\u001b[39;00m datetimelike:\n\u001b[0;32m    407\u001b[0m     result \u001b[39m=\u001b[39m _wrap_results(result, orig_values\u001b[39m.\u001b[39mdtype, fill_value\u001b[39m=\u001b[39miNaT)\n",
            "File \u001b[1;32mc:\\Users\\User\\AppData\\Local\\Programs\\Python\\Python310\\lib\\site-packages\\pandas\\core\\nanops.py:477\u001b[0m, in \u001b[0;36mmaybe_operate_rowwise.<locals>.newfunc\u001b[1;34m(values, axis, **kwargs)\u001b[0m\n\u001b[0;32m    474\u001b[0m         results \u001b[39m=\u001b[39m [func(x, \u001b[39m*\u001b[39m\u001b[39m*\u001b[39mkwargs) \u001b[39mfor\u001b[39;00m x \u001b[39min\u001b[39;00m arrs]\n\u001b[0;32m    475\u001b[0m     \u001b[39mreturn\u001b[39;00m np\u001b[39m.\u001b[39marray(results)\n\u001b[1;32m--> 477\u001b[0m \u001b[39mreturn\u001b[39;00m func(values, axis\u001b[39m=\u001b[39maxis, \u001b[39m*\u001b[39m\u001b[39m*\u001b[39mkwargs)\n",
            "File \u001b[1;32mc:\\Users\\User\\AppData\\Local\\Programs\\Python\\Python310\\lib\\site-packages\\pandas\\core\\nanops.py:646\u001b[0m, in \u001b[0;36mnansum\u001b[1;34m(values, axis, skipna, min_count, mask)\u001b[0m\n\u001b[0;32m    643\u001b[0m \u001b[39melif\u001b[39;00m dtype\u001b[39m.\u001b[39mkind \u001b[39m==\u001b[39m \u001b[39m\"\u001b[39m\u001b[39mm\u001b[39m\u001b[39m\"\u001b[39m:\n\u001b[0;32m    644\u001b[0m     dtype_sum \u001b[39m=\u001b[39m np\u001b[39m.\u001b[39mdtype(np\u001b[39m.\u001b[39mfloat64)\n\u001b[1;32m--> 646\u001b[0m the_sum \u001b[39m=\u001b[39m values\u001b[39m.\u001b[39;49msum(axis, dtype\u001b[39m=\u001b[39;49mdtype_sum)\n\u001b[0;32m    647\u001b[0m the_sum \u001b[39m=\u001b[39m _maybe_null_out(the_sum, axis, mask, values\u001b[39m.\u001b[39mshape, min_count\u001b[39m=\u001b[39mmin_count)\n\u001b[0;32m    649\u001b[0m \u001b[39mreturn\u001b[39;00m the_sum\n",
            "File \u001b[1;32mc:\\Users\\User\\AppData\\Local\\Programs\\Python\\Python310\\lib\\site-packages\\numpy\\core\\_methods.py:49\u001b[0m, in \u001b[0;36m_sum\u001b[1;34m(a, axis, dtype, out, keepdims, initial, where)\u001b[0m\n\u001b[0;32m     47\u001b[0m \u001b[39mdef\u001b[39;00m \u001b[39m_sum\u001b[39m(a, axis\u001b[39m=\u001b[39m\u001b[39mNone\u001b[39;00m, dtype\u001b[39m=\u001b[39m\u001b[39mNone\u001b[39;00m, out\u001b[39m=\u001b[39m\u001b[39mNone\u001b[39;00m, keepdims\u001b[39m=\u001b[39m\u001b[39mFalse\u001b[39;00m,\n\u001b[0;32m     48\u001b[0m          initial\u001b[39m=\u001b[39m_NoValue, where\u001b[39m=\u001b[39m\u001b[39mTrue\u001b[39;00m):\n\u001b[1;32m---> 49\u001b[0m     \u001b[39mreturn\u001b[39;00m umr_sum(a, axis, dtype, out, keepdims, initial, where)\n",
            "\u001b[1;31mTypeError\u001b[0m: unsupported operand type(s) for +: 'float' and 'str'"
          ]
        }
      ],
      "source": [
        "print(transactions['amount'].sum())"
      ]
    },
    {
      "cell_type": "markdown",
      "metadata": {
        "id": "LJs0rMqAdZKV"
      },
      "source": [
        "Сумма не считается из-за наличия строковых значений в столбце **'amount'**.\n",
        "Собрать все строки да сделать их числами! Для этого есть стандартный метод Pandas — **to_numeric()**. Он превращает значения столбца в числовой тип **float64** (вещественное число).\n"
      ]
    },
    {
      "cell_type": "code",
      "execution_count": null,
      "metadata": {
        "id": "hCD6WqRcdZKW",
        "outputId": "a075f0fc-d8bb-44f7-8e0b-fd5562888bfe"
      },
      "outputs": [
        {
          "ename": "ValueError",
          "evalue": "Unable to parse string \"Null\" at position 21",
          "output_type": "error",
          "traceback": [
            "\u001b[1;31m---------------------------------------------------------------------------\u001b[0m",
            "\u001b[1;31mValueError\u001b[0m                                Traceback (most recent call last)",
            "File \u001b[1;32mlib.pyx:2391\u001b[0m, in \u001b[0;36mpandas._libs.lib.maybe_convert_numeric\u001b[1;34m()\u001b[0m\n",
            "\u001b[1;31mValueError\u001b[0m: Unable to parse string \"Null\"",
            "\nDuring handling of the above exception, another exception occurred:\n",
            "\u001b[1;31mValueError\u001b[0m                                Traceback (most recent call last)",
            "Cell \u001b[1;32mIn[11], line 1\u001b[0m\n\u001b[1;32m----> 1\u001b[0m transactions[\u001b[39m'\u001b[39m\u001b[39mamount\u001b[39m\u001b[39m'\u001b[39m] \u001b[39m=\u001b[39m pd\u001b[39m.\u001b[39;49mto_numeric(transactions[\u001b[39m'\u001b[39;49m\u001b[39mamount\u001b[39;49m\u001b[39m'\u001b[39;49m]) \n",
            "File \u001b[1;32mc:\\Users\\User\\AppData\\Local\\Programs\\Python\\Python310\\lib\\site-packages\\pandas\\core\\tools\\numeric.py:232\u001b[0m, in \u001b[0;36mto_numeric\u001b[1;34m(arg, errors, downcast, dtype_backend)\u001b[0m\n\u001b[0;32m    230\u001b[0m coerce_numeric \u001b[39m=\u001b[39m errors \u001b[39mnot\u001b[39;00m \u001b[39min\u001b[39;00m (\u001b[39m\"\u001b[39m\u001b[39mignore\u001b[39m\u001b[39m\"\u001b[39m, \u001b[39m\"\u001b[39m\u001b[39mraise\u001b[39m\u001b[39m\"\u001b[39m)\n\u001b[0;32m    231\u001b[0m \u001b[39mtry\u001b[39;00m:\n\u001b[1;32m--> 232\u001b[0m     values, new_mask \u001b[39m=\u001b[39m lib\u001b[39m.\u001b[39;49mmaybe_convert_numeric(  \u001b[39m# type: ignore[call-overload]\u001b[39;49;00m\n\u001b[0;32m    233\u001b[0m         values,\n\u001b[0;32m    234\u001b[0m         \u001b[39mset\u001b[39;49m(),\n\u001b[0;32m    235\u001b[0m         coerce_numeric\u001b[39m=\u001b[39;49mcoerce_numeric,\n\u001b[0;32m    236\u001b[0m         convert_to_masked_nullable\u001b[39m=\u001b[39;49mdtype_backend \u001b[39mis\u001b[39;49;00m \u001b[39mnot\u001b[39;49;00m lib\u001b[39m.\u001b[39;49mno_default\n\u001b[0;32m    237\u001b[0m         \u001b[39mor\u001b[39;49;00m \u001b[39misinstance\u001b[39;49m(values_dtype, StringDtype)\n\u001b[0;32m    238\u001b[0m         \u001b[39mand\u001b[39;49;00m \u001b[39mnot\u001b[39;49;00m values_dtype\u001b[39m.\u001b[39;49mstorage \u001b[39m==\u001b[39;49m \u001b[39m\"\u001b[39;49m\u001b[39mpyarrow_numpy\u001b[39;49m\u001b[39m\"\u001b[39;49m,\n\u001b[0;32m    239\u001b[0m     )\n\u001b[0;32m    240\u001b[0m \u001b[39mexcept\u001b[39;00m (\u001b[39mValueError\u001b[39;00m, \u001b[39mTypeError\u001b[39;00m):\n\u001b[0;32m    241\u001b[0m     \u001b[39mif\u001b[39;00m errors \u001b[39m==\u001b[39m \u001b[39m\"\u001b[39m\u001b[39mraise\u001b[39m\u001b[39m\"\u001b[39m:\n",
            "File \u001b[1;32mlib.pyx:2433\u001b[0m, in \u001b[0;36mpandas._libs.lib.maybe_convert_numeric\u001b[1;34m()\u001b[0m\n",
            "\u001b[1;31mValueError\u001b[0m: Unable to parse string \"Null\" at position 21"
          ]
        }
      ],
      "source": [
        "transactions['amount'] = pd.to_numeric(transactions['amount'])"
      ]
    },
    {
      "cell_type": "markdown",
      "metadata": {
        "id": "Mwavmd6AdZKY"
      },
      "source": [
        "\n",
        "У метода **to_numeric()** есть параметр **errors**. От значений, принимаемых **errors**, зависят действия **to_numeric** при встрече с некорректным значением:\n",
        "\n",
        "•\t**'errors='raise'** — дефолтное поведение: при встрече с некорректным значением выдаётся ошибка, операция перевода в числа прерывается;\n",
        "\n",
        "•\t**errors='coerce'** — некорректные значения принудительно заменяются на NaN;\n",
        "\n",
        "•\t**errors='ignore'** — некорректные значения игнорируются, но остаются.\n"
      ]
    },
    {
      "cell_type": "code",
      "execution_count": null,
      "metadata": {
        "id": "URo1YdWTdZKa"
      },
      "outputs": [],
      "source": [
        "transactions['amount'] = pd.to_numeric(transactions['amount'], errors='coerce')"
      ]
    },
    {
      "cell_type": "markdown",
      "metadata": {
        "id": "dcsI2dZodZKb"
      },
      "source": [
        "Методом **to_numeric()** мы не только превратим строки в числовой тип там, где это возможно, но и выясним, на каких значениях метод не работает.\n",
        "Особенность метода **to_numeric()** в том, что при переводе все числа будут иметь тип данных **float**. Это подходит далеко не всем значениям. Поэтому в нужный тип значения переводят методом **astype()**. Например, аргумент **('int')** метода **astype()** означает, что значение нужно перевести в целое число:\n",
        "![image.png](attachment:image.png)\n",
        "\n"
      ]
    },
    {
      "cell_type": "markdown",
      "metadata": {
        "id": "Xzm-ippidZKd"
      },
      "source": [
        "## Задача   \n",
        "1. Переведите значения столбца **'id'** (таблицы **ids**) из строк в числа методом **to_numeric()**.\n",
        "\n"
      ]
    },
    {
      "cell_type": "code",
      "execution_count": null,
      "metadata": {
        "id": "-71oqkOjdZKf",
        "outputId": "6badb4ca-e18d-4132-e8b4-de7ea579a7ec"
      },
      "outputs": [
        {
          "ename": "ValueError",
          "evalue": "Unable to parse string \"Null\" at position 48",
          "output_type": "error",
          "traceback": [
            "\u001b[1;31m---------------------------------------------------------------------------\u001b[0m",
            "\u001b[1;31mValueError\u001b[0m                                Traceback (most recent call last)",
            "File \u001b[1;32mlib.pyx:2391\u001b[0m, in \u001b[0;36mpandas._libs.lib.maybe_convert_numeric\u001b[1;34m()\u001b[0m\n",
            "\u001b[1;31mValueError\u001b[0m: Unable to parse string \"Null\"",
            "\nDuring handling of the above exception, another exception occurred:\n",
            "\u001b[1;31mValueError\u001b[0m                                Traceback (most recent call last)",
            "Cell \u001b[1;32mIn[13], line 1\u001b[0m\n\u001b[1;32m----> 1\u001b[0m transactions[\u001b[39m'\u001b[39m\u001b[39mid\u001b[39m\u001b[39m'\u001b[39m] \u001b[39m=\u001b[39m pd\u001b[39m.\u001b[39;49mto_numeric(transactions[\u001b[39m'\u001b[39;49m\u001b[39mid\u001b[39;49m\u001b[39m'\u001b[39;49m]) \n",
            "File \u001b[1;32mc:\\Users\\User\\AppData\\Local\\Programs\\Python\\Python310\\lib\\site-packages\\pandas\\core\\tools\\numeric.py:232\u001b[0m, in \u001b[0;36mto_numeric\u001b[1;34m(arg, errors, downcast, dtype_backend)\u001b[0m\n\u001b[0;32m    230\u001b[0m coerce_numeric \u001b[39m=\u001b[39m errors \u001b[39mnot\u001b[39;00m \u001b[39min\u001b[39;00m (\u001b[39m\"\u001b[39m\u001b[39mignore\u001b[39m\u001b[39m\"\u001b[39m, \u001b[39m\"\u001b[39m\u001b[39mraise\u001b[39m\u001b[39m\"\u001b[39m)\n\u001b[0;32m    231\u001b[0m \u001b[39mtry\u001b[39;00m:\n\u001b[1;32m--> 232\u001b[0m     values, new_mask \u001b[39m=\u001b[39m lib\u001b[39m.\u001b[39;49mmaybe_convert_numeric(  \u001b[39m# type: ignore[call-overload]\u001b[39;49;00m\n\u001b[0;32m    233\u001b[0m         values,\n\u001b[0;32m    234\u001b[0m         \u001b[39mset\u001b[39;49m(),\n\u001b[0;32m    235\u001b[0m         coerce_numeric\u001b[39m=\u001b[39;49mcoerce_numeric,\n\u001b[0;32m    236\u001b[0m         convert_to_masked_nullable\u001b[39m=\u001b[39;49mdtype_backend \u001b[39mis\u001b[39;49;00m \u001b[39mnot\u001b[39;49;00m lib\u001b[39m.\u001b[39;49mno_default\n\u001b[0;32m    237\u001b[0m         \u001b[39mor\u001b[39;49;00m \u001b[39misinstance\u001b[39;49m(values_dtype, StringDtype)\n\u001b[0;32m    238\u001b[0m         \u001b[39mand\u001b[39;49;00m \u001b[39mnot\u001b[39;49;00m values_dtype\u001b[39m.\u001b[39;49mstorage \u001b[39m==\u001b[39;49m \u001b[39m\"\u001b[39;49m\u001b[39mpyarrow_numpy\u001b[39;49m\u001b[39m\"\u001b[39;49m,\n\u001b[0;32m    239\u001b[0m     )\n\u001b[0;32m    240\u001b[0m \u001b[39mexcept\u001b[39;00m (\u001b[39mValueError\u001b[39;00m, \u001b[39mTypeError\u001b[39;00m):\n\u001b[0;32m    241\u001b[0m     \u001b[39mif\u001b[39;00m errors \u001b[39m==\u001b[39m \u001b[39m\"\u001b[39m\u001b[39mraise\u001b[39m\u001b[39m\"\u001b[39m:\n",
            "File \u001b[1;32mlib.pyx:2433\u001b[0m, in \u001b[0;36mpandas._libs.lib.maybe_convert_numeric\u001b[1;34m()\u001b[0m\n",
            "\u001b[1;31mValueError\u001b[0m: Unable to parse string \"Null\" at position 48"
          ]
        }
      ],
      "source": [
        "transactions['id'] = pd.to_numeric(transactions['id'])"
      ]
    },
    {
      "cell_type": "markdown",
      "metadata": {
        "id": "bWLlQIkQdZKh"
      },
      "source": [
        "2. Попробуйте ещё раз перевести значения столбца **'id'** из строк в числа методом **to_numeric()**, но уже со значением **'coerce'** параметра **errors**. Это заменит вызывающий ошибку Null на NaN.\n",
        "Полученную таблицу выведите на экран методом **tail()**: так как ошибка возникает на последней строке, 5 значений с конца будет достаточно."
      ]
    },
    {
      "cell_type": "code",
      "execution_count": null,
      "metadata": {
        "id": "IrLFUpWAdZKi",
        "outputId": "01c93b7d-a265-4dd1-8a86-ae31f0748be6"
      },
      "outputs": [
        {
          "name": "stdout",
          "output_type": "stream",
          "text": [
            "              id category    amount\n",
            "44  6.007483e+11        A   8958.23\n",
            "45  6.007483e+11        C  12771.10\n",
            "46  6.007483e+11        E   9630.56\n",
            "47  6.007483e+11     Null       NaN\n",
            "48           NaN        A  14327.22\n"
          ]
        }
      ],
      "source": [
        "transactions['id'] = pd.to_numeric(transactions['id'], errors='coerce')\n",
        "print(transactions.tail(5))"
      ]
    },
    {
      "cell_type": "markdown",
      "metadata": {
        "id": "CIHu7qtTdZKk"
      },
      "source": [
        "3. Вызовите метод **info()** после преобразований ещё раз. Проверьте, повлияла ли работа **pd.to_numeric(transactions['id'], errors='coerce')** на тип значений в столбце **id**."
      ]
    },
    {
      "cell_type": "code",
      "execution_count": null,
      "metadata": {
        "id": "FCOwlUjfdZKm",
        "outputId": "ba8bd9ee-c384-418e-fde1-81c302388d28"
      },
      "outputs": [
        {
          "name": "stdout",
          "output_type": "stream",
          "text": [
            "<class 'pandas.core.frame.DataFrame'>\n",
            "RangeIndex: 49 entries, 0 to 48\n",
            "Data columns (total 3 columns):\n",
            " #   Column    Non-Null Count  Dtype  \n",
            "---  ------    --------------  -----  \n",
            " 0   id        48 non-null     float64\n",
            " 1   category  49 non-null     object \n",
            " 2   amount    45 non-null     float64\n",
            "dtypes: float64(2), object(1)\n",
            "memory usage: 1.3+ KB\n"
          ]
        }
      ],
      "source": [
        "transactions.info()"
      ]
    },
    {
      "cell_type": "markdown",
      "metadata": {
        "id": "XhItjRiJdZKo"
      },
      "source": [
        "4. Методом **to_numeric()** превратите значения столбца **amount** в числа, заменив некорректные значения на NaN. Проверьте результаты преобразований методом **info()**."
      ]
    },
    {
      "cell_type": "code",
      "execution_count": null,
      "metadata": {
        "id": "WVBVfrA8dZKp"
      },
      "outputs": [],
      "source": [
        "transactions['amount'] = pd.to_numeric(transactions['amount'], errors='coerce')"
      ]
    },
    {
      "cell_type": "markdown",
      "metadata": {
        "id": "URUfa_l4dZKq"
      },
      "source": [
        "5. Посчитайте общую стоимость проданных товаров — сумму значений столбца **amount** в датафрейме **transactions**. Результат выведите на экран."
      ]
    },
    {
      "cell_type": "code",
      "execution_count": null,
      "metadata": {
        "id": "ovB3nhBxdZKr",
        "outputId": "63f66e87-7491-40dd-b439-00604d0f39ec"
      },
      "outputs": [
        {
          "name": "stdout",
          "output_type": "stream",
          "text": [
            "596107.1\n"
          ]
        }
      ],
      "source": [
        "print(transactions['amount'].sum())"
      ]
    },
    {
      "cell_type": "markdown",
      "metadata": {
        "id": "Uwl8PdYNdZKu"
      },
      "source": [
        "6. Рассчитайте сумму продаж для каждой категории. Для этого сгруппируйте датафрейм **transactions** по столбцу **category** и примените метод **sum()** к столбцу **amount**. Выведите результат на экран."
      ]
    },
    {
      "cell_type": "code",
      "execution_count": null,
      "metadata": {
        "id": "J0rX_eotdZKw",
        "outputId": "3ce848cc-1fcc-4ddb-e854-e26013696944"
      },
      "outputs": [
        {
          "name": "stdout",
          "output_type": "stream",
          "text": [
            "category\n",
            "A       133988.50\n",
            "B       168617.89\n",
            "C       173332.50\n",
            "D        62630.82\n",
            "E        57537.39\n",
            "Null         0.00\n",
            "Name: amount, dtype: float64\n"
          ]
        }
      ],
      "source": [
        "amount_category= transactions.groupby('category')['amount'].sum()\n",
        "print(amount_category)"
      ]
    },
    {
      "cell_type": "markdown",
      "metadata": {
        "id": "mnnC6eJNdZKz"
      },
      "source": [
        "7. Вернитесь к таблице с трафиком  (датасет data). При попытке сгруппировать датафрейм 'data' по источнику трафика и посчитать сумму визитов, вместо ожидаемого результата получили странное склеивание идентификаторов подкатегорий. Но теперь  вы сможете найти сумму визитов.\n",
        "\n",
        "Переведите значения столбца **visits** датафрейма data в числовой тип методом **to_numeric()**."
      ]
    },
    {
      "cell_type": "code",
      "execution_count": null,
      "metadata": {
        "id": "KBujk-IodZK1",
        "outputId": "6f880a1b-7031-4f9a-a34c-8128814df1b3"
      },
      "outputs": [
        {
          "name": "stdout",
          "output_type": "stream",
          "text": [
            "     subcategory_id   source         visits\n",
            "0        cf2e61c7af   direct  501165.668858\n",
            "1        0cd903d1cc   direct  126342.359505\n",
            "2        ef35bc88a7   direct   95626.321402\n",
            "3        6ff9f4014c   direct   75680.653002\n",
            "4        72bc238e4d   direct   64435.934651\n",
            "...             ...      ...            ...\n",
            "1925     c51343bf77  organic      15.640773\n",
            "1926     d942687638  organic      13.875540\n",
            "1927     976642886f  organic       9.204211\n",
            "1928     075994491e  organic       4.606261\n",
            "1929          total  organic            NaN\n",
            "\n",
            "[1930 rows x 3 columns]\n"
          ]
        }
      ],
      "source": [
        "data['visits'] = pd.to_numeric(data['visits'], errors='coerce')\n",
        "print(data)"
      ]
    },
    {
      "cell_type": "markdown",
      "metadata": {
        "id": "XgSGOVUGdZK3"
      },
      "source": [
        "8. Узнайте, что не так со строкой 964. Вызовите знакомый из вводного курса метод **loc**.\n",
        "Он позволяет обращаться к датафрейму по значению индекса, в нашем случае как раз по номеру строки.\n"
      ]
    },
    {
      "cell_type": "code",
      "execution_count": null,
      "metadata": {
        "id": "Uc6Is82WdZK5",
        "outputId": "1e7eeded-680c-4f7f-d093-cbc762401800"
      },
      "outputs": [
        {
          "name": "stdout",
          "output_type": "stream",
          "text": [
            "subcategory_id     total\n",
            "source            direct\n",
            "visits               NaN\n",
            "Name: 964, dtype: object\n"
          ]
        }
      ],
      "source": [
        "row_964 = data.loc[964]\n",
        "print(row_964)"
      ]
    },
    {
      "cell_type": "markdown",
      "metadata": {
        "id": "w3NkIgbhdZK8"
      },
      "source": [
        "9. Вычислите, сколько всего строк в датафрейме и выведите на экран в формате:\n",
        "\n",
        "Количество строк:\n",
        "\n",
        "Затем выведите на экран строки, которые имеют значение **'total'** в столбце **'subcategory_id'**. Изучите полученные результаты: сколько строк портят весь датасет?"
      ]
    },
    {
      "cell_type": "code",
      "execution_count": null,
      "metadata": {
        "id": "w-mqvx5odZLv",
        "outputId": "2a3b134f-8f6c-40f6-836b-8507ecded234"
      },
      "outputs": [
        {
          "name": "stdout",
          "output_type": "stream",
          "text": [
            "Количество строк: 1930\n",
            "Строки с 'total' в столбце 'subcategory_id':\n",
            "     subcategory_id   source  visits\n",
            "964           total   direct     NaN\n",
            "1929          total  organic     NaN\n",
            "Количество строк с 'total', которые портят датасет: 2\n"
          ]
        }
      ],
      "source": [
        "num_rows = data.shape[0]\n",
        "print(f\"Количество строк: {num_rows}\")\n",
        "\n",
        "total_rows = data[data['subcategory_id'] == 'total']\n",
        "print(\"Строки с 'total' в столбце 'subcategory_id':\")\n",
        "print(total_rows)\n",
        "\n",
        "num_total_rows = total_rows.shape[0]\n",
        "print(f\"Количество строк с 'total', которые портят датасет: {num_total_rows}\")\n"
      ]
    },
    {
      "cell_type": "markdown",
      "metadata": {
        "id": "VQqNmVdNdZLy"
      },
      "source": [
        "10. Оставьте в датафрейме только строки, удовлетворяющие условию **data['subcategory_id'] != 'total'**. Проверьте результат: выведите на экран датафрейм с условием **data['subcategory_id'] == 'total'**."
      ]
    },
    {
      "cell_type": "code",
      "execution_count": null,
      "metadata": {
        "id": "hD2dAagjdZL1",
        "outputId": "2cb14ddc-d5f3-4a40-dd2a-b7a78688e95a"
      },
      "outputs": [
        {
          "name": "stdout",
          "output_type": "stream",
          "text": [
            "Строки с 'total' в столбце 'subcategory_id':\n",
            "Empty DataFrame\n",
            "Columns: [subcategory_id, source, visits]\n",
            "Index: []\n",
            "\n",
            "Отфильтрованный датафрейм:\n",
            "     subcategory_id   source         visits\n",
            "0        cf2e61c7af   direct  501165.668858\n",
            "1        0cd903d1cc   direct  126342.359505\n",
            "2        ef35bc88a7   direct   95626.321402\n",
            "3        6ff9f4014c   direct   75680.653002\n",
            "4        72bc238e4d   direct   64435.934651\n",
            "...             ...      ...            ...\n",
            "1924     779e246861  organic      15.813045\n",
            "1925     c51343bf77  organic      15.640773\n",
            "1926     d942687638  organic      13.875540\n",
            "1927     976642886f  organic       9.204211\n",
            "1928     075994491e  organic       4.606261\n",
            "\n",
            "[1928 rows x 3 columns]\n"
          ]
        }
      ],
      "source": [
        "# Оставляем только строки, где subcategory_id не равен 'total'\n",
        "data = data[data['subcategory_id'] != 'total']\n",
        "\n",
        "# Проверяем результат: выводим строки с 'total'\n",
        "print(\"Строки с 'total' в столбце 'subcategory_id':\")\n",
        "print(data[data['subcategory_id'] == 'total'])\n",
        "\n",
        "# Выводим отфильтрованный датафрейм\n",
        "print(\"\\nОтфильтрованный датафрейм:\")\n",
        "print(data)"
      ]
    },
    {
      "cell_type": "markdown",
      "metadata": {
        "id": "lihxCsNDdZL3"
      },
      "source": [
        "11. Измените тип данных в столбце **['visits']** на **integer**. Проверьте полученный результат, вызвав метод **info()**."
      ]
    },
    {
      "cell_type": "code",
      "execution_count": null,
      "metadata": {
        "id": "Yyihb0w0dZL6",
        "outputId": "f5d9d75d-cc12-42dd-f09e-e8fe4a22afa4"
      },
      "outputs": [
        {
          "name": "stdout",
          "output_type": "stream",
          "text": [
            "<class 'pandas.core.frame.DataFrame'>\n",
            "Index: 1928 entries, 0 to 1928\n",
            "Data columns (total 3 columns):\n",
            " #   Column          Non-Null Count  Dtype \n",
            "---  ------          --------------  ----- \n",
            " 0   subcategory_id  1928 non-null   object\n",
            " 1   source          1928 non-null   object\n",
            " 2   visits          1928 non-null   int32 \n",
            "dtypes: int32(1), object(2)\n",
            "memory usage: 52.7+ KB\n",
            "None\n"
          ]
        }
      ],
      "source": [
        "data['visits'] = data['visits'].astype(int)\n",
        "print(data.info())\n"
      ]
    },
    {
      "cell_type": "markdown",
      "metadata": {
        "id": "Q6zjH5QddZL8"
      },
      "source": [
        "12. Сгруппируйте данные по источникам и вычислите количество визитов для каждого источника. Выведите результат на экран."
      ]
    },
    {
      "cell_type": "code",
      "execution_count": null,
      "metadata": {
        "id": "xTHcozFedZL9",
        "outputId": "704a5382-2ec7-4677-d32d-7b3f33f13cc2"
      },
      "outputs": [
        {
          "name": "stdout",
          "output_type": "stream",
          "text": [
            "Количество визитов для каждого источника:\n",
            "    source   visits\n",
            "0   direct  2368980\n",
            "1  organic  5687407\n"
          ]
        }
      ],
      "source": [
        "grouped_visits = data.groupby('source')['visits'].sum().reset_index()\n",
        "print(\"Количество визитов для каждого источника:\")\n",
        "print(grouped_visits)"
      ]
    },
    {
      "cell_type": "markdown",
      "metadata": {
        "id": "4wB_ndzddZMA"
      },
      "source": [
        "# Метод merge()\n",
        "\n",
        "Вы получили первые выводы: на органический трафик приходится в два раза больше визитов пользователей. Однако исследование на этом не закончено — нужно изучить трафик для каждой категории товаров.\n",
        "\n",
        "Данные хранят в Excel-таблице из нескольких листов. Как смотреть на категории, подкатегории и трафик в одном месте? Идея — склеить таблицы!\n",
        "\n",
        "Объединим несколько таблиц в одну методом **merge()**.\n",
        "\n",
        "Метод **merge()** применяют к таблице, к которой присоединяют другую. У метода следующие аргументы:\n",
        "\n",
        "•\t**right** — имя **DataFrame** или **Series**, присоединяемого к исходной таблице (\"правая таблица\")\n",
        "\n",
        "•\t**on** — название общего списка в двух соединяемых таблицах: по нему происходит слияние (\"ключи\")\n",
        "\n",
        "•\t**how** — тип объединения (outer, inner, left, right)\n",
        "Объединим таблицы **data** и **subcategory_dict** со следующими условиями:\n",
        "\n",
        "•\t**data** — таблица, к которой будем присоединять другую таблицу\n",
        "\n",
        "•\t**subcategory_dict** — таблица, которую присоединяем к data\n",
        "\n",
        "•\t**'subcategory_id'** — общий столбец в двух таблицах, по нему будем объединять\n",
        "\n",
        "•\t**how='left'** — id таблицы **data** включены в итоговую таблицу **data_subcategory**\n"
      ]
    },
    {
      "cell_type": "code",
      "execution_count": null,
      "metadata": {
        "id": "2pnHRplgdZMC",
        "outputId": "ece696d8-9af1-47fd-b4d7-94a870eda4f7"
      },
      "outputs": [
        {
          "name": "stdout",
          "output_type": "stream",
          "text": [
            "  subcategory_id  source  visits                subcategory_name category_id\n",
            "0     cf2e61c7af  direct  501165              Мобильные телефоны  09f279a643\n",
            "1     0cd903d1cc  direct  126342                        Ноутбуки  3509869a61\n",
            "2     ef35bc88a7  direct   95626                      Телевизоры  09f279a643\n",
            "3     6ff9f4014c  direct   75680                        Планшеты  3509869a61\n",
            "4     72bc238e4d  direct   64435  Наушники и Bluetooth-гарнитуры  09f279a643\n",
            "5     88c78ea685  direct   39638                            Шины  65922fa39c\n",
            "6     179bfacf4a  direct   31007           Умные часы и браслеты  09f279a643\n",
            "7     b0fb8f259a  direct   30324                        Мониторы  3509869a61\n",
            "8     3c67eb2d90  direct   25878                   Наручные часы  6074ad29ac\n",
            "9     24e6c815c6  direct   25276  Лекарственные препараты и БАДы  10a493e03b\n"
          ]
        }
      ],
      "source": [
        "data_subcategory = data.merge(subcategory_dict, on='subcategory_id', how='left')\n",
        "print(data_subcategory.head(10))\n"
      ]
    },
    {
      "cell_type": "markdown",
      "metadata": {
        "id": "tYNtbGeDdZME"
      },
      "source": [
        "## Задача:\n",
        "\n",
        "1. Объедините таблицы **data_subcategory** и **category_dict**. Результат сохраните в переменной **data_final** и выведите на экран первые 10 строк новой таблицы."
      ]
    },
    {
      "cell_type": "code",
      "execution_count": null,
      "metadata": {
        "id": "74x_K5RXdZMG",
        "outputId": "6e503198-05c6-4f89-f2e8-390b6816b439"
      },
      "outputs": [
        {
          "name": "stdout",
          "output_type": "stream",
          "text": [
            "  subcategory_id  source  visits                subcategory_name category_id  \\\n",
            "0     cf2e61c7af  direct  501165              Мобильные телефоны  09f279a643   \n",
            "1     0cd903d1cc  direct  126342                        Ноутбуки  3509869a61   \n",
            "2     ef35bc88a7  direct   95626                      Телевизоры  09f279a643   \n",
            "3     6ff9f4014c  direct   75680                        Планшеты  3509869a61   \n",
            "4     72bc238e4d  direct   64435  Наушники и Bluetooth-гарнитуры  09f279a643   \n",
            "5     88c78ea685  direct   39638                            Шины  65922fa39c   \n",
            "6     179bfacf4a  direct   31007           Умные часы и браслеты  09f279a643   \n",
            "7     b0fb8f259a  direct   30324                        Мониторы  3509869a61   \n",
            "8     3c67eb2d90  direct   25878                   Наручные часы  6074ad29ac   \n",
            "9     24e6c815c6  direct   25276  Лекарственные препараты и БАДы  10a493e03b   \n",
            "\n",
            "                category_name  \n",
            "0                 Электроника  \n",
            "1        Компьютерная техника  \n",
            "2                 Электроника  \n",
            "3        Компьютерная техника  \n",
            "4                 Электроника  \n",
            "5                        Авто  \n",
            "6                 Электроника  \n",
            "7        Компьютерная техника  \n",
            "8  Одежда, обувь и аксессуары  \n",
            "9         Товары для здоровья  \n"
          ]
        }
      ],
      "source": [
        "data_final = pd.merge(data_subcategory, category_dict, on='category_id', how='inner')\n",
        "\n",
        "print(data_final.head(10))"
      ]
    },
    {
      "cell_type": "markdown",
      "metadata": {
        "id": "Pb0p88ZUdZMI"
      },
      "source": [
        "# Сводные таблицы\n",
        "\n",
        "Сводная таблица — ваш помощник для обобщения данных и их наглядного представления.\n",
        "Перед вами таблица со статистикой продаж товаров в интернет-магазине. Известны название товара, дата продажи, количество, цена и стоимость доставки.\n",
        "\n",
        "\n",
        "По сводным таблицам можно точно сказать, сколько товара было продано в определённый день. Умение строить сводные таблицы позволяет быстро анализировать данные и сразу подготовить отчёты.\n",
        "\n",
        "Например, по данной сводной таблице можно легко ответить  на вопрос: «Сколько товара продал интернет-магазин 4 июня 2019 года?».\n"
      ]
    },
    {
      "cell_type": "markdown",
      "metadata": {
        "id": "HoDbgUrUdZMK"
      },
      "source": [
        "В Pandas для подготовки сводных таблиц вызывают метод **pivot_table()**.\n",
        "\n",
        "Аргументы метода:\n",
        "\n",
        "•\t**index** — столбец или столбцы, по которым группируют данные (название товара)\n",
        "\n",
        "•\t**columns** — столбец, по значениям которого происходит группировка (даты)\n",
        "\n",
        "•\t**values** — значения, по которым мы хотим увидеть сводную таблицу (количество проданного товара)\n",
        "\n",
        "•\t**aggfunc** — функция, применяемая к значениям (сумма товаров)\n",
        "\n",
        "Построим сводную таблицу для задачи по SEO-оптимизации.\n",
        "Сделаем по таблице **data_final** из предыдущего задания сводную таблицу методом **pivot_table()**:\n",
        "\n",
        "**data_pivot = data_final.pivot_table(index=['category_name', 'subcategory_name'], columns='source',\n",
        "                                    values='visits', aggfunc='sum')**\n"
      ]
    },
    {
      "cell_type": "code",
      "execution_count": null,
      "metadata": {
        "id": "lPg3rMgidZMM",
        "outputId": "9cc0d5f4-7df2-491a-dcaa-390694e0d86b"
      },
      "outputs": [
        {
          "name": "stdout",
          "output_type": "stream",
          "text": [
            "source                                   direct  organic\n",
            "category_name subcategory_name                          \n",
            "Авто          Автоакустика                 5915    15433\n",
            "              Автомагнитолы                7783    18690\n",
            "              Автомобильные инверторы       145      150\n",
            "              Автомобильные компрессоры     407      790\n",
            "              Автомобильные телевизоры      975     2246\n",
            "...                                         ...      ...\n",
            "Электроника   Чехлы                        4582    11758\n",
            "              Чехлы-аккумуляторы            219      331\n",
            "              Штативы и моноподы           1152     2540\n",
            "              Экшн-камеры                  4757    12376\n",
            "              Электронные книги            4515    11364\n",
            "\n",
            "[934 rows x 2 columns]\n"
          ]
        }
      ],
      "source": [
        "data_pivot = data_final.pivot_table(index=['category_name', 'subcategory_name'], columns='source',\n",
        "                                  values='visits', aggfunc='sum')\n",
        "\n",
        "print(data_pivot)\n"
      ]
    },
    {
      "cell_type": "markdown",
      "metadata": {
        "id": "MZcVUkjPdZMQ"
      },
      "source": [
        "Теперь вы видите название категории и её подкатегории со значениями объёма трафика по каждой.\n",
        "\n",
        "Как видно, основная категория включает в себя подкатегорию и это представлено в структуре датафрейма: категория отображена иерархически главной над подкатегорией. Такие датафреймы содержат в себе мультииндекс. Часто при работе с такими датафреймами мультииндекс убирают, чтобы категория была отображена на каждой строчке датафрейма:\n",
        "\n",
        "**data_pivot_with_reset_index = data_pivot.reset_index()\n",
        "print(data_pivot_with_reset_index.head(10)) **\n",
        "\n"
      ]
    },
    {
      "cell_type": "code",
      "execution_count": null,
      "metadata": {
        "id": "UJWjebaydZMS",
        "outputId": "bd6c26cf-eff3-44c4-fcd2-bd72da2c90e3"
      },
      "outputs": [
        {
          "name": "stdout",
          "output_type": "stream",
          "text": [
            "source category_name            subcategory_name  direct  organic\n",
            "0               Авто                Автоакустика    5915    15433\n",
            "1               Авто               Автомагнитолы    7783    18690\n",
            "2               Авто     Автомобильные инверторы     145      150\n",
            "3               Авто   Автомобильные компрессоры     407      790\n",
            "4               Авто    Автомобильные телевизоры     975     2246\n",
            "5               Авто  Автомобильные холодильники     204      285\n",
            "6               Авто            Автосигнализации     494     1026\n",
            "7               Авто      Аккумуляторные батареи    1175     2657\n",
            "8               Авто                   Антифризы     736     1568\n",
            "9               Авто         Багажники, рейлинги     342      664\n"
          ]
        }
      ],
      "source": [
        "data_pivot_with_reset_index = data_pivot.reset_index()\n",
        "print(data_pivot_with_reset_index.head(10))\n",
        "\n"
      ]
    },
    {
      "cell_type": "markdown",
      "metadata": {
        "id": "K5fkWx-edZMW"
      },
      "source": [
        "В таблице выше суммы визитов **visits** по каждому из источников **source (direct и organic)** представлены в отдельных столбцах. Такой вид таблицы называется «широкий». Он удобен, когда нужно сравнить значения столбцов. Хорошо заметно, например, что в подкатегории «Автомобильные инверторы» количество визитов из источников **direct** и **organic** практически одинаково, а в подкатегории «Автомагнитолы» из источника **organic** пришло почти в два раза больше посетителей, чем из **direct**.\n",
        "\n",
        "Для группировки данных также подходит изученная вами ранее комбинация методов **groupby()** и **agg()** , но с ними таблица будет выглядеть иначе.\n",
        "\n",
        "Метод **groupby()** принимает один аргумент — столбец (или список столбцов), по которым группируют данные. В метод **agg()** передают словарь. Его ключ — это названия столбцов, а значение — функции, которые будут к этим столбцам применены (например, **sum или count**). Такие функции называются агрегирующие.\n",
        "Решим ту же задачу по SEO-оптимизации методами **groupby() и agg()**:\n",
        "\n",
        "\n",
        "**data_grouped = data_final.groupby(['category_name','subcategory_name','source']).agg({'visits':'sum'})**\n",
        "\n",
        "**print(data_grouped.head(10))**\n"
      ]
    },
    {
      "cell_type": "code",
      "execution_count": null,
      "metadata": {
        "id": "OddrCJsbdZMZ",
        "outputId": "917615a4-5cad-4f61-f415-9a5664b0b0c5"
      },
      "outputs": [
        {
          "name": "stdout",
          "output_type": "stream",
          "text": [
            "                                                 visits\n",
            "category_name subcategory_name          source         \n",
            "Авто          Автоакустика              direct     5915\n",
            "                                        organic   15433\n",
            "              Автомагнитолы             direct     7783\n",
            "                                        organic   18690\n",
            "              Автомобильные инверторы   direct      145\n",
            "                                        organic     150\n",
            "              Автомобильные компрессоры direct      407\n",
            "                                        organic     790\n",
            "              Автомобильные телевизоры  direct      975\n",
            "                                        organic    2246\n"
          ]
        }
      ],
      "source": [
        "data_grouped = data_final.groupby(['category_name','subcategory_name','source']).agg({'visits':'sum'})\n",
        "\n",
        "print(data_grouped.head(10))\n"
      ]
    },
    {
      "cell_type": "markdown",
      "metadata": {
        "id": "Byk7o0rTdZMc"
      },
      "source": [
        "Сгруппировав данные методами **groupby()** и **agg()** вместо **pivot_table()**, мы получили точно такие же данные, но в несколько другом виде. Он называется «длинный». Методы **groupby()** и **agg()** удобны, когда нужно применить функцию к столбцу со сгруппированными визитами **visits** или создать новый столбец на его основе:\n",
        "\n",
        "**data_grouped['daily_visits'] = data_grouped['visits'] / 30\n",
        "print(data_grouped.head(10))**\n"
      ]
    },
    {
      "cell_type": "code",
      "execution_count": null,
      "metadata": {
        "id": "dAKIca4WdZMe",
        "outputId": "abdbfe24-89f1-4c7f-db6e-c5cf2897c447"
      },
      "outputs": [
        {
          "name": "stdout",
          "output_type": "stream",
          "text": [
            "                                                 visits  daily_visits\n",
            "category_name subcategory_name          source                       \n",
            "Авто          Автоакустика              direct     5915    197.166667\n",
            "                                        organic   15433    514.433333\n",
            "              Автомагнитолы             direct     7783    259.433333\n",
            "                                        organic   18690    623.000000\n",
            "              Автомобильные инверторы   direct      145      4.833333\n",
            "                                        organic     150      5.000000\n",
            "              Автомобильные компрессоры direct      407     13.566667\n",
            "                                        organic     790     26.333333\n",
            "              Автомобильные телевизоры  direct      975     32.500000\n",
            "                                        organic    2246     74.866667\n"
          ]
        }
      ],
      "source": [
        "data_grouped['daily_visits'] = data_grouped['visits'] / 30\n",
        "print(data_grouped.head(10))\n"
      ]
    },
    {
      "cell_type": "markdown",
      "metadata": {
        "id": "sLVE_-0ndZMg"
      },
      "source": [
        "## Задачи:\n",
        "\n",
        "1. Самостоятельно создайте сводную таблицу для набора **data_final**. Результат сохраните в переменной **data_pivot** и выведите первых 10 значений на экран.\n",
        "\n",
        "2. Создайте в таблице **data_pivot** новый столбец **'ratio'** и сохраните в нём значение отношения органического трафика **'organic'** к прямому **'direct'**. Выведите первые 10 строк таблицы на экран.\n",
        "\n",
        "3. Отсортируйте таблицу по столбцу **'ratio'** в порядке убывания. Выведите первые 10 строк. Отсортированную таблицу сохранять не нужно.\n",
        "\n",
        "4. Отсортируйте таблицу по столбцу **'ratio'** в порядке убывания и выведите последние 10 записей, где прямой трафик больше 1000. Выражение напишите в скобках функции **print()**, чтобы результат напечатался на экран.\n",
        "\n"
      ]
    },
    {
      "cell_type": "code",
      "execution_count": null,
      "metadata": {
        "id": "Gszism4WdZMi",
        "outputId": "b4485a33-fe73-4b59-dd71-c02b003a7868"
      },
      "outputs": [
        {
          "name": "stdout",
          "output_type": "stream",
          "text": [
            "source                                   direct  organic\n",
            "category_name subcategory_name                          \n",
            "Авто          Автоакустика                 5915    15433\n",
            "              Автомагнитолы                7783    18690\n",
            "              Автомобильные инверторы       145      150\n",
            "              Автомобильные компрессоры     407      790\n",
            "              Автомобильные телевизоры      975     2246\n",
            "...                                         ...      ...\n",
            "Электроника   Чехлы                        4582    11758\n",
            "              Чехлы-аккумуляторы            219      331\n",
            "              Штативы и моноподы           1152     2540\n",
            "              Экшн-камеры                  4757    12376\n",
            "              Электронные книги            4515    11364\n",
            "\n",
            "[934 rows x 2 columns]\n"
          ]
        }
      ],
      "source": [
        "data_pivot = data_final.pivot_table(index=['category_name', 'subcategory_name'], columns='source',\n",
        "                                  values='visits', aggfunc='sum')\n",
        "\n",
        "print(data_pivot)"
      ]
    },
    {
      "cell_type": "code",
      "execution_count": null,
      "metadata": {
        "id": "O1AfqqFTdZMl",
        "outputId": "6ca0701e-e591-4006-bb1c-de05e64f381f"
      },
      "outputs": [
        {
          "name": "stdout",
          "output_type": "stream",
          "text": [
            "source                                    direct  organic     ratio\n",
            "category_name subcategory_name                                     \n",
            "Авто          Автоакустика                  5915    15433  2.609129\n",
            "              Автомагнитолы                 7783    18690  2.401388\n",
            "              Автомобильные инверторы        145      150  1.034483\n",
            "              Автомобильные компрессоры      407      790  1.941032\n",
            "              Автомобильные телевизоры       975     2246  2.303590\n",
            "              Автомобильные холодильники     204      285  1.397059\n",
            "              Автосигнализации               494     1026  2.076923\n",
            "              Аккумуляторные батареи        1175     2657  2.261277\n",
            "              Антифризы                      736     1568  2.130435\n",
            "              Багажники, рейлинги            342      664  1.941520\n"
          ]
        }
      ],
      "source": [
        "#Создание нового столбца 'ratio'\n",
        "data_pivot['ratio'] = data_pivot['organic'] / data_pivot['direct']\n",
        "print(data_pivot.head(10))\n"
      ]
    },
    {
      "cell_type": "code",
      "execution_count": null,
      "metadata": {
        "id": "Rb2WD8pjdZMp",
        "outputId": "dd94acbd-d514-4232-cd54-4ec7044e345f"
      },
      "outputs": [
        {
          "name": "stdout",
          "output_type": "stream",
          "text": [
            "source                                                     direct  organic  \\\n",
            "category_name          subcategory_name                                      \n",
            "Авто                   Шины                                 39638   153859   \n",
            "Бытовая техника        Стиральные машины                    22064    64570   \n",
            "Спорт и отдых          Велосипеды                           16009    46087   \n",
            "Детские товары         Коляски                              18079    52005   \n",
            "Строительство и ремонт Сварочные аппараты                    6175    17325   \n",
            "Товары для дома        Компьютерные кресла                   6208    17407   \n",
            "Компьютерная техника   Клавиатуры                            6224    17417   \n",
            "Электроника            Универсальные внешние аккумуляторы    6146    17115   \n",
            "                       TV-тюнеры                             6275    17427   \n",
            "Бытовая техника        Холодильники                         20920    57985   \n",
            "\n",
            "source                                                        ratio  \n",
            "category_name          subcategory_name                              \n",
            "Авто                   Шины                                3.881604  \n",
            "Бытовая техника        Стиральные машины                   2.926487  \n",
            "Спорт и отдых          Велосипеды                          2.878818  \n",
            "Детские товары         Коляски                             2.876542  \n",
            "Строительство и ремонт Сварочные аппараты                  2.805668  \n",
            "Товары для дома        Компьютерные кресла                 2.803963  \n",
            "Компьютерная техника   Клавиатуры                          2.798361  \n",
            "Электроника            Универсальные внешние аккумуляторы  2.784738  \n",
            "                       TV-тюнеры                           2.777211  \n",
            "Бытовая техника        Холодильники                        2.771750  \n"
          ]
        }
      ],
      "source": [
        "#Сортировка по столбцу 'ratio' в порядке убывания\n",
        "sorted_data = data_pivot.sort_values(by='ratio', ascending=False)\n",
        "print(sorted_data.head(10))\n"
      ]
    },
    {
      "cell_type": "code",
      "execution_count": null,
      "metadata": {
        "id": "x2DGKv4qdZMs",
        "outputId": "56a01759-52e9-417a-aede-1d5d7f717068"
      },
      "outputs": [
        {
          "name": "stdout",
          "output_type": "stream",
          "text": [
            "source                                                       direct  organic  \\\n",
            "category_name              subcategory_name                                    \n",
            "Бытовая техника            Оверлоки и распошивальные машины    1536     3215   \n",
            "Товары для дома            Компьютерные и письменные столы     1999     4177   \n",
            "                           Люстры                              2016     4209   \n",
            "Строительство и ремонт     Дисковые пилы                       2040     4255   \n",
            "                           Воздушные компрессоры               1690     3520   \n",
            "Товары для здоровья        Бандажи и ортезы                    1659     3453   \n",
            "Строительство и ремонт     Нивелиры и лазерные уровни          1651     3436   \n",
            "Электроника                Защитные пленки и стекла            1560     3246   \n",
            "Одежда, обувь и аксессуары Туфли                               1035     2096   \n",
            "                           Сапоги                              1008     2021   \n",
            "\n",
            "source                                                          ratio  \n",
            "category_name              subcategory_name                            \n",
            "Бытовая техника            Оверлоки и распошивальные машины  2.093099  \n",
            "Товары для дома            Компьютерные и письменные столы   2.089545  \n",
            "                           Люстры                            2.087798  \n",
            "Строительство и ремонт     Дисковые пилы                     2.085784  \n",
            "                           Воздушные компрессоры             2.082840  \n",
            "Товары для здоровья        Бандажи и ортезы                  2.081374  \n",
            "Строительство и ремонт     Нивелиры и лазерные уровни        2.081163  \n",
            "Электроника                Защитные пленки и стекла          2.080769  \n",
            "Одежда, обувь и аксессуары Туфли                             2.025121  \n",
            "                           Сапоги                            2.004960  \n"
          ]
        }
      ],
      "source": [
        "# Сортировка и вывод последних 10 записей с прямым трафиком больше 1000\n",
        "print(sorted_data[sorted_data['direct'] > 1000].tail(10))"
      ]
    }
  ],
  "metadata": {
    "kernelspec": {
      "display_name": "Python 3 (ipykernel)",
      "language": "python",
      "name": "python3"
    },
    "language_info": {
      "codemirror_mode": {
        "name": "ipython",
        "version": 3
      },
      "file_extension": ".py",
      "mimetype": "text/x-python",
      "name": "python",
      "nbconvert_exporter": "python",
      "pygments_lexer": "ipython3",
      "version": "3.10.0"
    },
    "colab": {
      "provenance": [],
      "include_colab_link": true
    }
  },
  "nbformat": 4,
  "nbformat_minor": 0
}