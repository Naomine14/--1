{
  "cells": [
    {
      "cell_type": "markdown",
      "metadata": {
        "id": "view-in-github",
        "colab_type": "text"
      },
      "source": [
        "<a href=\"https://colab.research.google.com/github/Naomine14/--1/blob/main/%D0%A7%D0%B5%D0%BA%D0%B0%D0%BD%D0%B8%D0%BD%D0%B0_%D0%98%D0%A232_%D0%9B3.ipynb\" target=\"_parent\"><img src=\"https://colab.research.google.com/assets/colab-badge.svg\" alt=\"Open In Colab\"/></a>"
      ]
    },
    {
      "cell_type": "markdown",
      "metadata": {
        "id": "I18BPnSJOZZQ"
      },
      "source": [
        "Итак, перед тем, как браться за статистику, нужно:\n",
        "\n",
        "**1. Прочесть исходный файл и превратить его в структуру данных**\n",
        "\n",
        "К заданию прилагается файл в формате csv, где все значения разделены запятыми. Это наши исходные данные. Чтобы применить к ним все возможности языка Python и библиотеки Pandas, надо импортировать эту библиотеку и сохранить её в переменной. По сокращённому названию панельных данных (panel data), с которых начиналась Pandas, эту переменную принято называть pd:\n",
        "\n",
        "**import pandas as pd**\n",
        "\n",
        "Для чтения csv-файла в библиотеке Pandas есть готовая функция — метод **read_csv()**. Как и все методы, он вызывается записью через точку после имени своего объекта. В скобках указывается аргумент (параметр) метода. У read_csv() это имя файла с данными. Прочтение превращает файл в структуру данных DataFrame. Имя переменной, в которой эта структура данных сохраняется, чаще всего df либо отражает тематику данных:\n",
        "\n",
        "**df = pd.read_csv('music_log.csv')**\n",
        "\n",
        "**2. Посмотреть на данные**\n",
        "\n",
        "Вывести на экран таблицу и оценить данные:\n",
        "\n",
        "print(df)\n",
        "Как правило, таблица очень велика. Практичнее запросить определённое количество первых строк, методом head().\n",
        "\n",
        "**3. Оценить качество предподготовки**\n",
        "\n",
        "Нужно убедиться в том, что данные прошли предподготовку. По крайней мере, не должно быть пропусков и повторов. Пропущенные и неопределённые значения выявляет метод **isna()**, а суммарное количество таких значений — метод **sum()**.\n",
        "\n",
        "**print(df.isna().sum())**\n",
        "\n",
        "\n",
        "Повторяющиеся строки — дубликаты — выявляются методом **duplicated()** и подсчитываются тем же sum():\n",
        "\n",
        "**print(df.duplicated().sum())**\n",
        "Если возвращаются нули, всё хорошо — данные пригодны для исследования.\n"
      ]
    },
    {
      "cell_type": "markdown",
      "metadata": {
        "id": "bNfNlZ4eOZZT"
      },
      "source": [
        "## Задача\n",
        "\n",
        "1. Загрузите таблицу **exoplanet_catalog**, содержащую данные о планетах за пределами Солнечной системы, или экзопланетах. Сформируйте из данной таблицы новый датасет под назанием **exoplanet**, коорая будет содердать стоблцы name, mass, radius, discovered. Проверьте, чтобы название всех столбцов было корректным, при необходмости измените названия.\n",
        "\n",
        "2. Удалите из получившейся таблица строки с нулевыми значениями.\n",
        "\n",
        "3. Убедитесь, что таблица не содержит ни пропущенных значений, ни дубликатов."
      ]
    },
    {
      "cell_type": "code",
      "execution_count": null,
      "metadata": {
        "id": "BggXTdQZOZZU",
        "outputId": "3bd6c629-82d5-4faa-bfad-bf98b8ee6227"
      },
      "outputs": [
        {
          "name": "stdout",
          "output_type": "stream",
          "text": [
            "Проверка наличия пропущенных значений\n",
            " name          0\n",
            "mass          0\n",
            "radius        0\n",
            "discovered    0\n",
            "dtype: int64\n",
            "Проверка наличия пропущенных значений и дубликатов 0\n"
          ]
        }
      ],
      "source": [
        "import pandas as pd\n",
        "\n",
        "# Задача 1\n",
        "exoplanet_catalog = pd.read_csv('exoplanet_catalog.csv')\n",
        "\n",
        "exoplanet = exoplanet_catalog[['name', 'mass', 'radius', 'discovered']].copy()\n",
        "\n",
        "# Проверка и коррекция названий столбцов\n",
        "exoplanet.columns = exoplanet.columns.str.strip().str.lower()\n",
        "\n",
        "# Задача 2\n",
        "exoplanet = exoplanet.dropna()\n",
        "\n",
        "# Проверка наличия пропущенных значений\n",
        "print('Проверка наличия пропущенных значений\\n', exoplanet.isnull().sum())\n",
        "\n",
        "# Удаление дубликатов\n",
        "exoplanet = exoplanet.drop_duplicates()\n",
        "\n",
        "# Задача 3\n",
        "print('Проверка наличия пропущенных значений и дубликатов',exoplanet.duplicated().sum())\n"
      ]
    },
    {
      "cell_type": "markdown",
      "metadata": {
        "id": "DF2kFLZYOZZW"
      },
      "source": [
        "# Группировка данных\n",
        "\n",
        "Слово «анализ» означает разбор, рассмотрение с разных сторон. Анализ данных начинают с разделения их на группы по какому-нибудь признаку. Эта операция называется группировка данных. Она помогает изучить материал более подробно, чтобы затем перейти к поиску взаимосвязей между отдельными группами.\n",
        "\n",
        "\n",
        "Группировка оправданна, если данные чётко делятся по значимому признаку, а полученные группы близки к теме задачи. Например, когда есть данные обо всех покупках в супермаркете, можно смело заниматься группировкой. Так можно установить время наплыва покупателей и решить проблему пиковых нагрузок. Или посчитать средний чек — обычно для магазинов это ключевая метрика.\n",
        "\n",
        "\n",
        "Стадии группировки хорошо укладываются в словесную формулу **split-apply-combine**:\n",
        "\n",
        "•\tразделить, **split** — разбиение на группы по определённому критерию;\n",
        "\n",
        "•\tприменить, **apply** — применение какого-либо метода к каждой группе в отдельности, например, подсчёт численности группы методом count() или суммирование вызовом sum();\n",
        "\n",
        "•\tобъединить, **combine** — сведение результатов в новую структуру данных, в зависимости от условий разделения и выполнения метода это бывает DataFrame и Series.\n",
        "\n",
        "В библиотеке Pandas есть отличные инструменты группировки. Рассмотрим обращение с ними на примере анализа данных о планетах за пределами Солнечной системы, или экзопланетах. Орбитальные обсерватории засекли уже тысячи таких небесных тел. Их выявляют на снимках космических телескопов наши коллеги, аналитики данных. Поищем среди экзопланет похожие на Землю. Возможно, это наши будущие колонии, или там уже обитают разумные существа, с которыми однажды предстоит установить контакт.\n",
        "\n",
        "DataFrame с данными по нескольким тысячам экзопланет сохранён в переменной **exoplanet**. Посмотрим на первые 30 строк таблицы:\n"
      ]
    },
    {
      "cell_type": "code",
      "execution_count": null,
      "metadata": {
        "id": "AnkV42G3OZZX",
        "outputId": "f21f9eed-35b9-4498-b35f-a3b908c88a7e"
      },
      "outputs": [
        {
          "name": "stdout",
          "output_type": "stream",
          "text": [
            "                                                 name planet_status  mass  \\\n",
            "0                                            11 Com b     Confirmed   NaN   \n",
            "1   11 Oph b,Confirmed,21.0,3.0,3.0,,,,,,,730000.0...           NaN   NaN   \n",
            "2                                            11 UMi b     Confirmed   NaN   \n",
            "3                                            14 And b     Confirmed   NaN   \n",
            "4                                            14 Her b     Confirmed   NaN   \n",
            "5                                            14 Her c     Confirmed   5.8   \n",
            "6                                          16 Cyg B b     Confirmed   NaN   \n",
            "7                                            17 Sco b     Confirmed   NaN   \n",
            "8                                            18 Del b     Confirmed   NaN   \n",
            "9   1I/'Oumuamua,Confirmed,,,,,,,2e-06,,,,,,,,,1.1...           NaN   NaN   \n",
            "10  1RXS 1609 b,Confirmed,14.0,3.0,2.0,,,,1.7,,,,,...           NaN   NaN   \n",
            "11                            1RXS J235133.3+312720 b     Confirmed  32.0   \n",
            "12                                     1SWASP J1407 b     Confirmed   NaN   \n",
            "13                                           24 Boo b     Confirmed   NaN   \n",
            "14                                           24 Sex b     Confirmed   NaN   \n",
            "15                                           24 Sex c     Confirmed   NaN   \n",
            "16  2I/Borisov,Confirmed,,,,,,,6.2e-05,,,,,,,,,3.1...           NaN   NaN   \n",
            "17                                  2M 0103-55 (AB) b     Confirmed  13.0   \n",
            "18                                       2M 0122-24 b     Confirmed  20.0   \n",
            "19                                       2M 0219-39 b     Confirmed  13.9   \n",
            "20                                       2M 0441+23 b     Confirmed   7.5   \n",
            "21                                       2M 1938+46 b     Confirmed   1.9   \n",
            "22                                       2M 2140+16 b     Confirmed  20.0   \n",
            "23                                       2M 2206-20 b     Confirmed  30.0   \n",
            "24  2M 2236+4751 b,Confirmed,12.5,1.5,1.5,,,,,,,,,...           NaN   NaN   \n",
            "25                                      2M J2126-81 b     Confirmed  13.3   \n",
            "26                                          2M0045+16     Confirmed  25.0   \n",
            "27                                          2M0117-34     Confirmed  16.4   \n",
            "28                                        2M0838+15 b     Confirmed   NaN   \n",
            "29                                        2M0838+15 c     Confirmed   NaN   \n",
            "\n",
            "    mass_error_min  mass_error_max  mass_sini  mass_sini_error_min  \\\n",
            "0              NaN             NaN      19.40                 1.50   \n",
            "1              NaN             NaN        NaN                  NaN   \n",
            "2              NaN             NaN      10.50                 2.47   \n",
            "3              NaN             NaN       5.33                 0.57   \n",
            "4              NaN             NaN       4.64                 0.19   \n",
            "5              1.0             1.4        NaN                  NaN   \n",
            "6              NaN             NaN       1.68                 0.07   \n",
            "7              NaN             NaN       4.32                 0.12   \n",
            "8              NaN             NaN      10.30                  NaN   \n",
            "9              NaN             NaN        NaN                  NaN   \n",
            "10             NaN             NaN        NaN                  NaN   \n",
            "11             6.0             6.0        NaN                  NaN   \n",
            "12             NaN             NaN      20.00                 6.00   \n",
            "13             NaN             NaN       0.91                 0.10   \n",
            "14             NaN             NaN       1.99                 0.38   \n",
            "15             NaN             NaN       0.86                 0.22   \n",
            "16             NaN             NaN        NaN                  NaN   \n",
            "17             1.0             1.0        NaN                  NaN   \n",
            "18             7.0             7.0        NaN                  NaN   \n",
            "19             1.1             1.1        NaN                  NaN   \n",
            "20             2.5             2.5        NaN                  NaN   \n",
            "21             0.1             0.1        NaN                  NaN   \n",
            "22            20.0            80.0        NaN                  NaN   \n",
            "23            20.0            70.0        NaN                  NaN   \n",
            "24             NaN             NaN        NaN                  NaN   \n",
            "25             1.7             1.7        NaN                  NaN   \n",
            "26             4.6             4.6        NaN                  NaN   \n",
            "27             3.7             3.7        NaN                  NaN   \n",
            "28             NaN             NaN        NaN                  NaN   \n",
            "29             NaN             NaN        NaN                  NaN   \n",
            "\n",
            "    mass_sini_error_max  radius  radius_error_min  ...  star_sp_type  \\\n",
            "0                  1.50     NaN               NaN  ...        G8 III   \n",
            "1                   NaN     NaN               NaN  ...           NaN   \n",
            "2                  2.47     NaN               NaN  ...         K4III   \n",
            "3                  0.57     NaN               NaN  ...         K0III   \n",
            "4                  0.19     NaN               NaN  ...          K0 V   \n",
            "5                   NaN     NaN               NaN  ...          K0 V   \n",
            "6                  0.07     NaN               NaN  ...        G2.5 V   \n",
            "7                  0.15     NaN               NaN  ...        K3 III   \n",
            "8                   NaN     NaN               NaN  ...         G6III   \n",
            "9                   NaN     NaN               NaN  ...           NaN   \n",
            "10                  NaN     NaN               NaN  ...           NaN   \n",
            "11                  NaN     NaN               NaN  ...           M2V   \n",
            "12                 6.00     NaN               NaN  ...           NaN   \n",
            "13                 0.13     NaN               NaN  ...          G3IV   \n",
            "14                 0.26     NaN               NaN  ...            G5   \n",
            "15                 0.35     NaN               NaN  ...            G5   \n",
            "16                  NaN     NaN               NaN  ...           NaN   \n",
            "17                  NaN     NaN               NaN  ...             M   \n",
            "18                  NaN    1.00              0.20  ...          M3.5   \n",
            "19                  NaN    1.44              0.03  ...            M6   \n",
            "20                  NaN     NaN               NaN  ...          M8.5   \n",
            "21                  NaN     NaN               NaN  ...         sdB+M   \n",
            "22                  NaN    0.92              0.39  ...           NaN   \n",
            "23                  NaN    1.30              0.18  ...           NaN   \n",
            "24                  NaN     NaN               NaN  ...           NaN   \n",
            "25                  NaN     NaN               NaN  ...            M2   \n",
            "26                  NaN     NaN               NaN  ...           NaN   \n",
            "27                  NaN     NaN               NaN  ...           NaN   \n",
            "28                  NaN     NaN               NaN  ...            T3   \n",
            "29                  NaN     NaN               NaN  ...            T3   \n",
            "\n",
            "    star_age  star_age_error_min  star_age_error_max  star_teff  \\\n",
            "0        NaN                 NaN                 NaN     4742.0   \n",
            "1        NaN                 NaN                 NaN        NaN   \n",
            "2      1.560               0.540               0.540     4340.0   \n",
            "3        NaN                 NaN                 NaN     4813.0   \n",
            "4      5.100                 NaN                 NaN     5311.0   \n",
            "5      5.100                 NaN                 NaN     5311.0   \n",
            "6      8.000               1.800               1.800     5766.0   \n",
            "7      5.130               1.330               2.120     4157.0   \n",
            "8        NaN                 NaN                 NaN     4979.0   \n",
            "9        NaN                 NaN                 NaN        NaN   \n",
            "10       NaN                 NaN                 NaN        NaN   \n",
            "11     0.100               0.050               0.050        NaN   \n",
            "12     0.016                 NaN                 NaN     4400.0   \n",
            "13     6.920               4.800               4.800     4893.0   \n",
            "14     2.700               0.400               0.400     5098.0   \n",
            "15     2.700               0.400               0.400     5098.0   \n",
            "16       NaN                 NaN                 NaN        NaN   \n",
            "17     0.030                 NaN                 NaN        NaN   \n",
            "18     0.120               0.010               0.010        NaN   \n",
            "19       NaN                 NaN                 NaN     3064.0   \n",
            "20     0.001                 NaN                 NaN        NaN   \n",
            "21       NaN                 NaN                 NaN        NaN   \n",
            "22       NaN                 NaN                 NaN     2300.0   \n",
            "23       NaN                 NaN                 NaN     2350.0   \n",
            "24       NaN                 NaN                 NaN        NaN   \n",
            "25     0.027               0.017               0.017        NaN   \n",
            "26       NaN                 NaN                 NaN        NaN   \n",
            "27       NaN                 NaN                 NaN        NaN   \n",
            "28       NaN                 NaN                 NaN        NaN   \n",
            "29       NaN                 NaN                 NaN        NaN   \n",
            "\n",
            "    star_teff_error_min  star_teff_error_max  star_detected_disc  \\\n",
            "0                 100.0                100.0                 NaN   \n",
            "1                   NaN                  NaN                 NaN   \n",
            "2                  70.0                 70.0                 NaN   \n",
            "3                  20.0                 20.0                 NaN   \n",
            "4                  87.0                 87.0                 NaN   \n",
            "5                  87.0                 87.0                 NaN   \n",
            "6                  60.0                 60.0                 NaN   \n",
            "7                  11.0                 11.0                 NaN   \n",
            "8                  18.0                 18.0                 NaN   \n",
            "9                   NaN                  NaN                 NaN   \n",
            "10                  NaN                  NaN                 NaN   \n",
            "11                  NaN                  NaN                 NaN   \n",
            "12                100.0                100.0                 NaN   \n",
            "13                 15.0                 15.0                 NaN   \n",
            "14                 44.0                 44.0                 NaN   \n",
            "15                 44.0                 44.0                 NaN   \n",
            "16                  NaN                  NaN                 NaN   \n",
            "17                  NaN                  NaN                 NaN   \n",
            "18                  NaN                  NaN                 NaN   \n",
            "19                 76.0                 76.0                 NaN   \n",
            "20                  NaN                  NaN                 NaN   \n",
            "21                  NaN                  NaN                 NaN   \n",
            "22                 80.0                 80.0                 NaN   \n",
            "23                 80.0                 80.0                 NaN   \n",
            "24                  NaN                  NaN                 NaN   \n",
            "25                  NaN                  NaN                 NaN   \n",
            "26                  NaN                  NaN                 NaN   \n",
            "27                  NaN                  NaN                 NaN   \n",
            "28                  NaN                  NaN                 NaN   \n",
            "29                  NaN                  NaN                 NaN   \n",
            "\n",
            "    star_magnetic_field     star_alternate_names;  \n",
            "0                   NaN                         ;  \n",
            "1                   NaN                       NaN  \n",
            "2                   NaN                         ;  \n",
            "3                   NaN                         ;  \n",
            "4                   NaN                         ;  \n",
            "5                   NaN                         ;  \n",
            "6                   NaN                         ;  \n",
            "7                   NaN                         ;  \n",
            "8                   NaN                         ;  \n",
            "9                   NaN                       NaN  \n",
            "10                  NaN                       NaN  \n",
            "11                  NaN  2MASS J23513366+3127229;  \n",
            "12                  NaN                         ;  \n",
            "13                  NaN                         ;  \n",
            "14                  NaN                         ;  \n",
            "15                  NaN                         ;  \n",
            "16                  NaN                       NaN  \n",
            "17                  NaN                         ;  \n",
            "18                  NaN                         ;  \n",
            "19                  NaN   2MASS J0292210-3925225;  \n",
            "20                  NaN                         ;  \n",
            "21                  NaN               Kepler-451;  \n",
            "22                  NaN                         ;  \n",
            "23                  NaN                         ;  \n",
            "24                  NaN                       NaN  \n",
            "25                  NaN                         ;  \n",
            "26                  NaN                         ;  \n",
            "27                  NaN                         ;  \n",
            "28                  NaN                         ;  \n",
            "29                  NaN                         ;  \n",
            "\n",
            "[30 rows x 98 columns]\n"
          ]
        }
      ],
      "source": [
        "print(exoplanet_catalog.head(30))"
      ]
    },
    {
      "cell_type": "markdown",
      "metadata": {
        "id": "RvRx3p-MOZZX"
      },
      "source": [
        "**Документация**\n",
        "\n",
        "Столбцы:\n",
        "\n",
        "•\tname: название экзопланеты;\n",
        "\n",
        "•\tmass: масса в массах планеты Юпитер;\n",
        "\n",
        "•\tradius: радиус, пересчитанный в радиусах Земли;\n",
        "\n",
        "•\tdiscovered: год открытия экзопланеты.\n",
        "\n",
        "*Источник: каталог экзопланет на портале exoplanet.eu*\n",
        "\n",
        "На картинке изображен принцип **split-apply-combine** для таблицы с экзопланетами. Посмотрим, как вообще идут дела с поиском экзопланет. Сначала данные делят по группам, где каждая группа — это год. Потом метод **count()** подсчитывает численность каждой группы. В итоге получаем новую структуру данных с группами, где каждая содержит год и число открытых за этот год экзопланет.\n",
        "\n",
        "\n",
        "В Рandas для группировки данных есть метод **groupby()**. Он принимает как аргумент название столбца, по которому нужно группировать. В случае с делением экзопланет по годам открытия:\n"
      ]
    },
    {
      "cell_type": "markdown",
      "metadata": {
        "id": "l4brDo8HOZZY"
      },
      "source": [
        "**print(exoplanet.groupby('discovered'))**\n",
        "\n",
        "**<pandas.core.groupby.DataFrameGroupBy object at 0x7fc1e1ca3400>**\n",
        "\n",
        "\n",
        "Применение метода **groupby()** к объекту типа DataFrame приводит к созданию объекта особого типа — **DataFrameGroupBy**. Это сгруппированные данные. Если применить к ним какой-нибудь метод Pandas, они станут новой структурой данных типа **DataFrame** или **Series**.\n",
        "Подсчитаем сгруппированные по годам экзопланеты методом **count()**:\n"
      ]
    },
    {
      "cell_type": "code",
      "execution_count": null,
      "metadata": {
        "id": "ggYJaURtOZZZ",
        "outputId": "867eede8-cf64-430d-b4e8-67fb85ffa7cc"
      },
      "outputs": [
        {
          "name": "stdout",
          "output_type": "stream",
          "text": [
            "            name  mass  radius\n",
            "discovered                    \n",
            "1996.0         1     1       1\n",
            "2000.0         2     2       2\n",
            "2001.0         1     1       1\n",
            "2002.0         1     1       1\n",
            "2004.0         5     5       5\n",
            "2005.0         3     3       3\n",
            "2006.0         6     6       6\n",
            "2007.0        18    18      18\n",
            "2008.0        18    18      18\n",
            "2009.0         8     8       8\n",
            "2010.0        41    41      41\n",
            "2011.0        45    45      45\n",
            "2012.0        24    24      24\n",
            "2013.0        27    27      27\n",
            "2014.0        20    20      20\n",
            "2015.0        22    22      22\n",
            "2016.0        45    45      45\n",
            "2017.0        31    31      31\n",
            "2018.0        60    60      60\n",
            "2019.0        51    51      51\n",
            "2020.0        79    79      79\n",
            "2021.0        42    42      42\n"
          ]
        }
      ],
      "source": [
        "print(exoplanet.groupby('discovered').count())\n"
      ]
    },
    {
      "cell_type": "markdown",
      "metadata": {
        "id": "qcCXKwYDOZZZ"
      },
      "source": [
        "Если нужно сравнить наблюдения по одному показателю, метод применяют к **DataFrameGroupBy** с указанием на один столбец. Нас в первую очередь интересует радиус экзопланет: мы ищем другую Землю. Давайте получим таблицу с единственным столбцом 'radius':\n",
        "\n",
        "**exo_number = exoplanet.groupby('discovered')['radius'].count()**\n",
        "\n",
        "**print(exo_number)**"
      ]
    },
    {
      "cell_type": "code",
      "execution_count": null,
      "metadata": {
        "id": "1-B2DRnWOZZa",
        "outputId": "aec75a70-c155-44e0-dd9f-ad62afd1bf7b"
      },
      "outputs": [
        {
          "name": "stdout",
          "output_type": "stream",
          "text": [
            "discovered\n",
            "1996.0     1\n",
            "2000.0     2\n",
            "2001.0     1\n",
            "2002.0     1\n",
            "2004.0     5\n",
            "2005.0     3\n",
            "2006.0     6\n",
            "2007.0    18\n",
            "2008.0    18\n",
            "2009.0     8\n",
            "2010.0    41\n",
            "2011.0    45\n",
            "2012.0    24\n",
            "2013.0    27\n",
            "2014.0    20\n",
            "2015.0    22\n",
            "2016.0    45\n",
            "2017.0    31\n",
            "2018.0    60\n",
            "2019.0    51\n",
            "2020.0    79\n",
            "2021.0    42\n",
            "Name: radius, dtype: int64\n"
          ]
        }
      ],
      "source": [
        "exo_number = exoplanet.groupby('discovered')['radius'].count()\n",
        "print(exo_number)"
      ]
    },
    {
      "cell_type": "markdown",
      "metadata": {
        "id": "_ycZQqtPOZZb"
      },
      "source": [
        "Получили Series, где по годам открытия расписано количество экзопланет, для которых удалось установить радиус.\n",
        "\n",
        "Посмотрим, как меняется средний радиус открытых экзопланет год от года. Для этого надо сложить радиусы планет, открытых за определённый год, и поделить на их количество (которое мы уже нашли).\n",
        "\n",
        "Сумма радиусов считается методом **sum()**:\n",
        "\n",
        "**exo_radius_sum = exoplanet.groupby('discovered')['radius'].sum()**\n",
        "\n",
        "\n",
        "**print(exo_radius_sum)**\n",
        "\n"
      ]
    },
    {
      "cell_type": "code",
      "execution_count": null,
      "metadata": {
        "id": "XfrJxzpcOZZb",
        "outputId": "fd9c5dd3-772c-4b2e-d9c2-e00e2fa2467d"
      },
      "outputs": [
        {
          "name": "stdout",
          "output_type": "stream",
          "text": [
            "discovered\n",
            "1996.0     1.060000\n",
            "2000.0     2.007000\n",
            "2001.0     0.921000\n",
            "2002.0     1.200000\n",
            "2004.0     6.236000\n",
            "2005.0     3.651000\n",
            "2006.0    15.863000\n",
            "2007.0    23.361600\n",
            "2008.0    24.179000\n",
            "2009.0     6.091794\n",
            "2010.0    46.309490\n",
            "2011.0    48.860674\n",
            "2012.0    29.561700\n",
            "2013.0    35.518800\n",
            "2014.0    22.925000\n",
            "2015.0    26.512240\n",
            "2016.0    55.220000\n",
            "2017.0    29.684920\n",
            "2018.0    65.627080\n",
            "2019.0    48.620800\n",
            "2020.0    60.420350\n",
            "2021.0    31.915760\n",
            "Name: radius, dtype: float64\n"
          ]
        }
      ],
      "source": [
        "exo_radius_sum = exoplanet.groupby('discovered')['radius'].sum()\n",
        "\n",
        "print(exo_radius_sum)\n"
      ]
    },
    {
      "cell_type": "markdown",
      "metadata": {
        "id": "lLLJhCCOOZZc"
      },
      "source": [
        "Очень кстати, что объекты Series можно делить друг на друга. Это позволит нам разделить перечень сумм радиусов на перечень количеств экзопланет без перебора в цикле:\n",
        "\n",
        "\n",
        "**exo_radius_mean = exo_radius_sum/exo_number**\n",
        "\n",
        "**print(exo_radius_mean)**\n"
      ]
    },
    {
      "cell_type": "code",
      "execution_count": null,
      "metadata": {
        "id": "YaHg3es4OZZc",
        "outputId": "03f37ad1-5ed9-4668-bd8f-c89574bad2cf"
      },
      "outputs": [
        {
          "name": "stdout",
          "output_type": "stream",
          "text": [
            "discovered\n",
            "1996.0    1.060000\n",
            "2000.0    1.003500\n",
            "2001.0    0.921000\n",
            "2002.0    1.200000\n",
            "2004.0    1.247200\n",
            "2005.0    1.217000\n",
            "2006.0    2.643833\n",
            "2007.0    1.297867\n",
            "2008.0    1.343278\n",
            "2009.0    0.761474\n",
            "2010.0    1.129500\n",
            "2011.0    1.085793\n",
            "2012.0    1.231737\n",
            "2013.0    1.315511\n",
            "2014.0    1.146250\n",
            "2015.0    1.205102\n",
            "2016.0    1.227111\n",
            "2017.0    0.957578\n",
            "2018.0    1.093785\n",
            "2019.0    0.953349\n",
            "2020.0    0.764815\n",
            "2021.0    0.759899\n",
            "Name: radius, dtype: float64\n"
          ]
        }
      ],
      "source": [
        "exo_radius_mean = exo_radius_sum/exo_number\n",
        "\n",
        "print(exo_radius_mean)\n"
      ]
    },
    {
      "cell_type": "markdown",
      "metadata": {
        "id": "iZ7X6YmbOZZc"
      },
      "source": [
        "Точность наших приборов растёт, и новые экзопланеты по размерам всё ближе к Земле.\n",
        "\n",
        "А теперь вернемся к анализу датафрейма с музыкльными предпочтениями слушателей Яндекс.Музыки. Идею объединения сервисов Музыка и Радио тестировали на небольшой группе пользователей. Результаты сведены в csv-файл, который вам предстоит изучить. Итог анализа таких данных — это метрики: величины, значения которых отражают пользовательские впечатления. Одна из важнейших — **happiness**. Здесь это среднее время, которое пользователь слушает музыку в течение выбранного периода времени (в нашей задаче — за сутки). Чем дольше пользователь слушает музыку, тем он довольнее. Ваша задача: найти значение happiness и посмотреть, как оно менялось.\n",
        "\n",
        "Тем же методом **groupby()**, которым мы ищем новую Землю, можно поискать и необыкновенного человека в данных Яндекс.Музыки. Тем более, что без этого не выполнить поставленной менеджером задачи.\n",
        "\n",
        "Прежде, чем рассчитывать метрику happiness, нужно изучить пользователей, чьё «счастье» мы собираемся оценить. Какие они, эти люди, которые слушают действительно много музыки? Есть ли у них особые предпочтения, или они потребляют всё подряд?\n"
      ]
    },
    {
      "cell_type": "code",
      "execution_count": null,
      "metadata": {
        "id": "nXIOOpEhOZZd"
      },
      "outputs": [],
      "source": [
        "#обработка данных для дальнейшей работы\n",
        "\n",
        "import pandas as pd\n",
        "\n",
        "yandex_music = pd.read_csv('yandex_music.csv')\n",
        "\n",
        "new_names = {\n",
        "'  userID': 'user_id',\n",
        "'Track': 'track_name',\n",
        "'artist': 'artist_name',\n",
        "'genre': 'genre_name',\n",
        "'  City  ': 'city',\n",
        "'time': 'total_play_seconds',\n",
        "'Day': 'day'\n",
        "}\n",
        "\n",
        "yandex_music.rename(columns=new_names, inplace=True)\n",
        "\n",
        "yandex_music.fillna({'track_name':'unknown'}, inplace=True)\n",
        "\n",
        "yandex_music.fillna({'artist_name':'unknown'}, inplace=True)\n",
        "\n",
        "yandex_music = yandex_music.dropna(subset=['genre_name'])\n",
        "yandex_music['genre_name'] = yandex_music['genre_name'].replace('электроника', 'electronic')\n"
      ]
    },
    {
      "cell_type": "markdown",
      "metadata": {
        "id": "DKz1AEcWOZZd"
      },
      "source": [
        "## Задача\n",
        "\n",
        "1. Меломаны у нас есть. Сейчас узнаем идентификатор **user_id** одного из них. Для этого сгруппируем данные по каждому пользователю, чтобы собрать жанры прослушанных им композиций.\n",
        "\n",
        "Сгруппируйте DataFrame по столбцу user_id, сохраните полученный результат в переменной genre_grouping.\n",
        "\n",
        "Посчитайте количество жанров, которые выбрали пользователи, методом count(), указав, что выбираем один столбец genre_name.\n",
        "\n",
        "Сохраните результат в переменной genre_counting и выведите первые 30 строк этой таблицы.\n",
        "\n",
        "2. Быть может, те, кто за день слушает больше 50 песен, имеют более широкие предпочтения. Чтобы найти такого, изготовим универсальный инструмент.\n",
        "\n",
        "Напишите функцию user_genres, которая принимает некую группировку как свой аргумент group. Функция должна перебирать группы, входящие в эту группировку.\n",
        "\n",
        "В каждой группе два элемента — имя группы с индексом 0 и список значений с индексом 1.\n",
        "\n",
        "Обнаружив такую группу, в которой список (элемент с индексом 1) содержит более 50 значений, функция возвращает имя группы (значение элемента с индексом 0).\n",
        "\n",
        "3. Вызовите функцию **user_genres**, как аргумент передайте ей **genre_grouping**. Результат – **user_id** неведомого нам любителя музыки – сохраните в переменной **search_id** и выведите значение на экран.\n"
      ]
    },
    {
      "cell_type": "code",
      "execution_count": null,
      "metadata": {
        "id": "qspdD1APOZZd",
        "outputId": "b7daeb3b-d47a-49f1-e6a7-7a9615ba0ef5"
      },
      "outputs": [
        {
          "name": "stdout",
          "output_type": "stream",
          "text": [
            "     user_id  genre_count\n",
            "0   10004220            3\n",
            "1   100173ED            1\n",
            "2   1001CE90            5\n",
            "3   1002410A            1\n",
            "4   100261F9            1\n",
            "5   1004AAE6            1\n",
            "6   1004C5D8            1\n",
            "7   1005BECA            1\n",
            "8   10089377            2\n",
            "9   100AB021            1\n",
            "10  100ACFBC            1\n",
            "11  10101201            2\n",
            "12  10107FC7            2\n",
            "13  10112F4C            2\n",
            "14  1016144E            1\n",
            "15  1016C39F            2\n",
            "16  10180175            1\n",
            "17  101861D1            2\n",
            "18  10189D10            2\n",
            "19  101AAA19            1\n",
            "20  101B046A            2\n",
            "21  101B53F1            1\n",
            "22  101BBC61            1\n",
            "23  101C12A4            2\n",
            "24  101D714C            1\n",
            "25  101E910F            1\n",
            "26  10211433            1\n",
            "27  10222F55            1\n",
            "28  1022B77E            1\n",
            "29  10246DCB            2\n",
            "7D166C63\n"
          ]
        }
      ],
      "source": [
        "# Задача 1\n",
        "genre_grouping = yandex_music.groupby('user_id')\n",
        "\n",
        "# Посчитаем количество жанров для каждого пользователя\n",
        "genre_counting = genre_grouping['genre_name'].nunique().reset_index(name='genre_count')\n",
        "print(genre_counting.head(30))\n",
        "\n",
        "\n",
        "# Задача 2\n",
        "def user_genres(group):\n",
        "    for user_id, songs in group:\n",
        "        if len(songs) > 50:\n",
        "            return user_id\n",
        "    return None\n",
        "\n",
        "\n",
        "# Задача 3\n",
        "search_id = user_genres(genre_grouping)\n",
        "print(search_id)\n"
      ]
    },
    {
      "cell_type": "markdown",
      "metadata": {
        "id": "xFLNGan9OZZe"
      },
      "source": [
        "# Сортировка данных"
      ]
    },
    {
      "cell_type": "markdown",
      "metadata": {
        "id": "P2Avp_liOZZe"
      },
      "source": [
        "Поиск необычного в группе — что среди планет, что среди меломанов — это прежде всего поиск чемпионов: объектов с выдающимися показателями по разным статьям. Как всю таблицу, так и отдельные группы изучают, сортируя строки по какому-либо столбцу.\n",
        "\n",
        "В Pandas для этой операции есть метод **sort_values()**. У него два аргумента:\n",
        "\n",
        "• **by = 'имя столбца'** — имя столбца, по которому нужно сортировать;\n",
        "\n",
        "• **ascending:** по умолчанию True. Для сортировки по убыванию установите значение False.\n",
        "\n",
        "\n",
        "\n",
        "Среди экзопланет интересны близкие по размерам к Земле. Есть ли такие? Отсортируем список по радиусу в порядке возрастания. Тогда в голове таблицы окажутся самые малые, на которых гравитация не прижмёт нас к полу.\n",
        "\n",
        "**print(exoplanet.sort_values(by='radius').head(30))**\n"
      ]
    },
    {
      "cell_type": "code",
      "execution_count": null,
      "metadata": {
        "id": "VtXmdKzuOZZf",
        "outputId": "2195ec4d-add7-4a15-e4c8-7da8ce5cfd35"
      },
      "outputs": [
        {
          "name": "stdout",
          "output_type": "stream",
          "text": [
            "              name      mass   radius  discovered\n",
            "4473  TRAPPIST-1 h  0.001041  0.06740      2017.0\n",
            "4469  TRAPPIST-1 d  0.001300  0.06890      2016.0\n",
            "4470  TRAPPIST-1 e  0.002000  0.08190      2017.0\n",
            "4449     TOI-700 b  0.004060  0.09010      2020.0\n",
            "4471  TRAPPIST-1 f  0.002100  0.09323      2017.0\n",
            "4468  TRAPPIST-1 c  0.004340  0.09421      2016.0\n",
            "1699    KOI-2700 b  0.002710  0.09460      2013.0\n",
            "4467  TRAPPIST-1 b  0.002700  0.09689      2016.0\n",
            "4108    LHS 1815 b  0.013200  0.09707      2020.0\n",
            "4472  TRAPPIST-1 g  0.004220  0.10050      2017.0\n",
            "4404     TOI-178 b  0.004720  0.10278      2020.0\n",
            "4451     TOI-700 d  0.007110  0.10620      2020.0\n",
            "218      GJ 1252 b  0.006580  0.10643      2018.0\n",
            "335      GJ 9827 c  0.006040  0.10700      2017.0\n",
            "687    HD 158259 b  0.008500  0.10700      2020.0\n",
            "4107    LHS 1478 b  0.007330  0.11060      2021.0\n",
            "4425     TOI-270 b  0.006000  0.11125      2019.0\n",
            "264      GJ 3473 b  0.005850  0.11277      2020.0\n",
            "4106    LHS 1140 c  0.005690  0.11437      2018.0\n",
            "287       GJ 486 b  0.008870  0.11643      2021.0\n",
            "4119   LTT 1445A b  0.026400  0.12040      2019.0\n",
            "4100     L 168-9 b  0.014500  0.12400      2020.0\n",
            "4392    TOI-1444 b  0.012180  0.12463      2021.0\n",
            "863    HD 219134 c  0.012460  0.12624      2015.0\n",
            "4440     TOI-561 b  0.005000  0.12670      2020.0\n",
            "4420     TOI-237 b  0.009000  0.12850      2020.0\n",
            "614    HD 136352 b  0.014540  0.13222      2011.0\n",
            "862    HD 219134 b  0.013430  0.13400      2015.0\n",
            "157      CoRoT-7 b  0.014900  0.13600      2009.0\n",
            "334      GJ 9827 b  0.015320  0.13641      2017.0\n"
          ]
        }
      ],
      "source": [
        "print(exoplanet.sort_values(by='radius').head(30))\n"
      ]
    },
    {
      "cell_type": "markdown",
      "metadata": {
        "id": "5Q79BDKROZZf"
      },
      "source": [
        "Оказывается, некоторые из уже открытых экзопланет по размерам близки не то что к Земле, но уже и к Луне! Получим список экзопланет с радиусом меньше земного. Смотрите, как логический оператор (здесь это <) задействуется в отборе элементов столбца. Дальше нам этот приём не раз понадобится.\n",
        "\n",
        "\n",
        "**print(exoplanet[exoplanet['radius'] < 1])**"
      ]
    },
    {
      "cell_type": "code",
      "execution_count": null,
      "metadata": {
        "id": "Zm3jtToWOZZg",
        "outputId": "16460a7d-ebb4-4903-9199-938e9257106a"
      },
      "outputs": [
        {
          "name": "stdout",
          "output_type": "stream",
          "text": [
            "                  name      mass   radius  discovered\n",
            "22        2M 2140+16 b  20.00000  0.92000      2010.0\n",
            "41    2MASS J0348-6022  43.00000  0.91000      2021.0\n",
            "42    2MASS J0407+1546  67.00000  0.97000      2021.0\n",
            "48    2MASS J1219+3128  49.00000  0.97000      2021.0\n",
            "85            AU Mic b   0.05300  0.39080      2020.0\n",
            "...                ...       ...      ...         ...\n",
            "4662         WASP-64 b   1.20000  0.70000      2011.0\n",
            "4686         WASP-84 b   0.69400  0.94200      2013.0\n",
            "4732        Wolf 940 b  26.00000  0.92000      2009.0\n",
            "4751  ZTF J0038+2030 b  59.30000  0.78300      2021.0\n",
            "4783          pi Men c   0.01517  0.16719      2018.0\n",
            "\n",
            "[184 rows x 4 columns]\n"
          ]
        }
      ],
      "source": [
        "print(exoplanet[exoplanet['radius'] < 1])"
      ]
    },
    {
      "cell_type": "markdown",
      "metadata": {
        "id": "OXsNjnZQOZZg"
      },
      "source": [
        "Но и этот список такой длинный, что изучать его лучше по частям. Экзопланеты, близкие по размерам к Земле, за последнее десятилетие открывали нередко. Можно изучать список открытых за каждый год. Например, для 2014 года (вновь обратите внимание на работу логического оператора, теперь это ==):\n",
        "\n",
        "**print(exoplanet[exoplanet['discovered'] == 2014])**\n"
      ]
    },
    {
      "cell_type": "code",
      "execution_count": null,
      "metadata": {
        "id": "8BpReTqyOZZh",
        "outputId": "649ffc8a-53d9-4319-b6da-3146b62554c9"
      },
      "outputs": [
        {
          "name": "stdout",
          "output_type": "stream",
          "text": [
            "              name     mass  radius  discovered\n",
            "342       GU Psc b  11.0000   1.350      2014.0\n",
            "394     HAT-P-49 b   1.7300   1.413      2014.0\n",
            "400     HAT-P-54 b   0.7600   0.944      2014.0\n",
            "427      HATS-15 b   2.1700   1.105      2014.0\n",
            "454       HATS-4 b   1.3230   1.020      2014.0\n",
            "465       HATS-5 b   0.2370   0.912      2014.0\n",
            "477       HATS-6 b   0.3190   0.998      2014.0\n",
            "1164  HIP 116454 b   0.0372   0.226      2014.0\n",
            "4521    WASP-104 b   1.2720   1.137      2014.0\n",
            "4523    WASP-106 b   1.9250   1.085      2014.0\n",
            "4526    WASP-108 b   1.1670   1.215      2014.0\n",
            "4527    WASP-109 b   0.9100   1.443      2014.0\n",
            "4528    WASP-110 b   0.5150   1.238      2014.0\n",
            "4529    WASP-111 b   1.8500   1.442      2014.0\n",
            "4530    WASP-112 b   0.8800   1.191      2014.0\n",
            "4533    WASP-117 b   0.2755   1.021      2014.0\n",
            "4685     WASP-83 b   0.3000   1.040      2014.0\n",
            "4688   WASP-87 A b   2.2100   1.385      2014.0\n",
            "4690     WASP-89 b   5.9000   1.040      2014.0\n",
            "4695   WASP-94 A b   0.4520   1.720      2014.0\n"
          ]
        }
      ],
      "source": [
        "print(exoplanet[exoplanet['discovered'] == 2014])\n"
      ]
    },
    {
      "cell_type": "markdown",
      "metadata": {
        "id": "8XoJ8KczOZZh"
      },
      "source": [
        "А чтобы не тратить время на лишнее, поставим оба условия сразу. Для этого в Pandas есть логический оператор &, подобный оператору and языка Python. Напомним, его смысл на русском языке можно передать словами «и ещё»:\n",
        "\n",
        "**# экзопланеты меньше Земли __ и ещё __ открытые в 2014 году**\n",
        "\n",
        "**exo_small_14 = exoplanet[ (exoplanet['radius']<1) & (exoplanet['discovered']==2014)]**\n",
        "\n",
        "**print(exo_small_14)**\n",
        "\n"
      ]
    },
    {
      "cell_type": "code",
      "execution_count": null,
      "metadata": {
        "id": "jSANajv6OZZh",
        "outputId": "6b5e12cc-eb6e-4300-d34f-f5442e4b6280"
      },
      "outputs": [
        {
          "name": "stdout",
          "output_type": "stream",
          "text": [
            "              name    mass  radius  discovered\n",
            "400     HAT-P-54 b  0.7600   0.944      2014.0\n",
            "465       HATS-5 b  0.2370   0.912      2014.0\n",
            "477       HATS-6 b  0.3190   0.998      2014.0\n",
            "1164  HIP 116454 b  0.0372   0.226      2014.0\n"
          ]
        }
      ],
      "source": [
        "# экзопланеты меньше Земли и ещё открытые в 2014 году\n",
        "\n",
        "exo_small_14 = exoplanet[ (exoplanet['radius']<1) & (exoplanet['discovered']==2014)]\n",
        "print(exo_small_14)"
      ]
    },
    {
      "cell_type": "markdown",
      "metadata": {
        "id": "eenMPeWcOZZi"
      },
      "source": [
        "Отсортируем результат в порядке убывания радиуса.\n",
        "\n",
        "**print(exo_small_14.sort_values(by = 'radius', ascending = False))**\n"
      ]
    },
    {
      "cell_type": "code",
      "execution_count": null,
      "metadata": {
        "id": "TSHqcSenOZZi",
        "outputId": "b3c35262-55d9-4b52-da54-21da4218c97b"
      },
      "outputs": [
        {
          "name": "stdout",
          "output_type": "stream",
          "text": [
            "              name    mass  radius  discovered\n",
            "477       HATS-6 b  0.3190   0.998      2014.0\n",
            "400     HAT-P-54 b  0.7600   0.944      2014.0\n",
            "465       HATS-5 b  0.2370   0.912      2014.0\n",
            "1164  HIP 116454 b  0.0372   0.226      2014.0\n"
          ]
        }
      ],
      "source": [
        "print(exo_small_14.sort_values(by = 'radius', ascending = False))"
      ]
    },
    {
      "cell_type": "markdown",
      "metadata": {
        "id": "ogLxDLgfOZZi"
      },
      "source": [
        "Самая крупная планета, Kepler 106 d – почти как Земля, вращается вокруг звезды Kepler 106 в созвездии Лебедя. Эта звезда очень похожа на наше Солнце. Правда, до неё 1435 световых лет — далековато. Но, возможно, учёные что-нибудь придумают. А мы пока применим эту технологию к нашему бизнесу, в «приземлённой» задаче.\n",
        "## Задача\n",
        "\n",
        "1. Космический телескоп Kepler открыл похожую на Землю планету у похожей на Солнце звезды. А вы в данных Яндекс.Музыки обнаружили меломана с уникальными данными. Он за день послушал больше 50 композиций.\n",
        "Получите таблицу с прослушанными им треками.\n",
        "\n",
        "Для этого запросите из структуры данных df строки, отвечающие сразу двум условиям:\n",
        "\n",
        "1) значение в столбце 'user_id' должно быть равно значению переменной search_id;\n",
        "\n",
        "2) время прослушивания, т.е. значение в столбце 'total_play_seconds', не должно равняться 0.\n",
        "\n",
        "Сохраните результат в переменной music_user.\n",
        "\n",
        "2. Теперь узнаем, сколько времени он слушал музыку каждого жанра.\n",
        "\n",
        "Сгруппируйте данные таблицы music_user по столбцу 'genre_name' и получите сумму значений столбца 'total_play_seconds'. Сохраните результат в переменной sum_music_user и выведите её значение на экран.\n",
        "\n",
        "3. Кажется, предпочтения нашего меломана начинают проявляться. Но, возможно, длительность композиций от жанра к жанру сильно различается. Важно знать, сколько треков каждого жанра он включил.\n",
        "\n",
        "Сгруппируйте данные по столбцу genre_name и посчитайте, сколько значений в столбце genre_name. Сохраните результат в переменной count_music_user и выведите её значение на экран.\n",
        "\n",
        "4. Чтобы предпочтения были видны сразу, нужно крупнейшие значения расположить наверху. Отсортируйте данные в группировке sum_music_user по убыванию. Внимание: когда применяете метод sort_values() к Series с единственным столбцом, аргумент by указывать не нужно, только порядок сортировки.\n",
        "\n",
        "Сохраните результат в переменной final_sum и выведите её значение на экран.\n",
        "\n",
        "5. Теперь то же самое надо сделать с числом прослушанных меломаном композиций. Отсортируйте данные группировки count_music_user по убыванию. Сохраните результат в переменной final_count, значение которой выведите на экран.\n"
      ]
    },
    {
      "cell_type": "code",
      "execution_count": null,
      "metadata": {
        "id": "fo8YJvycOZZj",
        "outputId": "e63f3463-bcdb-493b-c636-a61c8a2290f1"
      },
      "outputs": [
        {
          "name": "stdout",
          "output_type": "stream",
          "text": [
            "ЗАДАНИЕ 1\n",
            "\n",
            "        user_id track_name artist_name  genre_name              city  \\\n",
            "274    7D166C63    unknown     unknown        jazz  Saint-Petersburg   \n",
            "2375   7D166C63    unknown     unknown         pop  Saint-Petersburg   \n",
            "2561   7D166C63    unknown     unknown     country  Saint-Petersburg   \n",
            "3096   7D166C63    unknown     unknown    schlager  Saint-Petersburg   \n",
            "4334   7D166C63    unknown     unknown        jazz  Saint-Petersburg   \n",
            "5671   7D166C63    unknown     unknown         pop  Saint-Petersburg   \n",
            "6498   7D166C63    unknown     unknown         pop  Saint-Petersburg   \n",
            "7187   7D166C63    unknown     unknown         pop  Saint-Petersburg   \n",
            "8388   7D166C63    unknown     unknown         pop  Saint-Petersburg   \n",
            "8906   7D166C63    unknown     unknown        jazz  Saint-Petersburg   \n",
            "9408   7D166C63    unknown     unknown        rock  Saint-Petersburg   \n",
            "11810  7D166C63    unknown     unknown         pop  Saint-Petersburg   \n",
            "13593  7D166C63    unknown     unknown        rock  Saint-Petersburg   \n",
            "14889  7D166C63    unknown     unknown         pop  Saint-Petersburg   \n",
            "16019  7D166C63    unknown     unknown    schlager  Saint-Petersburg   \n",
            "16367  7D166C63    unknown     unknown   classical  Saint-Petersburg   \n",
            "18432  7D166C63    unknown     unknown        jazz  Saint-Petersburg   \n",
            "18546  7D166C63    unknown     unknown        jazz  Saint-Petersburg   \n",
            "18931  7D166C63    unknown     unknown    schlager  Saint-Petersburg   \n",
            "19184  7D166C63    unknown     unknown         pop  Saint-Petersburg   \n",
            "19196  7D166C63    unknown     unknown         pop  Saint-Petersburg   \n",
            "19805  7D166C63    unknown     unknown         pop  Saint-Petersburg   \n",
            "19957  7D166C63    unknown     unknown        jazz  Saint-Petersburg   \n",
            "20237  7D166C63    unknown     unknown        rock  Saint-Petersburg   \n",
            "21930  7D166C63    unknown     unknown    schlager  Saint-Petersburg   \n",
            "24396  7D166C63    unknown     unknown         rnb  Saint-Petersburg   \n",
            "25888  7D166C63    unknown     unknown        jazz  Saint-Petersburg   \n",
            "27766  7D166C63    unknown     unknown  soundtrack  Saint-Petersburg   \n",
            "27911  7D166C63    unknown     unknown      reggae  Saint-Petersburg   \n",
            "30855  7D166C63    unknown     unknown      ghazal  Saint-Petersburg   \n",
            "31435  7D166C63    unknown     unknown    schlager  Saint-Petersburg   \n",
            "32057  7D166C63    unknown     unknown        rock  Saint-Petersburg   \n",
            "36122  7D166C63    unknown     unknown       dance  Saint-Petersburg   \n",
            "37806  7D166C63    unknown     unknown       dance  Saint-Petersburg   \n",
            "38215  7D166C63    unknown     unknown        jazz  Saint-Petersburg   \n",
            "40217  7D166C63    unknown     unknown         pop  Saint-Petersburg   \n",
            "42656  7D166C63    unknown     unknown        jazz  Saint-Petersburg   \n",
            "43443  7D166C63    unknown     unknown        jazz  Saint-Petersburg   \n",
            "45793  7D166C63    unknown     unknown         pop  Saint-Petersburg   \n",
            "46351  7D166C63    unknown     unknown         pop  Saint-Petersburg   \n",
            "46962  7D166C63    unknown     unknown         pop  Saint-Petersburg   \n",
            "47653  7D166C63    unknown     unknown        jazz  Saint-Petersburg   \n",
            "48692  7D166C63    unknown     unknown         pop  Saint-Petersburg   \n",
            "49130  7D166C63    unknown     unknown        jazz  Saint-Petersburg   \n",
            "49742  7D166C63    unknown     unknown        rock  Saint-Petersburg   \n",
            "51393  7D166C63    unknown     unknown         hip  Saint-Petersburg   \n",
            "52435  7D166C63    unknown     unknown        jazz  Saint-Petersburg   \n",
            "54461  7D166C63    unknown     unknown        folk  Saint-Petersburg   \n",
            "56112  7D166C63    unknown     unknown    folkrock  Saint-Petersburg   \n",
            "56825  7D166C63    unknown     unknown        jazz  Saint-Petersburg   \n",
            "57610  7D166C63    unknown     unknown        punk  Saint-Petersburg   \n",
            "59260  7D166C63    unknown     unknown        jazz  Saint-Petersburg   \n",
            "61507  7D166C63    unknown     unknown        jazz  Saint-Petersburg   \n",
            "62391  7D166C63    unknown     unknown      reggae  Saint-Petersburg   \n",
            "\n",
            "      total_play_seconds        day  \n",
            "274             20:29:53  Wednesday  \n",
            "2375            20:34:44  Wednesday  \n",
            "2561            08:39:24     Monday  \n",
            "3096            08:42:55  Wednesday  \n",
            "4334            14:23:27     Monday  \n",
            "5671            08:46:51     Monday  \n",
            "6498            14:23:30     Monday  \n",
            "7187            08:25:33  Wednesday  \n",
            "8388            14:22:43     Monday  \n",
            "8906            14:16:10     Monday  \n",
            "9408            14:12:02     Monday  \n",
            "11810           09:04:15     Monday  \n",
            "13593           14:23:43     Monday  \n",
            "14889           20:30:23  Wednesday  \n",
            "16019           08:39:38  Wednesday  \n",
            "16367           20:26:32  Wednesday  \n",
            "18432           14:23:06     Monday  \n",
            "18546           08:39:39  Wednesday  \n",
            "18931           14:13:54     Monday  \n",
            "19184           14:10:05     Monday  \n",
            "19196           14:34:24     Monday  \n",
            "19805           08:39:48     Monday  \n",
            "19957           14:09:57     Monday  \n",
            "20237           08:35:58  Wednesday  \n",
            "21930           09:04:19     Monday  \n",
            "24396           08:32:10  Wednesday  \n",
            "25888           08:35:38  Wednesday  \n",
            "27766           14:09:56     Monday  \n",
            "27911           08:46:55     Monday  \n",
            "30855           08:32:18  Wednesday  \n",
            "31435           08:35:45  Wednesday  \n",
            "32057           08:56:30     Monday  \n",
            "36122           14:11:56     Monday  \n",
            "37806           14:23:32     Monday  \n",
            "38215           08:47:08     Monday  \n",
            "40217           14:23:01     Monday  \n",
            "42656           14:06:29     Monday  \n",
            "43443           14:12:40     Monday  \n",
            "45793           20:16:38  Wednesday  \n",
            "46351           14:09:37     Monday  \n",
            "46962           08:39:48     Monday  \n",
            "47653           20:29:59  Wednesday  \n",
            "48692           14:23:30     Monday  \n",
            "49130           08:56:35     Monday  \n",
            "49742           08:35:58  Wednesday  \n",
            "51393           20:29:56  Wednesday  \n",
            "52435           08:42:54  Wednesday  \n",
            "54461           13:52:18     Monday  \n",
            "56112           14:29:08     Monday  \n",
            "56825           08:47:03     Monday  \n",
            "57610           13:52:12     Monday  \n",
            "59260           14:28:36     Monday  \n",
            "61507           20:30:15  Wednesday  \n",
            "62391           09:04:14     Monday  \n",
            "ЗАДАНИЕ 2\n",
            "genre_name\n",
            "classical                                              20:26:32\n",
            "country                                                08:39:24\n",
            "dance                                          14:11:5614:23:32\n",
            "folk                                                   13:52:18\n",
            "folkrock                                               14:29:08\n",
            "ghazal                                                 08:32:18\n",
            "hip                                                    20:29:56\n",
            "jazz          20:29:5314:23:2714:16:1014:23:0608:39:3914:09:...\n",
            "pop           20:34:4408:46:5114:23:3008:25:3314:22:4309:04:...\n",
            "punk                                                   13:52:12\n",
            "reggae                                         08:46:5509:04:14\n",
            "rnb                                                    08:32:10\n",
            "rock                   14:12:0214:23:4308:35:5808:56:3008:35:58\n",
            "schlager               08:42:5508:39:3814:13:5409:04:1908:35:45\n",
            "soundtrack                                             14:09:56\n",
            "Name: total_play_seconds, dtype: object\n",
            "\n",
            "ЗАДАНИЕ 3\n",
            "\n",
            "genre_name\n",
            "classical      1\n",
            "country        1\n",
            "dance          2\n",
            "folk           1\n",
            "folkrock       1\n",
            "ghazal         1\n",
            "hip            1\n",
            "jazz          16\n",
            "pop           15\n",
            "punk           1\n",
            "reggae         2\n",
            "rnb            1\n",
            "rock           5\n",
            "schlager       5\n",
            "soundtrack     1\n",
            "Name: genre_name, dtype: int64\n"
          ]
        }
      ],
      "source": [
        "# задание 1\n",
        "print('ЗАДАНИЕ 1\\n')\n",
        "music_user = yandex_music[(yandex_music['user_id'] == search_id) & (yandex_music['total_play_seconds'] != 0)]\n",
        "print(music_user)\n",
        "\n",
        "# задание 2\n",
        "print('ЗАДАНИЕ 2')\n",
        "sum_music_user = music_user.groupby('genre_name')['total_play_seconds'].sum()\n",
        "print(sum_music_user)\n",
        "\n",
        "# задание 3\n",
        "print('\\nЗАДАНИЕ 3\\n')\n",
        "count_music_user = music_user.groupby('genre_name')['genre_name'].count()\n",
        "print(count_music_user)\n"
      ]
    },
    {
      "cell_type": "code",
      "execution_count": null,
      "metadata": {
        "id": "eTLE_gC-OZZj",
        "outputId": "bc12dd2e-bd04-451d-8b67-ff917aabed9b"
      },
      "outputs": [
        {
          "name": "stdout",
          "output_type": "stream",
          "text": [
            "\n",
            "ЗАДАНИЕ 4\n",
            "\n",
            "genre_name\n",
            "pop           20:34:4408:46:5114:23:3008:25:3314:22:4309:04:...\n",
            "hip                                                    20:29:56\n",
            "jazz          20:29:5314:23:2714:16:1014:23:0608:39:3914:09:...\n",
            "classical                                              20:26:32\n",
            "folkrock                                               14:29:08\n",
            "rock                   14:12:0214:23:4308:35:5808:56:3008:35:58\n",
            "dance                                          14:11:5614:23:32\n",
            "soundtrack                                             14:09:56\n",
            "folk                                                   13:52:18\n",
            "punk                                                   13:52:12\n",
            "reggae                                         08:46:5509:04:14\n",
            "schlager               08:42:5508:39:3814:13:5409:04:1908:35:45\n",
            "country                                                08:39:24\n",
            "ghazal                                                 08:32:18\n",
            "rnb                                                    08:32:10\n",
            "Name: total_play_seconds, dtype: object\n",
            "\n",
            "ЗАДАНИЕ 5\n",
            "\n",
            "genre_name\n",
            "jazz          16\n",
            "pop           15\n",
            "rock           5\n",
            "schlager       5\n",
            "dance          2\n",
            "reggae         2\n",
            "classical      1\n",
            "country        1\n",
            "folk           1\n",
            "folkrock       1\n",
            "ghazal         1\n",
            "hip            1\n",
            "punk           1\n",
            "rnb            1\n",
            "soundtrack     1\n",
            "Name: genre_name, dtype: int64\n"
          ]
        }
      ],
      "source": [
        "# задание 4\n",
        "print('\\nЗАДАНИЕ 4\\n')\n",
        "final_sum = sum_music_user.sort_values(ascending=False)\n",
        "print(final_sum)\n",
        "\n",
        "# задание 5\n",
        "print('\\nЗАДАНИЕ 5\\n')\n",
        "final_count = count_music_user.sort_values(ascending=False)\n",
        "print(final_count)\n"
      ]
    },
    {
      "cell_type": "code",
      "execution_count": null,
      "metadata": {
        "id": "I2seRSJgOZZj",
        "outputId": "7078dfb7-bbff-4224-8725-83021521e027"
      },
      "outputs": [
        {
          "name": "stdout",
          "output_type": "stream",
          "text": [
            "291\n"
          ]
        }
      ],
      "source": [
        "\n",
        "zadacha = yandex_music[(yandex_music['genre_name'] == 'folk') & (yandex_music['city'] == 'Moscow')&(yandex_music['day'] == 'Monday')]\n",
        "print(zadacha['user_id'].count())\n",
        "\n"
      ]
    }
  ],
  "metadata": {
    "kernelspec": {
      "display_name": "Python 3 (ipykernel)",
      "language": "python",
      "name": "python3"
    },
    "language_info": {
      "codemirror_mode": {
        "name": "ipython",
        "version": 3
      },
      "file_extension": ".py",
      "mimetype": "text/x-python",
      "name": "python",
      "nbconvert_exporter": "python",
      "pygments_lexer": "ipython3",
      "version": "3.10.0"
    },
    "colab": {
      "provenance": [],
      "include_colab_link": true
    }
  },
  "nbformat": 4,
  "nbformat_minor": 0
}